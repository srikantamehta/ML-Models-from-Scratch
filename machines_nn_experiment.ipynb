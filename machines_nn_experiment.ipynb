{
 "cells": [
  {
   "cell_type": "code",
   "execution_count": 1,
   "metadata": {},
   "outputs": [],
   "source": [
    "from src.data_preprocessor import DataProcessor\n",
    "from data_configs.configs import *\n",
    "from models.neural_networks import *\n",
    "from src.cross_validation import CrossValidation\n",
    "import numpy as np\n",
    "\n",
    "config = machine_config\n",
    "data_processor = DataProcessor(config=config)\n",
    "cross_validator = CrossValidation(config=config)"
   ]
  },
  {
   "cell_type": "code",
   "execution_count": 2,
   "metadata": {},
   "outputs": [
    {
     "name": "stderr",
     "output_type": "stream",
     "text": [
      "c:\\Users\\Srikanta\\Documents\\Intro to Machine Learning\\programming_assignment_1\\src\\data_preprocessor.py:44: FutureWarning: A value is trying to be set on a copy of a DataFrame or Series through chained assignment using an inplace method.\n",
      "The behavior will change in pandas 3.0. This inplace method will never work because the intermediate object on which we are setting values always behaves as a copy.\n",
      "\n",
      "For example, when doing 'df[col].method(value, inplace=True)', try using 'df.method({col: value}, inplace=True)' or df[col] = df[col].method(value) instead, to perform the operation inplace on the original object.\n",
      "\n",
      "\n",
      "  data[column].fillna(data[column].mean(), inplace=True)\n"
     ]
    }
   ],
   "source": [
    "raw_data = data_processor.load_data()\n",
    "data_1 = raw_data.drop(columns=['vendor_name','model_name','ERP'])\n",
    "data_2 = data_processor.impute_missing_values(data_1)\n",
    "data_3 = data_processor.standardize_data(data_2,data_2,features=['MYCT', 'MMIN', 'MMAX', 'CACH', 'CHMIN', 'CHMAX'])\n"
   ]
  },
  {
   "cell_type": "code",
   "execution_count": 3,
   "metadata": {},
   "outputs": [
    {
     "data": {
      "text/html": [
       "<div>\n",
       "<style scoped>\n",
       "    .dataframe tbody tr th:only-of-type {\n",
       "        vertical-align: middle;\n",
       "    }\n",
       "\n",
       "    .dataframe tbody tr th {\n",
       "        vertical-align: top;\n",
       "    }\n",
       "\n",
       "    .dataframe thead th {\n",
       "        text-align: right;\n",
       "    }\n",
       "</style>\n",
       "<table border=\"1\" class=\"dataframe\">\n",
       "  <thead>\n",
       "    <tr style=\"text-align: right;\">\n",
       "      <th></th>\n",
       "      <th>MYCT</th>\n",
       "      <th>MMIN</th>\n",
       "      <th>MMAX</th>\n",
       "      <th>CACH</th>\n",
       "      <th>CHMIN</th>\n",
       "      <th>CHMAX</th>\n",
       "      <th>PRP</th>\n",
       "    </tr>\n",
       "  </thead>\n",
       "  <tbody>\n",
       "    <tr>\n",
       "      <th>0</th>\n",
       "      <td>-0.302859</td>\n",
       "      <td>-0.673409</td>\n",
       "      <td>-0.494275</td>\n",
       "      <td>5.680569</td>\n",
       "      <td>1.658008</td>\n",
       "      <td>4.220899</td>\n",
       "      <td>198</td>\n",
       "    </tr>\n",
       "    <tr>\n",
       "      <th>1</th>\n",
       "      <td>-0.671717</td>\n",
       "      <td>1.323114</td>\n",
       "      <td>1.722913</td>\n",
       "      <td>0.167228</td>\n",
       "      <td>0.484346</td>\n",
       "      <td>0.528211</td>\n",
       "      <td>269</td>\n",
       "    </tr>\n",
       "    <tr>\n",
       "      <th>2</th>\n",
       "      <td>-0.671717</td>\n",
       "      <td>1.323114</td>\n",
       "      <td>1.722913</td>\n",
       "      <td>0.167228</td>\n",
       "      <td>0.484346</td>\n",
       "      <td>0.528211</td>\n",
       "      <td>220</td>\n",
       "    </tr>\n",
       "    <tr>\n",
       "      <th>3</th>\n",
       "      <td>-0.671717</td>\n",
       "      <td>1.323114</td>\n",
       "      <td>1.722913</td>\n",
       "      <td>0.167228</td>\n",
       "      <td>0.484346</td>\n",
       "      <td>0.528211</td>\n",
       "      <td>172</td>\n",
       "    </tr>\n",
       "    <tr>\n",
       "      <th>4</th>\n",
       "      <td>-0.671717</td>\n",
       "      <td>1.323114</td>\n",
       "      <td>0.358489</td>\n",
       "      <td>0.167228</td>\n",
       "      <td>0.484346</td>\n",
       "      <td>-0.087238</td>\n",
       "      <td>132</td>\n",
       "    </tr>\n",
       "    <tr>\n",
       "      <th>...</th>\n",
       "      <td>...</td>\n",
       "      <td>...</td>\n",
       "      <td>...</td>\n",
       "      <td>...</td>\n",
       "      <td>...</td>\n",
       "      <td>...</td>\n",
       "      <td>...</td>\n",
       "    </tr>\n",
       "    <tr>\n",
       "      <th>204</th>\n",
       "      <td>-0.306701</td>\n",
       "      <td>-0.481594</td>\n",
       "      <td>-0.323723</td>\n",
       "      <td>-0.620392</td>\n",
       "      <td>-0.542608</td>\n",
       "      <td>-0.394962</td>\n",
       "      <td>42</td>\n",
       "    </tr>\n",
       "    <tr>\n",
       "      <th>205</th>\n",
       "      <td>-0.406600</td>\n",
       "      <td>-0.481594</td>\n",
       "      <td>-0.323723</td>\n",
       "      <td>0.167228</td>\n",
       "      <td>-0.395900</td>\n",
       "      <td>-0.394962</td>\n",
       "      <td>46</td>\n",
       "    </tr>\n",
       "    <tr>\n",
       "      <th>206</th>\n",
       "      <td>-0.302859</td>\n",
       "      <td>-0.223779</td>\n",
       "      <td>-0.323723</td>\n",
       "      <td>-0.620392</td>\n",
       "      <td>-0.395900</td>\n",
       "      <td>-0.164169</td>\n",
       "      <td>52</td>\n",
       "    </tr>\n",
       "    <tr>\n",
       "      <th>207</th>\n",
       "      <td>1.061146</td>\n",
       "      <td>-0.607408</td>\n",
       "      <td>-0.323723</td>\n",
       "      <td>0.167228</td>\n",
       "      <td>-0.689316</td>\n",
       "      <td>-0.702686</td>\n",
       "      <td>67</td>\n",
       "    </tr>\n",
       "    <tr>\n",
       "      <th>208</th>\n",
       "      <td>1.061146</td>\n",
       "      <td>-0.481594</td>\n",
       "      <td>-0.664828</td>\n",
       "      <td>-0.620392</td>\n",
       "      <td>-0.689316</td>\n",
       "      <td>-0.702686</td>\n",
       "      <td>45</td>\n",
       "    </tr>\n",
       "  </tbody>\n",
       "</table>\n",
       "<p>209 rows × 7 columns</p>\n",
       "</div>"
      ],
      "text/plain": [
       "         MYCT      MMIN      MMAX      CACH     CHMIN     CHMAX  PRP\n",
       "0   -0.302859 -0.673409 -0.494275  5.680569  1.658008  4.220899  198\n",
       "1   -0.671717  1.323114  1.722913  0.167228  0.484346  0.528211  269\n",
       "2   -0.671717  1.323114  1.722913  0.167228  0.484346  0.528211  220\n",
       "3   -0.671717  1.323114  1.722913  0.167228  0.484346  0.528211  172\n",
       "4   -0.671717  1.323114  0.358489  0.167228  0.484346 -0.087238  132\n",
       "..        ...       ...       ...       ...       ...       ...  ...\n",
       "204 -0.306701 -0.481594 -0.323723 -0.620392 -0.542608 -0.394962   42\n",
       "205 -0.406600 -0.481594 -0.323723  0.167228 -0.395900 -0.394962   46\n",
       "206 -0.302859 -0.223779 -0.323723 -0.620392 -0.395900 -0.164169   52\n",
       "207  1.061146 -0.607408 -0.323723  0.167228 -0.689316 -0.702686   67\n",
       "208  1.061146 -0.481594 -0.664828 -0.620392 -0.689316 -0.702686   45\n",
       "\n",
       "[209 rows x 7 columns]"
      ]
     },
     "execution_count": 3,
     "metadata": {},
     "output_type": "execute_result"
    }
   ],
   "source": [
    "data_3"
   ]
  },
  {
   "cell_type": "code",
   "execution_count": 4,
   "metadata": {},
   "outputs": [],
   "source": [
    "data_train, data_val = cross_validator.random_partition(data_3, random_state=42)"
   ]
  },
  {
   "cell_type": "code",
   "execution_count": 5,
   "metadata": {},
   "outputs": [],
   "source": [
    "data = data_train.to_numpy()\n",
    "X_train = data[:,:-1]\n",
    "y_train = data[:,-1:]"
   ]
  },
  {
   "cell_type": "code",
   "execution_count": 6,
   "metadata": {},
   "outputs": [],
   "source": [
    "data_test = data_val.to_numpy()\n",
    "X_val = data_test[:,:-1]\n",
    "y_val = data_test[:,-1:]"
   ]
  },
  {
   "cell_type": "code",
   "execution_count": 7,
   "metadata": {},
   "outputs": [
    {
     "name": "stdout",
     "output_type": "stream",
     "text": [
      "Epoch 0/10000, Train MSE: 29109.371674981892, Val MSE: 67840.49282411646\n",
      "Epoch 100/10000, Train MSE: 26496.35057744831, Val MSE: 63386.896185909885\n",
      "Epoch 200/10000, Train MSE: 12734.82251994463, Val MSE: 41693.915924805035\n",
      "Epoch 300/10000, Train MSE: 9922.856214943202, Val MSE: 35036.15755702155\n",
      "Epoch 400/10000, Train MSE: 8509.69485590909, Val MSE: 31073.71249471933\n",
      "Epoch 500/10000, Train MSE: 7661.005074226708, Val MSE: 28383.639832489996\n",
      "Epoch 600/10000, Train MSE: 7777.723240761156, Val MSE: 27691.573928539558\n",
      "Epoch 700/10000, Train MSE: 7161.851835175684, Val MSE: 26068.838537309235\n",
      "Epoch 800/10000, Train MSE: 6914.238485420907, Val MSE: 25064.28131058989\n",
      "Epoch 900/10000, Train MSE: 6703.244830631611, Val MSE: 24212.822845895233\n",
      "Epoch 1000/10000, Train MSE: 6520.185515353986, Val MSE: 23478.94752373161\n",
      "Epoch 1100/10000, Train MSE: 6358.964601870783, Val MSE: 22842.291899901848\n",
      "Epoch 1200/10000, Train MSE: 6188.694966385071, Val MSE: 22279.491427567737\n",
      "Epoch 1300/10000, Train MSE: 5985.801894201564, Val MSE: 21761.268011153687\n",
      "Epoch 1400/10000, Train MSE: 5703.02798837439, Val MSE: 21076.709770468737\n",
      "Epoch 1500/10000, Train MSE: 4882.455135691104, Val MSE: 19380.552607831414\n",
      "Epoch 1600/10000, Train MSE: 4215.578003827085, Val MSE: 17734.59044024555\n",
      "Epoch 1700/10000, Train MSE: 3855.796367412235, Val MSE: 16336.007727350467\n",
      "Epoch 1800/10000, Train MSE: 3628.128227536759, Val MSE: 15111.293679543314\n",
      "Epoch 1900/10000, Train MSE: 3411.588277143275, Val MSE: 14350.408511985754\n",
      "Epoch 2000/10000, Train MSE: 3224.1908815404586, Val MSE: 13708.837513805885\n",
      "Epoch 2100/10000, Train MSE: 3052.394454686898, Val MSE: 13196.364576974747\n",
      "Epoch 2200/10000, Train MSE: 2858.4518043727194, Val MSE: 12709.10969300437\n",
      "Epoch 2300/10000, Train MSE: 2676.6050431444964, Val MSE: 12260.382093672131\n",
      "Epoch 2400/10000, Train MSE: 2496.9547543064523, Val MSE: 11784.062458470622\n",
      "Epoch 2500/10000, Train MSE: 2350.480809483632, Val MSE: 11299.374440456024\n",
      "Epoch 2600/10000, Train MSE: 2245.3965204457577, Val MSE: 10827.532887053403\n",
      "Epoch 2700/10000, Train MSE: 2133.623784682759, Val MSE: 10415.733727966672\n",
      "Epoch 2800/10000, Train MSE: 2031.690037434147, Val MSE: 9992.280800896584\n",
      "Epoch 2900/10000, Train MSE: 1943.7177525481954, Val MSE: 9587.362136542015\n",
      "Epoch 3000/10000, Train MSE: 1867.0128205363662, Val MSE: 9246.384545017994\n",
      "Epoch 3100/10000, Train MSE: 1809.1819481901814, Val MSE: 8969.176289019562\n",
      "Epoch 3200/10000, Train MSE: 1744.3877497495555, Val MSE: 8750.008351712944\n",
      "Epoch 3300/10000, Train MSE: 1684.3049670147725, Val MSE: 8552.148167882919\n",
      "Epoch 3400/10000, Train MSE: 1626.1804971299023, Val MSE: 8362.944371658657\n",
      "Epoch 3500/10000, Train MSE: 1569.7927867597532, Val MSE: 8164.527237932156\n",
      "Epoch 3600/10000, Train MSE: 1521.878805069493, Val MSE: 7929.3846991470145\n",
      "Epoch 3700/10000, Train MSE: 1481.210856652912, Val MSE: 7656.716533016821\n",
      "Epoch 3800/10000, Train MSE: 1434.85676344283, Val MSE: 7414.772068279992\n",
      "Epoch 3900/10000, Train MSE: 1389.9986850846362, Val MSE: 7197.673907413658\n",
      "Epoch 4000/10000, Train MSE: 1346.932957236154, Val MSE: 7003.738688877974\n",
      "Epoch 4100/10000, Train MSE: 1305.5783716972496, Val MSE: 6831.994311632005\n",
      "Epoch 4200/10000, Train MSE: 1265.8605017580462, Val MSE: 6681.577007754196\n",
      "Epoch 4300/10000, Train MSE: 1227.7266331197443, Val MSE: 6551.564750187332\n",
      "Epoch 4400/10000, Train MSE: 1191.1293168390036, Val MSE: 6440.94760109761\n",
      "Epoch 4500/10000, Train MSE: 1156.0155328941157, Val MSE: 6348.666317057786\n",
      "Epoch 4600/10000, Train MSE: 1122.3239922741118, Val MSE: 6273.665683588365\n",
      "Epoch 4700/10000, Train MSE: 1089.9871740945407, Val MSE: 6214.936356134191\n",
      "Epoch 4800/10000, Train MSE: 1058.9347554661047, Val MSE: 6171.539829400875\n",
      "Epoch 4900/10000, Train MSE: 1029.0965910442408, Val MSE: 6142.618955171723\n",
      "Epoch 5000/10000, Train MSE: 1000.4047173052523, Val MSE: 6127.394645194732\n",
      "Epoch 5100/10000, Train MSE: 972.7944705371351, Val MSE: 6125.144867024581\n",
      "Epoch 5200/10000, Train MSE: 946.2049078388897, Val MSE: 6135.161091884338\n",
      "Epoch 5300/10000, Train MSE: 920.5787478946979, Val MSE: 6156.68308764134\n",
      "Epoch 5400/10000, Train MSE: 895.8621913163505, Val MSE: 6188.823257015309\n",
      "Epoch 5500/10000, Train MSE: 872.0051485901643, Val MSE: 6230.5005072228305\n",
      "Epoch 5600/10000, Train MSE: 848.9624808959514, Val MSE: 6280.404592052859\n",
      "Epoch 5700/10000, Train MSE: 826.6966585235544, Val MSE: 6337.001689056477\n",
      "Epoch 5800/10000, Train MSE: 805.1812695844699, Val MSE: 6398.572909996386\n",
      "Epoch 5900/10000, Train MSE: 784.402973947236, Val MSE: 6463.263002924809\n",
      "Epoch 6000/10000, Train MSE: 764.3591206404524, Val MSE: 6529.130725944084\n",
      "Epoch 6100/10000, Train MSE: 745.0517327528628, Val MSE: 6594.226522302015\n",
      "Epoch 6200/10000, Train MSE: 726.4814160739486, Val MSE: 6656.7155364910195\n",
      "Epoch 6300/10000, Train MSE: 708.6428411211938, Val MSE: 6715.014405394791\n",
      "Epoch 6400/10000, Train MSE: 691.521689518205, Val MSE: 6767.894614738045\n",
      "Epoch 6500/10000, Train MSE: 675.0934445566352, Val MSE: 6814.52921686303\n",
      "Epoch 6600/10000, Train MSE: 659.324343100232, Val MSE: 6854.481451356379\n",
      "Epoch 6700/10000, Train MSE: 644.1740246431181, Val MSE: 6887.647497365968\n",
      "Epoch 6800/10000, Train MSE: 629.5991003322396, Val MSE: 6914.176700571676\n",
      "Epoch 6900/10000, Train MSE: 615.5569714390227, Val MSE: 6934.394497316239\n",
      "Epoch 7000/10000, Train MSE: 602.0092854934387, Val MSE: 6948.743684661652\n",
      "Epoch 7100/10000, Train MSE: 588.9244573941185, Val MSE: 6957.74710180653\n",
      "Epoch 7200/10000, Train MSE: 576.278862978444, Val MSE: 6961.986130437343\n",
      "Epoch 7300/10000, Train MSE: 564.0565859814511, Val MSE: 6962.085263104143\n",
      "Epoch 7400/10000, Train MSE: 552.2478850008214, Val MSE: 6958.69300132573\n",
      "Epoch 7500/10000, Train MSE: 540.8468183280257, Val MSE: 6952.454235949477\n",
      "Epoch 7600/10000, Train MSE: 529.8486428374838, Val MSE: 6943.977374924072\n",
      "Epoch 7700/10000, Train MSE: 519.2475999823781, Val MSE: 6933.805951186859\n",
      "Epoch 7800/10000, Train MSE: 509.03557502394625, Val MSE: 6922.4044695696\n",
      "Epoch 7900/10000, Train MSE: 499.2022920602694, Val MSE: 6910.156236098249\n",
      "Epoch 8000/10000, Train MSE: 489.74575534140087, Val MSE: 6897.272873432045\n",
      "Epoch 8100/10000, Train MSE: 482.88079527521757, Val MSE: 6879.247507674789\n",
      "Epoch 8200/10000, Train MSE: 464.701635754633, Val MSE: 6957.786206564981\n",
      "Epoch 8300/10000, Train MSE: 472.602153987439, Val MSE: 6931.006559107242\n",
      "Epoch 8400/10000, Train MSE: 454.3465937983642, Val MSE: 6947.300555672214\n",
      "Epoch 8500/10000, Train MSE: 461.56518058983977, Val MSE: 6958.143022164879\n",
      "Epoch 8600/10000, Train MSE: 442.9039515979847, Val MSE: 6936.500043508267\n",
      "Epoch 8700/10000, Train MSE: 441.52034210218056, Val MSE: 6942.7438369922265\n",
      "Epoch 8800/10000, Train MSE: 430.9182520576153, Val MSE: 6929.292776021701\n",
      "Epoch 8900/10000, Train MSE: 425.7078806198161, Val MSE: 6928.808168194186\n",
      "Epoch 9000/10000, Train MSE: 418.39651673767827, Val MSE: 6921.923261443679\n",
      "Epoch 9100/10000, Train MSE: 412.318948839142, Val MSE: 6919.137904320211\n",
      "Epoch 9200/10000, Train MSE: 406.12126918065144, Val MSE: 6915.327869452948\n",
      "Epoch 9300/10000, Train MSE: 400.1995527623416, Val MSE: 6912.919926979564\n",
      "Epoch 9400/10000, Train MSE: 394.4963225575126, Val MSE: 6911.020114766074\n",
      "Epoch 9500/10000, Train MSE: 388.93303070657277, Val MSE: 6910.026604622775\n",
      "Epoch 9600/10000, Train MSE: 383.58174946591475, Val MSE: 6909.909103547201\n",
      "Epoch 9700/10000, Train MSE: 378.3697064142824, Val MSE: 6910.70807673082\n",
      "Epoch 9800/10000, Train MSE: 373.3336286853174, Val MSE: 6912.481920815359\n",
      "Epoch 9900/10000, Train MSE: 368.4407486561074, Val MSE: 6915.235093176709\n"
     ]
    }
   ],
   "source": [
    "ffn = FeedForwardNetwork(config,n_input=X_train.shape[1],n_hidden_1=100,n_hidden_2=200,n_output=1)\n",
    "\n",
    "MSEs, val_metrics, final_mse = ffn.train(X_train,y_train,X_val,y_val,10000,0.000001)"
   ]
  },
  {
   "cell_type": "code",
   "execution_count": 8,
   "metadata": {},
   "outputs": [
    {
     "data": {
      "text/plain": [
       "[<matplotlib.lines.Line2D at 0x1d4f217a910>]"
      ]
     },
     "execution_count": 8,
     "metadata": {},
     "output_type": "execute_result"
    },
    {
     "data": {
      "image/png": "[encoded data removed]",
      "text/plain": [
       "<Figure size 640x480 with 1 Axes>"
      ]
     },
     "metadata": {},
     "output_type": "display_data"
    }
   ],
   "source": [
    "import matplotlib.pyplot as plt\n",
    "\n",
    "plt.plot(MSEs)\n",
    "plt.plot(val_metrics)"
   ]
  },
  {
   "cell_type": "code",
   "execution_count": 9,
   "metadata": {},
   "outputs": [
    {
     "name": "stdout",
     "output_type": "stream",
     "text": [
      "Epoch 0/1000, Training MSE: 29107.59875170291, Validation MSE: 63398.09824737551\n",
      "Epoch 100/1000, Training MSE: 3556.0236182908047, Validation MSE: 7197.061572195123\n",
      "Epoch 200/1000, Training MSE: 3161.4298651221984, Validation MSE: 5920.6500364991325\n",
      "Epoch 300/1000, Training MSE: 3126.3998435071767, Validation MSE: 5693.820298800771\n",
      "Epoch 400/1000, Training MSE: 3119.7946828102413, Validation MSE: 5639.43231951588\n",
      "Epoch 500/1000, Training MSE: 3118.232172177765, Validation MSE: 5626.08195732486\n",
      "Epoch 600/1000, Training MSE: 3117.8258045591174, Validation MSE: 5623.764133919223\n",
      "No improvement in validation MSE for 50 epochs, stopping training.\n"
     ]
    }
   ],
   "source": [
    "linear = LinearNetwork(config)\n",
    "\n",
    "losses = linear.linear_regression(X_train,y_train,X_val,y_val)"
   ]
  }
 ],
 "metadata": {
  "kernelspec": {
   "display_name": "Python 3",
   "language": "python",
   "name": "python3"
  },
  "language_info": {
   "codemirror_mode": {
    "name": "ipython",
    "version": 3
   },
   "file_extension": ".py",
   "mimetype": "text/x-python",
   "name": "python",
   "nbconvert_exporter": "python",
   "pygments_lexer": "ipython3",
   "version": "3.11.8"
  }
 },
 "nbformat": 4,
 "nbformat_minor": 2
}
