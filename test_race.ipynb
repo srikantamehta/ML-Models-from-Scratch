{
 "cells": [
  {
   "cell_type": "code",
   "execution_count": 16,
   "metadata": {},
   "outputs": [],
   "source": [
    "from models.reinforcement_learning import *"
   ]
  },
  {
   "cell_type": "code",
   "execution_count": 17,
   "metadata": {},
   "outputs": [],
   "source": [
    "track_file = 'datasets/L-track.txt'\n",
    "racetrack = Racetrack(track_file)"
   ]
  },
  {
   "cell_type": "code",
   "execution_count": 18,
   "metadata": {},
   "outputs": [],
   "source": [
    "# Access the loaded track data, starts, and finishes directly from the instance\n",
    "track = racetrack.track\n",
    "starts = racetrack.starting_points\n",
    "finishes  = racetrack.finish_lines"
   ]
  },
  {
   "cell_type": "code",
   "execution_count": 19,
   "metadata": {},
   "outputs": [
    {
     "data": {
      "text/plain": [
       "[(1, 6), (1, 7), (1, 8), (1, 9)]"
      ]
     },
     "execution_count": 19,
     "metadata": {},
     "output_type": "execute_result"
    }
   ],
   "source": [
    "starts"
   ]
  },
  {
   "cell_type": "code",
   "execution_count": 20,
   "metadata": {},
   "outputs": [
    {
     "name": "stdout",
     "output_type": "stream",
     "text": [
      "F\n"
     ]
    }
   ],
   "source": [
    "print(track[1][32])"
   ]
  },
  {
   "cell_type": "code",
   "execution_count": 21,
   "metadata": {},
   "outputs": [
    {
     "name": "stdout",
     "output_type": "stream",
     "text": [
      "Initial State: (1, 9, 0, 0)\n",
      "Test 1 - No Movement: (1, 9, 0, 0) Reward: -1 Done: False\n",
      "Test 2 - Max Acceleration: (2, 9, 0, 0) Reward: -1 Done: False\n",
      "Crash Detected at: (35, 9, 0, 0)\n",
      "Boundary Test: (1, 6, 0, 0) Reward: -1 Done: False\n",
      "State after reset: (1, 9, 0, 0)\n"
     ]
    }
   ],
   "source": [
    "# Create a function to test different aspects of the Simulator\n",
    "def test_simulator():\n",
    "    track_file = 'datasets/L-track.txt'\n",
    "    racetrack = Racetrack(track_file)\n",
    "    simulator = Simulator(racetrack, crash_option='nearest')\n",
    "\n",
    "    print(\"Initial State:\", (simulator.car.x, simulator.car.y, simulator.car.vx, simulator.car.vy))\n",
    "    state, reward, done = simulator.step((0, 0))\n",
    "    print(\"Test 1 - No Movement:\", state, \"Reward:\", reward, \"Done:\", done)\n",
    "\n",
    "    state, reward, done = simulator.step((1, 1))\n",
    "    print(\"Test 2 - Max Acceleration:\", state, \"Reward:\", reward, \"Done:\", done)\n",
    "\n",
    "    while not done:\n",
    "        state, reward, done = simulator.step((1, 0))\n",
    "        if simulator.check_path_for_crash(simulator.car.x, simulator.car.y, simulator.car.x + 1, simulator.car.y):\n",
    "            print(\"Crash Detected at:\", state)\n",
    "            break\n",
    "\n",
    "    simulator.car.x, simulator.car.y = 0, 0\n",
    "    state, reward, done = simulator.step((-1, -1))\n",
    "    print(\"Boundary Test:\", state, \"Reward:\", reward, \"Done:\", done)\n",
    "\n",
    "    simulator.reset()\n",
    "    print(\"State after reset:\", (simulator.car.x, simulator.car.y, simulator.car.vx, simulator.car.vy))\n",
    "\n",
    "test_simulator()\n"
   ]
  },
  {
   "cell_type": "code",
   "execution_count": 22,
   "metadata": {},
   "outputs": [
    {
     "name": "stdout",
     "output_type": "stream",
     "text": [
      "Testing with crash option: nearest\n",
      "Initial State: (1, 7, 0, 0)\n",
      "Step 0: Position (2, 7), Velocity (1, 0), Reward -1\n",
      "Step 1: Position (3, 7), Velocity (1, 0), Reward -1\n",
      "Step 2: Position (5, 7), Velocity (2, 0), Reward -1\n",
      "Step 3: Position (8, 7), Velocity (3, 0), Reward -1\n",
      "Step 4: Position (11, 7), Velocity (3, 0), Reward -1\n",
      "Step 5: Position (15, 7), Velocity (4, 0), Reward -1\n",
      "Step 6: Position (19, 7), Velocity (4, 0), Reward -1\n",
      "Step 7: Position (24, 7), Velocity (5, 0), Reward -1\n",
      "Step 8: Position (29, 7), Velocity (5, 0), Reward -1\n",
      "Step 9: Position (34, 7), Velocity (5, 0), Reward -1\n",
      "Step 10: Position (35, 7), Velocity (0, 0), Reward -1\n",
      "Step 11: Position (35, 7), Velocity (0, 0), Reward -1\n",
      "Step 12: Position (35, 7), Velocity (0, 0), Reward -1\n",
      "Step 13: Position (35, 7), Velocity (0, 0), Reward -1\n",
      "Step 14: Position (35, 7), Velocity (0, 0), Reward -1\n",
      "Step 15: Position (35, 7), Velocity (0, 0), Reward -1\n",
      "Step 16: Position (35, 7), Velocity (0, 0), Reward -1\n",
      "Step 17: Position (35, 7), Velocity (0, 0), Reward -1\n",
      "Step 18: Position (35, 7), Velocity (0, 0), Reward -1\n",
      "Step 19: Position (35, 7), Velocity (0, 0), Reward -1\n",
      "Step 20: Position (35, 7), Velocity (0, 0), Reward -1\n",
      "Step 21: Position (35, 7), Velocity (0, 0), Reward -1\n",
      "Step 22: Position (35, 7), Velocity (0, 0), Reward -1\n",
      "Step 23: Position (35, 7), Velocity (0, 0), Reward -1\n",
      "Step 24: Position (35, 7), Velocity (0, 0), Reward -1\n",
      "Step 25: Position (35, 7), Velocity (0, 0), Reward -1\n",
      "Step 26: Position (35, 7), Velocity (0, 0), Reward -1\n",
      "Step 27: Position (35, 7), Velocity (0, 0), Reward -1\n",
      "Step 28: Position (35, 7), Velocity (0, 0), Reward -1\n",
      "Step 29: Position (35, 7), Velocity (0, 0), Reward -1\n",
      "Step 30: Position (35, 7), Velocity (0, 0), Reward -1\n",
      "Step 31: Position (35, 7), Velocity (0, 0), Reward -1\n",
      "Step 32: Position (35, 7), Velocity (0, 0), Reward -1\n",
      "Step 33: Position (35, 7), Velocity (0, 0), Reward -1\n",
      "Step 34: Position (35, 7), Velocity (0, 0), Reward -1\n",
      "Step 35: Position (35, 7), Velocity (0, 0), Reward -1\n",
      "Step 36: Position (35, 7), Velocity (0, 0), Reward -1\n",
      "Step 37: Position (35, 7), Velocity (0, 0), Reward -1\n",
      "Step 38: Position (35, 7), Velocity (0, 0), Reward -1\n",
      "Step 39: Position (35, 7), Velocity (0, 0), Reward -1\n",
      "Step 40: Position (35, 7), Velocity (0, 0), Reward -1\n",
      "Step 41: Position (35, 7), Velocity (0, 0), Reward -1\n",
      "Step 42: Position (35, 7), Velocity (0, 0), Reward -1\n",
      "Step 43: Position (35, 7), Velocity (0, 0), Reward -1\n",
      "Step 44: Position (35, 7), Velocity (0, 0), Reward -1\n",
      "Step 45: Position (35, 7), Velocity (0, 0), Reward -1\n",
      "Step 46: Position (35, 7), Velocity (0, 0), Reward -1\n",
      "Step 47: Position (35, 7), Velocity (0, 0), Reward -1\n",
      "Step 48: Position (35, 7), Velocity (0, 0), Reward -1\n",
      "Step 49: Position (35, 7), Velocity (0, 0), Reward -1\n",
      "Final State after crash: (35, 7, 0, 0)\n",
      "Resetting the simulator...\n",
      "State after reset: (1, 7, 0, 0)\n",
      "--------------------------------------------------\n",
      "Testing with crash option: original\n",
      "Initial State: (1, 9, 0, 0)\n",
      "Step 0: Position (2, 9), Velocity (1, 0), Reward -1\n",
      "Step 1: Position (4, 9), Velocity (2, 0), Reward -1\n",
      "Step 2: Position (7, 9), Velocity (3, 0), Reward -1\n",
      "Step 3: Position (11, 9), Velocity (4, 0), Reward -1\n",
      "Step 4: Position (16, 9), Velocity (5, 0), Reward -1\n",
      "Step 5: Position (21, 9), Velocity (5, 0), Reward -1\n",
      "Step 6: Position (26, 9), Velocity (5, 0), Reward -1\n",
      "Step 7: Position (31, 9), Velocity (5, 0), Reward -1\n",
      "Step 8: Position (1, 6), Velocity (0, 0), Reward -1\n",
      "Step 9: Position (1, 6), Velocity (0, 0), Reward -1\n",
      "Step 10: Position (2, 6), Velocity (1, 0), Reward -1\n",
      "Step 11: Position (4, 6), Velocity (2, 0), Reward -1\n",
      "Step 12: Position (7, 6), Velocity (3, 0), Reward -1\n",
      "Step 13: Position (11, 6), Velocity (4, 0), Reward -1\n",
      "Step 14: Position (15, 6), Velocity (4, 0), Reward -1\n",
      "Step 15: Position (19, 6), Velocity (4, 0), Reward -1\n",
      "Step 16: Position (24, 6), Velocity (5, 0), Reward -1\n",
      "Step 17: Position (29, 6), Velocity (5, 0), Reward -1\n",
      "Step 18: Position (34, 6), Velocity (5, 0), Reward -1\n",
      "Step 19: Position (1, 6), Velocity (0, 0), Reward -1\n",
      "Step 20: Position (1, 6), Velocity (0, 0), Reward -1\n",
      "Step 21: Position (2, 6), Velocity (1, 0), Reward -1\n",
      "Step 22: Position (4, 6), Velocity (2, 0), Reward -1\n",
      "Step 23: Position (7, 6), Velocity (3, 0), Reward -1\n",
      "Step 24: Position (11, 6), Velocity (4, 0), Reward -1\n",
      "Step 25: Position (16, 6), Velocity (5, 0), Reward -1\n",
      "Step 26: Position (21, 6), Velocity (5, 0), Reward -1\n",
      "Step 27: Position (26, 6), Velocity (5, 0), Reward -1\n",
      "Step 28: Position (31, 6), Velocity (5, 0), Reward -1\n",
      "Step 29: Position (1, 7), Velocity (0, 0), Reward -1\n",
      "Step 30: Position (2, 7), Velocity (1, 0), Reward -1\n",
      "Step 31: Position (4, 7), Velocity (2, 0), Reward -1\n",
      "Step 32: Position (6, 7), Velocity (2, 0), Reward -1\n",
      "Step 33: Position (9, 7), Velocity (3, 0), Reward -1\n",
      "Step 34: Position (13, 7), Velocity (4, 0), Reward -1\n",
      "Step 35: Position (18, 7), Velocity (5, 0), Reward -1\n",
      "Step 36: Position (23, 7), Velocity (5, 0), Reward -1\n",
      "Step 37: Position (28, 7), Velocity (5, 0), Reward -1\n",
      "Step 38: Position (33, 7), Velocity (5, 0), Reward -1\n",
      "Step 39: Position (1, 9), Velocity (0, 0), Reward -1\n",
      "Step 40: Position (2, 9), Velocity (1, 0), Reward -1\n",
      "Step 41: Position (3, 9), Velocity (1, 0), Reward -1\n",
      "Step 42: Position (4, 9), Velocity (1, 0), Reward -1\n",
      "Step 43: Position (6, 9), Velocity (2, 0), Reward -1\n",
      "Step 44: Position (9, 9), Velocity (3, 0), Reward -1\n",
      "Step 45: Position (13, 9), Velocity (4, 0), Reward -1\n",
      "Step 46: Position (18, 9), Velocity (5, 0), Reward -1\n",
      "Step 47: Position (23, 9), Velocity (5, 0), Reward -1\n",
      "Step 48: Position (28, 9), Velocity (5, 0), Reward -1\n",
      "Step 49: Position (33, 9), Velocity (5, 0), Reward -1\n",
      "Final State after crash: (33, 9, 5, 0)\n"
     ]
    },
    {
     "ename": "AssertionError",
     "evalue": "",
     "output_type": "error",
     "traceback": [
      "\u001b[1;31m---------------------------------------------------------------------------\u001b[0m",
      "\u001b[1;31mAssertionError\u001b[0m                            Traceback (most recent call last)",
      "Cell \u001b[1;32mIn[22], line 54\u001b[0m\n\u001b[0;32m     52\u001b[0m track_file \u001b[38;5;241m=\u001b[39m \u001b[38;5;124m'\u001b[39m\u001b[38;5;124mdatasets/L-track.txt\u001b[39m\u001b[38;5;124m'\u001b[39m\n\u001b[0;32m     53\u001b[0m test_move_right_until_crash(track_file, crash_option\u001b[38;5;241m=\u001b[39m\u001b[38;5;124m'\u001b[39m\u001b[38;5;124mnearest\u001b[39m\u001b[38;5;124m'\u001b[39m)\n\u001b[1;32m---> 54\u001b[0m \u001b[43mtest_move_right_until_crash\u001b[49m\u001b[43m(\u001b[49m\u001b[43mtrack_file\u001b[49m\u001b[43m,\u001b[49m\u001b[43m \u001b[49m\u001b[43mcrash_option\u001b[49m\u001b[38;5;241;43m=\u001b[39;49m\u001b[38;5;124;43m'\u001b[39;49m\u001b[38;5;124;43moriginal\u001b[39;49m\u001b[38;5;124;43m'\u001b[39;49m\u001b[43m)\u001b[49m \n",
      "Cell \u001b[1;32mIn[22], line 38\u001b[0m, in \u001b[0;36mtest_move_right_until_crash\u001b[1;34m(track_file, crash_option)\u001b[0m\n\u001b[0;32m     35\u001b[0m     \u001b[38;5;28;01massert\u001b[39;00m simulator\u001b[38;5;241m.\u001b[39mcar\u001b[38;5;241m.\u001b[39mvx \u001b[38;5;241m==\u001b[39m \u001b[38;5;241m0\u001b[39m \u001b[38;5;129;01mand\u001b[39;00m simulator\u001b[38;5;241m.\u001b[39mcar\u001b[38;5;241m.\u001b[39mvy \u001b[38;5;241m==\u001b[39m \u001b[38;5;241m0\u001b[39m\n\u001b[0;32m     36\u001b[0m \u001b[38;5;28;01melif\u001b[39;00m crash_option \u001b[38;5;241m==\u001b[39m \u001b[38;5;124m'\u001b[39m\u001b[38;5;124moriginal\u001b[39m\u001b[38;5;124m'\u001b[39m:\n\u001b[0;32m     37\u001b[0m     \u001b[38;5;66;03m# Check if car is back at a starting position and velocity is zero\u001b[39;00m\n\u001b[1;32m---> 38\u001b[0m     \u001b[38;5;28;01massert\u001b[39;00m (simulator\u001b[38;5;241m.\u001b[39mcar\u001b[38;5;241m.\u001b[39mx, simulator\u001b[38;5;241m.\u001b[39mcar\u001b[38;5;241m.\u001b[39my) \u001b[38;5;129;01min\u001b[39;00m racetrack\u001b[38;5;241m.\u001b[39mstarting_points\n\u001b[0;32m     39\u001b[0m     \u001b[38;5;28;01massert\u001b[39;00m simulator\u001b[38;5;241m.\u001b[39mcar\u001b[38;5;241m.\u001b[39mvx \u001b[38;5;241m==\u001b[39m \u001b[38;5;241m0\u001b[39m \u001b[38;5;129;01mand\u001b[39;00m simulator\u001b[38;5;241m.\u001b[39mcar\u001b[38;5;241m.\u001b[39mvy \u001b[38;5;241m==\u001b[39m \u001b[38;5;241m0\u001b[39m\n\u001b[0;32m     41\u001b[0m \u001b[38;5;28mprint\u001b[39m(\u001b[38;5;124m\"\u001b[39m\u001b[38;5;124mResetting the simulator...\u001b[39m\u001b[38;5;124m\"\u001b[39m)\n",
      "\u001b[1;31mAssertionError\u001b[0m: "
     ]
    }
   ],
   "source": [
    "def test_move_right_until_crash(track_file, crash_option):\n",
    "    \"\"\"Tests the simulator's behavior when a car moves right until it crashes.\n",
    "    Verifies crash handling and simulator reset based on the crash_option.\n",
    "    Limits the test to a maximum number of steps to prevent infinite loops.\n",
    "    \"\"\"\n",
    "\n",
    "    racetrack = Racetrack(track_file)\n",
    "    simulator = Simulator(racetrack, crash_option=crash_option)\n",
    "\n",
    "    print(f\"Testing with crash option: {crash_option}\")\n",
    "    print(\"Initial State:\", (simulator.car.x, simulator.car.y, simulator.car.vx, simulator.car.vy))\n",
    "\n",
    "    max_steps = 50  # Limit the test to a reasonable number of steps \n",
    "\n",
    "    for steps in range(max_steps):\n",
    "        state, reward, done = simulator.step((1, 0))  # Move right\n",
    "        print(f\"Step {steps}: Position ({simulator.car.x}, {simulator.car.y}), Velocity ({simulator.car.vx}, {simulator.car.vy}), Reward {reward}\")\n",
    "\n",
    "        # Check for crash conditions\n",
    "        if simulator.car.x >= len(racetrack.track[0]) - 1 or racetrack.track[simulator.car.y][simulator.car.x] == '#':\n",
    "            print(\"Crash Detected. Handling crash...\")\n",
    "            break\n",
    "\n",
    "        if done:  # Check for other termination conditions\n",
    "            print(\"Simulation ended.\")\n",
    "            break\n",
    "\n",
    "    # After crash, let's see where the car ends up\n",
    "    print(\"Final State after crash:\", (simulator.car.x, simulator.car.y, simulator.car.vx, simulator.car.vy))\n",
    "\n",
    "    # Assertions based on crash_option \n",
    "    if crash_option == 'nearest':\n",
    "        # Check if car moved to a valid track position and velocity is zero\n",
    "        assert racetrack.track[simulator.car.y][simulator.car.x] != '#'\n",
    "        assert simulator.car.vx == 0 and simulator.car.vy == 0\n",
    "    elif crash_option == 'original':\n",
    "        # Check if car is back at a starting position and velocity is zero\n",
    "        assert (simulator.car.x, simulator.car.y) in racetrack.starting_points\n",
    "        assert simulator.car.vx == 0 and simulator.car.vy == 0\n",
    "\n",
    "    print(\"Resetting the simulator...\")\n",
    "    simulator.reset() \n",
    "    print(\"State after reset:\", (simulator.car.x, simulator.car.y, simulator.car.vx, simulator.car.vy))\n",
    "\n",
    "    # Add an assertion to check reset position\n",
    "    assert (simulator.car.x, simulator.car.y) in racetrack.starting_points \n",
    "    assert simulator.car.vx == 0 and simulator.car.vy == 0\n",
    "\n",
    "    print(\"-\" * 50)\n",
    "\n",
    "# Test the function with both crash options\n",
    "track_file = 'datasets/L-track.txt'\n",
    "test_move_right_until_crash(track_file, crash_option='nearest')\n",
    "test_move_right_until_crash(track_file, crash_option='original') \n"
   ]
  }
 ],
 "metadata": {
  "kernelspec": {
   "display_name": ".venv",
   "language": "python",
   "name": "python3"
  },
  "language_info": {
   "codemirror_mode": {
    "name": "ipython",
    "version": 3
   },
   "file_extension": ".py",
   "mimetype": "text/x-python",
   "name": "python",
   "nbconvert_exporter": "python",
   "pygments_lexer": "ipython3",
   "version": "3.11.8"
  }
 },
 "nbformat": 4,
 "nbformat_minor": 2
}
