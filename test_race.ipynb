{
 "cells": [
  {
   "cell_type": "code",
   "execution_count": 1,
   "metadata": {},
   "outputs": [],
   "source": [
    "from models.reinforcement_learning import *"
   ]
  },
  {
   "cell_type": "code",
   "execution_count": 2,
   "metadata": {},
   "outputs": [],
   "source": [
    "track_file = 'datasets/L-track.txt'\n",
    "racetrack = Racetrack(track_file)"
   ]
  },
  {
   "cell_type": "code",
   "execution_count": 3,
   "metadata": {},
   "outputs": [],
   "source": [
    "# Access the loaded track data, starts, and finishes directly from the instance\n",
    "track = racetrack.track\n",
    "starts = racetrack.starting_points\n",
    "finishes  = racetrack.finish_lines"
   ]
  },
  {
   "cell_type": "code",
   "execution_count": 4,
   "metadata": {},
   "outputs": [
    {
     "data": {
      "text/plain": [
       "[(1, 6), (1, 7), (1, 8), (1, 9)]"
      ]
     },
     "execution_count": 4,
     "metadata": {},
     "output_type": "execute_result"
    }
   ],
   "source": [
    "starts"
   ]
  },
  {
   "cell_type": "code",
   "execution_count": 5,
   "metadata": {},
   "outputs": [
    {
     "name": "stdout",
     "output_type": "stream",
     "text": [
      "F\n"
     ]
    }
   ],
   "source": [
    "print(track[1][32])"
   ]
  },
  {
   "cell_type": "code",
   "execution_count": 8,
   "metadata": {},
   "outputs": [
    {
     "name": "stdout",
     "output_type": "stream",
     "text": [
      "Initial State: (1, 9, 0, 0)\n",
      "Test 1 - No Movement: (1, 9, 0, 0) Reward: -1 Done: False\n",
      "Test 2 - Max Acceleration: (2, 10, 1, 1) Reward: -1 Done: False\n",
      "Crash Detected at: (3, 11, 1, 1)\n",
      "Boundary Test: (0, 0, 0, 0) Reward: -1 Done: False\n",
      "State after reset: (1, 9, 0, 0)\n"
     ]
    }
   ],
   "source": [
    "# Create a function to test different aspects of the Simulator\n",
    "def test_simulator():\n",
    "    track_file = 'datasets/L-track.txt'\n",
    "    racetrack = Racetrack(track_file)\n",
    "    simulator = Simulator(racetrack, crash_option='nearest')\n",
    "\n",
    "    print(\"Initial State:\", (simulator.car.x, simulator.car.y, simulator.car.vx, simulator.car.vy))\n",
    "    state, reward, done = simulator.step((0, 0))\n",
    "    print(\"Test 1 - No Movement:\", state, \"Reward:\", reward, \"Done:\", done)\n",
    "\n",
    "    state, reward, done = simulator.step((1, 1))\n",
    "    print(\"Test 2 - Max Acceleration:\", state, \"Reward:\", reward, \"Done:\", done)\n",
    "\n",
    "    while not done:\n",
    "        state, reward, done = simulator.step((1, 0))\n",
    "        if simulator.check_path_for_crash(simulator.car.x, simulator.car.y, simulator.car.x + 1, simulator.car.y):\n",
    "            print(\"Crash Detected at:\", state)\n",
    "            break\n",
    "\n",
    "    simulator.car.x, simulator.car.y = 0, 0\n",
    "    state, reward, done = simulator.step((-1, -1))\n",
    "    print(\"Boundary Test:\", state, \"Reward:\", reward, \"Done:\", done)\n",
    "\n",
    "    simulator.reset()\n",
    "    print(\"State after reset:\", (simulator.car.x, simulator.car.y, simulator.car.vx, simulator.car.vy))\n",
    "\n",
    "test_simulator()\n"
   ]
  },
  {
   "cell_type": "code",
   "execution_count": 9,
   "metadata": {},
   "outputs": [
    {
     "name": "stdout",
     "output_type": "stream",
     "text": [
      "Testing with crash option: nearest\n",
      "Initial State: (1, 7, 0, 0)\n",
      "Step 0: Position (2, 7), Velocity (1, 0), Reward -1\n",
      "Step 1: Position (4, 7), Velocity (2, 0), Reward -1\n",
      "Step 2: Position (6, 7), Velocity (2, 0), Reward -1\n",
      "Step 3: Position (9, 7), Velocity (3, 0), Reward -1\n",
      "Step 4: Position (13, 7), Velocity (4, 0), Reward -1\n",
      "Step 5: Position (17, 7), Velocity (4, 0), Reward -1\n",
      "Step 6: Position (22, 7), Velocity (5, 0), Reward -1\n",
      "Step 7: Position (27, 7), Velocity (5, 0), Reward -1\n",
      "Step 8: Position (32, 7), Velocity (5, 0), Reward -1\n",
      "Step 9: Position (37, 7), Velocity (5, 0), Reward -1\n",
      "Crash Detected. Handling crash...\n",
      "Final State after crash: (37, 7, 5, 0)\n",
      "Resetting the simulator...\n",
      "State after reset: (37, 7, 5, 0)\n",
      "--------------------------------------------------\n",
      "Testing with crash option: original\n",
      "Initial State: (1, 6, 0, 0)\n",
      "Step 0: Position (2, 6), Velocity (1, 0), Reward -1\n",
      "Step 1: Position (4, 6), Velocity (2, 0), Reward -1\n",
      "Step 2: Position (6, 6), Velocity (2, 0), Reward -1\n",
      "Step 3: Position (9, 6), Velocity (3, 0), Reward -1\n",
      "Step 4: Position (12, 6), Velocity (3, 0), Reward -1\n",
      "Step 5: Position (15, 6), Velocity (3, 0), Reward -1\n",
      "Step 6: Position (19, 6), Velocity (4, 0), Reward -1\n",
      "Step 7: Position (23, 6), Velocity (4, 0), Reward -1\n",
      "Step 8: Position (28, 6), Velocity (5, 0), Reward -1\n",
      "Step 9: Position (33, 6), Velocity (5, 0), Reward -1\n",
      "Step 10: Position (38, 6), Velocity (5, 0), Reward -1\n",
      "Crash Detected. Handling crash...\n",
      "Final State after crash: (38, 6, 5, 0)\n",
      "Resetting the simulator...\n",
      "State after reset: (38, 6, 5, 0)\n",
      "--------------------------------------------------\n"
     ]
    }
   ],
   "source": [
    "def test_move_right_until_crash(track_file, crash_option):\n",
    "    racetrack = Racetrack(track_file)\n",
    "    simulator = Simulator(racetrack, crash_option=crash_option)\n",
    "\n",
    "    print(f\"Testing with crash option: {crash_option}\")\n",
    "    print(\"Initial State:\", (simulator.car.x, simulator.car.y, simulator.car.vx, simulator.car.vy))\n",
    "\n",
    "    steps = 0\n",
    "    while True:\n",
    "        state, reward, done = simulator.step((1, 0))  # Move right\n",
    "        print(f\"Step {steps}: Position ({simulator.car.x}, {simulator.car.y}), Velocity ({simulator.car.vx}, {simulator.car.vy}), Reward {reward}\")\n",
    "        \n",
    "        # Check if the car has hit the wall\n",
    "        if simulator.car.x >= len(racetrack.track[0]) - 1 or racetrack.track[simulator.car.y][simulator.car.x] == '#':\n",
    "            print(\"Crash Detected. Handling crash...\")\n",
    "            break\n",
    "        \n",
    "        if done:\n",
    "            print(\"Simulation ended.\")\n",
    "            break\n",
    "\n",
    "        steps += 1\n",
    "\n",
    "    # After crash, let's see where the car ends up\n",
    "    print(\"Final State after crash:\", (simulator.car.x, simulator.car.y, simulator.car.vx, simulator.car.vy))\n",
    "    print(\"Resetting the simulator...\")\n",
    "    # simulator.reset()\n",
    "    print(\"State after reset:\", (simulator.car.x, simulator.car.y, simulator.car.vx, simulator.car.vy))\n",
    "    print(\"-\" * 50)\n",
    "\n",
    "# Test the function with both crash options\n",
    "track_file = 'datasets/L-track.txt'\n",
    "test_move_right_until_crash(track_file, crash_option='nearest')\n",
    "test_move_right_until_crash(track_file, crash_option='original')\n"
   ]
  }
 ],
 "metadata": {
  "kernelspec": {
   "display_name": ".venv",
   "language": "python",
   "name": "python3"
  },
  "language_info": {
   "codemirror_mode": {
    "name": "ipython",
    "version": 3
   },
   "file_extension": ".py",
   "mimetype": "text/x-python",
   "name": "python",
   "nbconvert_exporter": "python",
   "pygments_lexer": "ipython3",
   "version": "3.11.8"
  }
 },
 "nbformat": 4,
 "nbformat_minor": 2
}
