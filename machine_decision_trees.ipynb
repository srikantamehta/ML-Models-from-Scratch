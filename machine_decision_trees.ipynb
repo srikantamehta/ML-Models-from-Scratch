{
 "cells": [
  {
   "cell_type": "code",
   "execution_count": 1,
   "metadata": {},
   "outputs": [],
   "source": [
    "from src.data_preprocessor import DataProcessor\n",
    "from data_configs.configs import *\n",
    "from models.decision_tree import DecisionTree, DecisionTreeNode\n",
    "from models.null_model import NullModelClassification\n",
    "from src.cross_validation import CrossValidation\n",
    "from src.evaluation import Evaluation\n",
    "\n",
    "config = machine_config\n",
    "decision_tree = DecisionTree(config=config)\n",
    "data_processor = DataProcessor(config=config)\n",
    "cross_validator = CrossValidation(config=config)\n",
    "null_model = NullModelClassification(config=config)"
   ]
  },
  {
   "cell_type": "code",
   "execution_count": 2,
   "metadata": {},
   "outputs": [],
   "source": [
    "raw_data = data_processor.load_data()\n",
    "\n",
    "data_1 = data_processor.impute_missing_values(raw_data)\n",
    "data_2 = data_1\n",
    "labels = data_2[config['target_column']]\n"
   ]
  },
  {
   "cell_type": "code",
   "execution_count": 3,
   "metadata": {},
   "outputs": [],
   "source": [
    "data_train, data_val = cross_validator.random_partition(data_2, random_state=42)"
   ]
  },
  {
   "cell_type": "code",
   "execution_count": 20,
   "metadata": {},
   "outputs": [
    {
     "name": "stdout",
     "output_type": "stream",
     "text": [
      "{'vendor_name': {'mse': 16656.274323993523, 'category': 'amdahl'}, 'model_name': {'mse': 12575.913714739196, 'category': '1100/94'}, 'MYCT': {'mse': 10722.293987051593, 'threshold': 49.0}, 'MMIN': {'mse': 10032.12435004599, 'threshold': 6620.0}, 'MMAX': {'mse': 9228.724550898203, 'threshold': 28000.0}, 'CACH': {'mse': 10450.738662357822, 'threshold': 56.0}, 'CHMIN': {'mse': 10561.715759390312, 'threshold': 7.5}, 'CHMAX': {'mse': 12575.913714739196, 'threshold': 152.0}, 'ERP': {'mse': 7706.086261871162, 'threshold': 285.5}}\n"
     ]
    }
   ],
   "source": [
    "data = data_train.drop(columns=config['target_column'])\n",
    "target = data_train[config['target_column']]\n",
    "\n",
    "mse = decision_tree.calculate_mse(data, target)\n",
    "print(mse)\n",
    "best_feature = max(mse, key=lambda f: mse[f]['mse'])\n",
    "print(best_feature)\n",
    "# decision_tree = DecisionTree(config)\n",
    "# decision_tree.root = decision_tree.build_classification_tree(data, target)"
   ]
  },
  {
   "cell_type": "code",
   "execution_count": 5,
   "metadata": {},
   "outputs": [
    {
     "name": "stdout",
     "output_type": "stream",
     "text": [
      "0.3563218390804598\n",
      "0.04597701149425287\n"
     ]
    }
   ],
   "source": [
    "test_features = data_val.drop(columns=config['target_column'])\n",
    "predictions = decision_tree.predict(test_features)\n",
    "\n",
    "null_predictions = null_model.naive_classifier(data_val)\n",
    "\n",
    "null_eval = Evaluation().zero_one_loss(data_val[config['target_column']],null_predictions)\n",
    "\n",
    "tree_eval = Evaluation().zero_one_loss(data_val[config['target_column']],predictions)\n",
    "\n",
    "\n",
    "print(null_eval)\n",
    "print(tree_eval)"
   ]
  }
 ],
 "metadata": {
  "kernelspec": {
   "display_name": "Python 3",
   "language": "python",
   "name": "python3"
  },
  "language_info": {
   "codemirror_mode": {
    "name": "ipython",
    "version": 3
   },
   "file_extension": ".py",
   "mimetype": "text/x-python",
   "name": "python",
   "nbconvert_exporter": "python",
   "pygments_lexer": "ipython3",
   "version": "3.9.1"
  }
 },
 "nbformat": 4,
 "nbformat_minor": 2
}
