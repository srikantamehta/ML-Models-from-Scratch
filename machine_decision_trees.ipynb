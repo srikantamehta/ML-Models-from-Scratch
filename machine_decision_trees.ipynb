{
 "cells": [
  {
   "cell_type": "code",
   "execution_count": 1,
   "metadata": {},
   "outputs": [],
   "source": [
    "from src.data_preprocessor import DataProcessor\n",
    "from data_configs.configs import *\n",
    "from models.decision_tree import DecisionTree, DecisionTreeNode\n",
    "import numpy as np\n",
    "\n",
    "config = house_votes_84_config\n",
    "decision_tree = DecisionTree(config=config)\n",
    "data_processor = DataProcessor(config=config)"
   ]
  },
  {
   "cell_type": "code",
   "execution_count": 2,
   "metadata": {},
   "outputs": [
    {
     "name": "stdout",
     "output_type": "stream",
     "text": [
      "democrat      0.613793\n",
      "republican    0.386207\n",
      "Name: Class Name, dtype: float64\n"
     ]
    }
   ],
   "source": [
    "raw_data = data_processor.load_data()\n",
    "\n",
    "data_1 = data_processor.impute_missing_values(raw_data)\n",
    "\n",
    "labels = data_1[config['target_column']]\n",
    "print(labels.value_counts(normalize=True))"
   ]
  },
  {
   "cell_type": "code",
   "execution_count": 3,
   "metadata": {},
   "outputs": [
    {
     "data": {
      "text/plain": [
       "0.9623080486960709"
      ]
     },
     "execution_count": 3,
     "metadata": {},
     "output_type": "execute_result"
    }
   ],
   "source": [
    "decision_tree.calc_entropy(labels)"
   ]
  },
  {
   "cell_type": "code",
   "execution_count": 4,
   "metadata": {},
   "outputs": [
    {
     "name": "stdout",
     "output_type": "stream",
     "text": [
      "{'handicapped-infants': {'gain_ratio': 0.11009613157866852, 'threshold': None}, 'water-project-cost-sharing': {'gain_ratio': 0.0002593317328331421, 'threshold': None}, 'adoption-of-the-budget-resolution': {'gain_ratio': 0.3865421512838369, 'threshold': None}, 'physician-fee-freeze': {'gain_ratio': 0.6574340001060186, 'threshold': None}, 'el-salvador-aid': {'gain_ratio': 0.3574481780181964, 'threshold': None}, 'religious-groups-in-schools': {'gain_ratio': 0.1353515519086696, 'threshold': None}, 'anti-satellite-test-ban': {'gain_ratio': 0.17038597797210076, 'threshold': None}, 'aid-to-nicaraguan-contras': {'gain_ratio': 0.2918691226054952, 'threshold': None}, 'mx-missile': {'gain_ratio': 0.25080215032475267, 'threshold': None}, 'immigration': {'gain_ratio': 0.004608390312641, 'threshold': None}, 'synfuels-corporation-cutback': {'gain_ratio': 0.09107837556769185, 'threshold': None}, 'education-spending': {'gain_ratio': 0.2915820089690916, 'threshold': None}, 'superfund-right-to-sue': {'gain_ratio': 0.18085277407055544, 'threshold': None}, 'crime': {'gain_ratio': 0.2854203239099305, 'threshold': None}, 'duty-free-exports': {'gain_ratio': 0.17410102885946752, 'threshold': None}, 'export-administration-act-south-africa': {'gain_ratio': 0.0770837670590579, 'threshold': None}}\n",
      "Best Feature: physician-fee-freeze, Gain Ratio: 0.6574340001060186, Threshold: None\n"
     ]
    }
   ],
   "source": [
    "features = data_1.drop(columns=[config['target_column']])\n",
    "\n",
    "gain_ratio = decision_tree.calc_gain_ratio(labels,features)\n",
    "\n",
    "print(gain_ratio)\n",
    "\n",
    "best_feature, best_gain_ratio, best_threshold = decision_tree.select_feature_gain_ratio(labels, features)\n",
    "\n",
    "print(f\"Best Feature: {best_feature}, Gain Ratio: {best_gain_ratio}, Threshold: {best_threshold}\")\n"
   ]
  },
  {
   "cell_type": "code",
   "execution_count": null,
   "metadata": {},
   "outputs": [],
   "source": []
  }
 ],
 "metadata": {
  "kernelspec": {
   "display_name": "Python 3",
   "language": "python",
   "name": "python3"
  },
  "language_info": {
   "codemirror_mode": {
    "name": "ipython",
    "version": 3
   },
   "file_extension": ".py",
   "mimetype": "text/x-python",
   "name": "python",
   "nbconvert_exporter": "python",
   "pygments_lexer": "ipython3",
   "version": "3.9.1"
  }
 },
 "nbformat": 4,
 "nbformat_minor": 2
}
