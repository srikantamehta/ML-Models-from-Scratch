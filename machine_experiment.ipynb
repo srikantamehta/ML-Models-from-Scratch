{
 "cells": [
  {
   "cell_type": "code",
   "execution_count": 2,
   "metadata": {},
   "outputs": [],
   "source": [
    "from src.data_preprocessor import DataProcessor\n",
    "from src.cross_validation import CrossValidation\n",
    "from src.evaluation import Evaluation\n",
    "from models.knn import KNN\n",
    "from models.null_model import NullModelClassification, NullModelRegression\n",
    "from data_configs.configs import *\n",
    "import statistics\n",
    "\n",
    "config = machine_config\n",
    "data_processor = DataProcessor(config=config)\n",
    "cross_validator = CrossValidation(config=config)\n",
    "classification_nullmodel = NullModelClassification(config=config)\n",
    "regression_nullmodel = NullModelRegression(config=config)\n",
    "knn_model = KNN(config)"
   ]
  },
  {
   "cell_type": "code",
   "execution_count": 3,
   "metadata": {},
   "outputs": [],
   "source": [
    "# Data Processing\n",
    "\n",
    "raw_data = data_processor.load_data()\n",
    "\n",
    "raw_data_2 = raw_data.drop(columns=['vendor_name', 'model_name'])\n",
    "\n",
    "data_1 = data_processor.impute_missing_values(raw_data_2)\n",
    "\n",
    "data_2 = data_processor.encode_nominal_features(data_1)\n",
    "\n",
    "data_3 = data_processor.encode_ordinal_features(data_2)"
   ]
  },
  {
   "cell_type": "code",
   "execution_count": 5,
   "metadata": {},
   "outputs": [],
   "source": [
    "data_train, data_val = cross_validator.random_partition(data_3, random_state=42)"
   ]
  },
  {
   "cell_type": "code",
   "execution_count": 6,
   "metadata": {},
   "outputs": [],
   "source": [
    "gamma = 1/(statistics.stdev(data_train[config['target_column']]))"
   ]
  },
  {
   "cell_type": "code",
   "execution_count": 9,
   "metadata": {},
   "outputs": [],
   "source": [
    "hyperparameters = [{'k': 2, 'gamma': gamma * 0.3}, {'k': 3, 'gamma': gamma * 0.4}]  "
   ]
  },
  {
   "cell_type": "code",
   "execution_count": 8,
   "metadata": {},
   "outputs": [
    {
     "name": "stdout",
     "output_type": "stream",
     "text": [
      "6711.532133029557\n",
      "5139.309159894673\n",
      "19006.920279450886\n",
      "5063.623135325888\n",
      "5685.044650150876\n",
      "8305.71989163494\n",
      "5277.787117237654\n",
      "5185.69366848971\n",
      "4639.472488221745\n",
      "13536.543020926325\n"
     ]
    }
   ],
   "source": [
    "for i, (train_set, _) in enumerate(cross_validator.cross_validation(data_train, n_splits=5, n_repeats=2, stratify=False)):\n",
    "    # Train the model on each half of the 80% training data\n",
    "    predictions = knn_model.knn_regression(data_val, train_set, 2, gamma*0.3)['Predicted Value']\n",
    "    # Evaluate the model on the held-out 20% validation set\n",
    "    score = Evaluation().mean_squared_error(data_val[config['target_column']], predictions)\n",
    "    print(score)\n",
    "\n"
   ]
  },
  {
   "cell_type": "code",
   "execution_count": 16,
   "metadata": {},
   "outputs": [
    {
     "name": "stdout",
     "output_type": "stream",
     "text": [
      "Best Hyperparameters: {'k': 2, 'gamma': 0.002157198402353915}, with Average MSE: 7819.872907441032\n",
      "Final Validation Average MSE: 11765.719776719368\n"
     ]
    }
   ],
   "source": [
    "best_score = float('inf')\n",
    "best_params = None\n",
    "\n",
    "for params in hyperparameters:\n",
    "    temp_scores = []  # Temporary list to store scores for current hyperparameters\n",
    "\n",
    "    # Since your cross-validation setup already handles data splitting,\n",
    "    # directly use the train_set for training\n",
    "    for i, (train_set, _) in enumerate(cross_validator.cross_validation(data_train, n_splits=5, n_repeats=2, stratify=False)):\n",
    "        \n",
    "        # Perform regression with the current set of hyperparameters on the training set\n",
    "        # and use the validation set (data_val) for predictions\n",
    "        predictions = knn_model.knn_regression(data_val, train_set, params['k'], params['gamma'])['Predicted Value']\n",
    "        \n",
    "        # Calculate the MSE on the validation set\n",
    "        score = Evaluation.mean_squared_error(data_val[config['target_column']].values, predictions)\n",
    "        temp_scores.append(score)\n",
    "    \n",
    "    # Calculate the average score for these hyperparameters\n",
    "    avg_score = sum(temp_scores) / len(temp_scores)\n",
    "    \n",
    "    # Update best hyperparameters based on average score\n",
    "    if avg_score < best_score:\n",
    "        best_score = avg_score\n",
    "        best_params = params\n",
    "\n",
    "print(f\"Best Hyperparameters: {best_params}, with Average MSE: {best_score}\")\n",
    "\n",
    "# Assuming best_params have been identified\n",
    "final_scores = []\n",
    "\n",
    "# Assuming cross_validator is an instance of your CrossValidation class\n",
    "# and it has a method random_partition that correctly splits the data\n",
    "for _ in range(5):  # Repeat 5 times for validation\n",
    "    # Correctly using the split halves from random_partition\n",
    "    data_half_1, data_half_2 = cross_validator.random_partition(data_train, val_size=0.5, random_state=None)\n",
    "\n",
    "    # Iterate over the correct variable names for the training subsets\n",
    "    for train_subset in [data_half_1, data_half_2]:\n",
    "        # Assuming knn_model.knn_regression() is correctly implemented to train on train_subset and predict on data_val\n",
    "        model_predictions = knn_model.knn_regression(data_val, train_subset, best_params['k'], best_params['gamma'])\n",
    "        score = Evaluation.mean_squared_error(data_val[config['target_column']].values, model_predictions['Predicted Value'].values)\n",
    "        final_scores.append(score)\n",
    "\n",
    "final_average_score = sum(final_scores) / len(final_scores)\n",
    "print(f\"Final Validation Average MSE: {final_average_score}\")\n",
    "\n"
   ]
  }
 ],
 "metadata": {
  "kernelspec": {
   "display_name": "Python 3",
   "language": "python",
   "name": "python3"
  },
  "language_info": {
   "codemirror_mode": {
    "name": "ipython",
    "version": 3
   },
   "file_extension": ".py",
   "mimetype": "text/x-python",
   "name": "python",
   "nbconvert_exporter": "python",
   "pygments_lexer": "ipython3",
   "version": "3.9.1"
  }
 },
 "nbformat": 4,
 "nbformat_minor": 2
}
