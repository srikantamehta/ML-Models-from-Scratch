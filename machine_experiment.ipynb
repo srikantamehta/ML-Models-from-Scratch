{
 "cells": [
  {
   "cell_type": "code",
   "execution_count": 1,
   "metadata": {},
   "outputs": [],
   "source": [
    "from src.data_preprocessor import DataProcessor\n",
    "from src.cross_validation import CrossValidation\n",
    "from src.evaluation import Evaluation\n",
    "from models.knn import KNN\n",
    "from models.null_model import NullModelClassification, NullModelRegression\n",
    "from data_configs.configs import *\n",
    "import statistics\n",
    "import numpy as np\n",
    "\n",
    "config = machine_config\n",
    "data_processor = DataProcessor(config=config)\n",
    "cross_validator = CrossValidation(config=config)\n",
    "classification_nullmodel = NullModelClassification(config=config)\n",
    "regression_nullmodel = NullModelRegression(config=config)\n",
    "knn_model = KNN(config)\n",
    "null_model = NullModelRegression(config=config)"
   ]
  },
  {
   "cell_type": "markdown",
   "metadata": {},
   "source": [
    "### Data Load and Preprocessing ###"
   ]
  },
  {
   "cell_type": "code",
   "execution_count": 3,
   "metadata": {},
   "outputs": [],
   "source": [
    "raw_data = data_processor.load_data()\n",
    "\n",
    "raw_data_2 = raw_data.drop(columns=['vendor_name', 'model_name', 'ERP'])\n",
    "\n",
    "data_1 = data_processor.impute_missing_values(raw_data_2)\n",
    "\n",
    "data_2 = data_processor.encode_nominal_features(data_1)\n",
    "\n",
    "data_3 = data_processor.encode_ordinal_features(data_2)"
   ]
  },
  {
   "cell_type": "markdown",
   "metadata": {},
   "source": [
    "## KNN Model ##"
   ]
  },
  {
   "cell_type": "markdown",
   "metadata": {},
   "source": [
    "### Hyperparameter Tuning ###"
   ]
  },
  {
   "cell_type": "code",
   "execution_count": 4,
   "metadata": {},
   "outputs": [],
   "source": [
    "data_train, data_val = cross_validator.random_partition(data_3, random_state=42)"
   ]
  },
  {
   "cell_type": "code",
   "execution_count": 6,
   "metadata": {},
   "outputs": [],
   "source": [
    "features=['MYCT', 'MMIN', 'MMAX', 'CACH', 'CHMIN', 'CHMAX']"
   ]
  },
  {
   "cell_type": "code",
   "execution_count": 7,
   "metadata": {},
   "outputs": [
    {
     "data": {
      "text/plain": [
       "0.0071906613411797165"
      ]
     },
     "execution_count": 7,
     "metadata": {},
     "output_type": "execute_result"
    }
   ],
   "source": [
    "gamma = 1/(statistics.stdev(data_train[config['target_column']]))\n",
    "gamma"
   ]
  },
  {
   "cell_type": "markdown",
   "metadata": {},
   "source": [
    "#### Tuning k ####"
   ]
  },
  {
   "cell_type": "code",
   "execution_count": 6,
   "metadata": {},
   "outputs": [
    {
     "name": "stdout",
     "output_type": "stream",
     "text": [
      "Average MSE score with k=1: 18692.819047619043\n",
      "Average MSE score with k=2: 17661.420809542098\n",
      "Average MSE score with k=3: 18995.569669901513\n",
      "Average MSE score with k=4: 19611.49917804948\n",
      "Average MSE score with k=5: 20429.088741870484\n",
      "Average MSE score with k=6: 21261.43363838865\n",
      "Average MSE score with k=7: 21813.683190323467\n",
      "Average MSE score with k=8: 22263.245673862275\n",
      "Average MSE score with k=9: 23109.50510701653\n",
      "Average MSE score with k=10: 24044.911264984657\n",
      "Average MSE score with k=11: 24791.148339346157\n",
      "Average MSE score with k=12: 25524.400740610767\n",
      "Average MSE score with k=13: 26372.642408441294\n",
      "Average MSE score with k=14: 27191.311096247235\n",
      "Best k is 2 with the lowest average MSE score of 17661.420809542098\n"
     ]
    }
   ],
   "source": [
    "hyperparameters = np.arange(1,15,1)\n",
    "scores_dict = {}\n",
    "\n",
    "for k in hyperparameters: \n",
    "    scores = []\n",
    "    for i, (train_set_1, train_set_2) in enumerate(cross_validator.cross_validation(data_train, n_splits=2, n_repeats=5, random_state=42, stratify=False)):\n",
    "\n",
    "        data_train_standardized = data_processor.standardize_data(train_set_1, train_set_1, features=features)\n",
    "        data_val_standardized = data_processor.standardize_data(train_set_1,data_val,features=features)  \n",
    "\n",
    "        predictions_1 = knn_model.knn_regression(data_val_standardized, data_train_standardized, k=k, gamma=gamma)['Predicted Value']\n",
    "        score_1 = Evaluation().mean_squared_error(data_val_standardized[config['target_column']], predictions_1)\n",
    "        scores.append(score_1)\n",
    "\n",
    "    average_score = sum(scores) / len(scores)\n",
    "    print(f\"Average MSE score with k={k}: {average_score}\")\n",
    "    scores_dict[k] = average_score\n",
    "\n",
    "best_k = min(scores_dict, key=scores_dict.get)\n",
    "print(f\"Best k is {best_k} with the lowest average MSE score of {scores_dict[best_k]}\")\n"
   ]
  },
  {
   "cell_type": "markdown",
   "metadata": {},
   "source": [
    "#### Tuning Gamma ####"
   ]
  },
  {
   "cell_type": "code",
   "execution_count": 7,
   "metadata": {},
   "outputs": [
    {
     "name": "stdout",
     "output_type": "stream",
     "text": [
      "Average MSE score with g=0.4: 17774.013336162112\n",
      "Average MSE score with g=0.6: 17734.10464995688\n",
      "Average MSE score with g=0.8: 17696.562832538002\n",
      "Average MSE score with g=1.0: 17661.420809542098\n",
      "Average MSE score with g=1.2: 17628.695996424074\n",
      "Average MSE score with g=1.4: 17598.390491571034\n",
      "Average MSE score with g=1.6: 17570.491502459376\n",
      "Best g is 1.6 with the lowest average MSE score of 17570.491502459376\n"
     ]
    }
   ],
   "source": [
    "hyperparameters = np.arange(0.4,1.6,0.2)\n",
    "scores_dict = {}\n",
    "\n",
    "for g in hyperparameters: \n",
    "    scores = []\n",
    "    for i, (train_set_1, train_set_2) in enumerate(cross_validator.cross_validation(data_train, n_splits=2, n_repeats=5, random_state=42, stratify=False)):\n",
    "\n",
    "        data_train_standardized = data_processor.standardize_data(train_set_1, train_set_1, features=features)\n",
    "        data_val_standardized = data_processor.standardize_data(train_set_1,data_val,features=features)  \n",
    "\n",
    "        predictions_1 = knn_model.knn_regression(data_val_standardized, data_train_standardized, k=best_k, gamma=gamma*g)['Predicted Value']\n",
    "        score_1 = Evaluation().mean_squared_error(data_val_standardized[config['target_column']], predictions_1)\n",
    "        scores.append(score_1)\n",
    "\n",
    "    average_score = sum(scores) / len(scores)\n",
    "    print(f\"Average MSE score with g={round(g,2)}: {average_score}\")\n",
    "    scores_dict[g] = average_score\n",
    "\n",
    "best_g = min(scores_dict, key=scores_dict.get)\n",
    "print(f\"Best g is {round(best_g,2)} with the lowest average MSE score of {scores_dict[best_g]}\")\n"
   ]
  },
  {
   "cell_type": "markdown",
   "metadata": {},
   "source": [
    "### Model Performance ###"
   ]
  },
  {
   "cell_type": "code",
   "execution_count": 8,
   "metadata": {},
   "outputs": [
    {
     "name": "stderr",
     "output_type": "stream",
     "text": [
      "c:\\Users\\Srikanta\\AppData\\Local\\Programs\\Python\\Python39\\lib\\site-packages\\scipy\\stats\\stats.py:3913: PearsonRConstantInputWarning: An input array is constant; the correlation coefficent is not defined.\n",
      "  warnings.warn(PearsonRConstantInputWarning())\n",
      "c:\\Users\\Srikanta\\AppData\\Local\\Programs\\Python\\Python39\\lib\\site-packages\\scipy\\stats\\stats.py:3913: PearsonRConstantInputWarning: An input array is constant; the correlation coefficent is not defined.\n",
      "  warnings.warn(PearsonRConstantInputWarning())\n",
      "c:\\Users\\Srikanta\\AppData\\Local\\Programs\\Python\\Python39\\lib\\site-packages\\scipy\\stats\\stats.py:3913: PearsonRConstantInputWarning: An input array is constant; the correlation coefficent is not defined.\n",
      "  warnings.warn(PearsonRConstantInputWarning())\n",
      "c:\\Users\\Srikanta\\AppData\\Local\\Programs\\Python\\Python39\\lib\\site-packages\\scipy\\stats\\stats.py:3913: PearsonRConstantInputWarning: An input array is constant; the correlation coefficent is not defined.\n",
      "  warnings.warn(PearsonRConstantInputWarning())\n",
      "c:\\Users\\Srikanta\\AppData\\Local\\Programs\\Python\\Python39\\lib\\site-packages\\scipy\\stats\\stats.py:3913: PearsonRConstantInputWarning: An input array is constant; the correlation coefficent is not defined.\n",
      "  warnings.warn(PearsonRConstantInputWarning())\n",
      "c:\\Users\\Srikanta\\AppData\\Local\\Programs\\Python\\Python39\\lib\\site-packages\\scipy\\stats\\stats.py:3913: PearsonRConstantInputWarning: An input array is constant; the correlation coefficent is not defined.\n",
      "  warnings.warn(PearsonRConstantInputWarning())\n",
      "c:\\Users\\Srikanta\\AppData\\Local\\Programs\\Python\\Python39\\lib\\site-packages\\scipy\\stats\\stats.py:3913: PearsonRConstantInputWarning: An input array is constant; the correlation coefficent is not defined.\n",
      "  warnings.warn(PearsonRConstantInputWarning())\n",
      "c:\\Users\\Srikanta\\AppData\\Local\\Programs\\Python\\Python39\\lib\\site-packages\\scipy\\stats\\stats.py:3913: PearsonRConstantInputWarning: An input array is constant; the correlation coefficent is not defined.\n",
      "  warnings.warn(PearsonRConstantInputWarning())\n",
      "c:\\Users\\Srikanta\\AppData\\Local\\Programs\\Python\\Python39\\lib\\site-packages\\scipy\\stats\\stats.py:3913: PearsonRConstantInputWarning: An input array is constant; the correlation coefficent is not defined.\n",
      "  warnings.warn(PearsonRConstantInputWarning())\n"
     ]
    },
    {
     "name": "stdout",
     "output_type": "stream",
     "text": [
      "Average null model MSE score: 19073.865381296106\n",
      "Average null model MAE score: 86.17113664476773\n",
      "Average null model r2 score: 0.0\n",
      "Average null model pearson score: nan\n",
      "Average MSE score for k=2, g=1.6: 7512.193936429954\n",
      "Average MAE score for k=2, g=1.6: 34.97747282263274\n",
      "Average r2 score for k=2, g=1.6: 0.6523904298418604\n",
      "Average pearson score for k=2, g=1.6: 0.8250440267334402\n"
     ]
    },
    {
     "name": "stderr",
     "output_type": "stream",
     "text": [
      "c:\\Users\\Srikanta\\AppData\\Local\\Programs\\Python\\Python39\\lib\\site-packages\\scipy\\stats\\stats.py:3913: PearsonRConstantInputWarning: An input array is constant; the correlation coefficent is not defined.\n",
      "  warnings.warn(PearsonRConstantInputWarning())\n"
     ]
    }
   ],
   "source": [
    "mse_scores = []\n",
    "mae_scores = []\n",
    "r2_scores = []\n",
    "pearson_scores = []\n",
    "null_model_scores = []\n",
    "\n",
    "# Lists for storing null model metrics\n",
    "null_model_mae_scores = []\n",
    "null_model_r2_scores = []\n",
    "null_model_pearson_scores = []\n",
    "\n",
    "for i, (train_set, test_set) in enumerate(cross_validator.cross_validation(data_train, n_splits=2, n_repeats=5, random_state=42, stratify=False)):\n",
    "\n",
    "    data_train_standardized = data_processor.standardize_data(train_set, train_set, features=features)\n",
    "    data_test_standardized = data_processor.standardize_data(train_set,test_set,features=features)  \n",
    "\n",
    "    # Train and evaluate \n",
    "    predictions_1 = knn_model.knn_regression(data_test_standardized, data_train_standardized, k=best_k, gamma=best_g*gamma)['Predicted Value']\n",
    "    \n",
    "    mse_score = Evaluation.mean_squared_error(data_test_standardized[config['target_column']], predictions_1)\n",
    "    mae_score = Evaluation.mean_absolute_error(data_test_standardized[config['target_column']], predictions_1)\n",
    "    r2_score = Evaluation.r2_coefficient(data_test_standardized[config['target_column']], predictions_1)\n",
    "    pearson_score = Evaluation.pearsons_correlation(data_test_standardized[config['target_column']], predictions_1)\n",
    "    \n",
    "    mse_scores.append(mse_score)\n",
    "    mae_scores.append(mae_score)\n",
    "    r2_scores.append(r2_score)\n",
    "    pearson_scores.append(pearson_score)\n",
    "\n",
    "    # Evaluate null model\n",
    "    null_model_prediction = null_model.naive_regression(test_set)\n",
    "    null_model_mse = Evaluation.mean_squared_error(test_set[config['target_column']], null_model_prediction)\n",
    "    null_model_mae = Evaluation.mean_absolute_error(test_set[config['target_column']], null_model_prediction)\n",
    "    null_model_r2 = Evaluation.r2_coefficient(test_set[config['target_column']], null_model_prediction)\n",
    "    null_model_pearson = Evaluation.pearsons_correlation(test_set[config['target_column']], null_model_prediction)\n",
    "    \n",
    "    null_model_scores.append(null_model_mse)\n",
    "    null_model_mae_scores.append(null_model_mae)\n",
    "    null_model_r2_scores.append(null_model_r2)\n",
    "    null_model_pearson_scores.append(null_model_pearson)\n",
    "\n",
    "\n",
    "average_mse_score = sum(mse_scores) / len(mse_scores)\n",
    "average_mae_score = sum(mae_scores) / len(mae_scores)\n",
    "average_r2_score = sum(r2_scores) / len(r2_scores)\n",
    "average_pearson_score = sum(pearson_scores) / len(pearson_scores)\n",
    "average_null_model_mse = sum(null_model_scores) / len(null_model_scores)\n",
    "average_null_model_mae = sum(null_model_mae_scores) / len(null_model_mae_scores)\n",
    "average_null_model_r2 = sum(null_model_r2_scores) / len(null_model_r2_scores)\n",
    "average_null_model_pearson = sum(null_model_pearson_scores) / len(null_model_pearson_scores)\n",
    "\n",
    "print(f\"Average null model MSE score: {average_null_model_mse}\")\n",
    "print(f\"Average null model MAE score: {average_null_model_mae}\")\n",
    "print(f\"Average null model r2 score: {average_null_model_r2}\")\n",
    "print(f\"Average null model pearson score: {average_null_model_pearson}\")\n",
    "print(f\"Average MSE score for k={best_k}, g={round(best_g,2)}: {average_mse_score}\")\n",
    "print(f\"Average MAE score for k={best_k}, g={round(best_g,2)}: {average_mae_score}\")\n",
    "print(f\"Average r2 score for k={best_k}, g={round(best_g,2)}: {average_r2_score}\")\n",
    "print(f\"Average pearson score for k={best_k}, g={round(best_g,2)}: {average_pearson_score}\")\n"
   ]
  },
  {
   "cell_type": "markdown",
   "metadata": {},
   "source": [
    "## Edited KNN ##"
   ]
  },
  {
   "cell_type": "markdown",
   "metadata": {},
   "source": [
    "### Hyperparameter Tuning ###"
   ]
  },
  {
   "cell_type": "code",
   "execution_count": 8,
   "metadata": {},
   "outputs": [
    {
     "data": {
      "text/plain": [
       "160.83073308779512"
      ]
     },
     "execution_count": 8,
     "metadata": {},
     "output_type": "execute_result"
    }
   ],
   "source": [
    "epsilon = statistics.stdev(data_3[config['target_column']])\n",
    "epsilon"
   ]
  },
  {
   "cell_type": "markdown",
   "metadata": {},
   "source": [
    "#### Tuning Epsilon ####"
   ]
  },
  {
   "cell_type": "code",
   "execution_count": 10,
   "metadata": {},
   "outputs": [
    {
     "name": "stdout",
     "output_type": "stream",
     "text": [
      "Average score with e=0.1: 38778.07607077246\n",
      "Average score with e=0.3: 30175.29096799274\n",
      "Average score with e=0.5: 28840.71963897106\n",
      "Average score with e=0.7: 30513.332061414454\n",
      "Average score with e=0.9: 27420.17226756271\n",
      "Average score with e=1.1: 26313.910440406624\n",
      "Average score with e=1.3: 24855.84380880785\n",
      "Average score with e=1.5: 24464.997863820077\n",
      "Average score with e=1.7: 22967.24611659685\n",
      "Average score with e=1.9: 22948.6021755046\n",
      "Best e is 1.9 with the lowest average MSE score of 22948.6021755046\n"
     ]
    }
   ],
   "source": [
    "hyperparameters = np.arange(0.1,2,0.2)\n",
    "scores_dict = {}\n",
    "\n",
    "for e in hyperparameters: \n",
    "    scores = []\n",
    "    for i, (train_set_1, train_set_2) in enumerate(cross_validator.cross_validation(data_train, n_splits=2, n_repeats=5, random_state=42, stratify=False)):\n",
    "\n",
    "        edited_train_set = knn_model.edited_knn_regression(train_set_1,epsilon=epsilon*e)\n",
    "\n",
    "        data_train_standardized = data_processor.standardize_data(edited_train_set, edited_train_set, features=features)\n",
    "        data_val_standardized = data_processor.standardize_data(edited_train_set,data_val,features=features)  \n",
    "\n",
    "        predictions_1 = knn_model.knn_regression(data_val_standardized, data_train_standardized, k=best_k, gamma=gamma*best_g)['Predicted Value']\n",
    "        score_1 = Evaluation().mean_squared_error(data_val_standardized[config['target_column']], predictions_1)\n",
    "        scores.append(score_1)\n",
    "\n",
    "    average_score = sum(scores) / len(scores)\n",
    "    print(f\"Average score with e={round(e,2)}: {average_score}\")\n",
    "    scores_dict[e] = average_score\n",
    "\n",
    "best_e = min(scores_dict, key=scores_dict.get)\n",
    "print(f\"Best e is {round(best_e,2)} with the lowest average MSE score of {scores_dict[best_e]}\")\n"
   ]
  },
  {
   "cell_type": "markdown",
   "metadata": {},
   "source": [
    "#### Tuning k ####"
   ]
  },
  {
   "cell_type": "code",
   "execution_count": 11,
   "metadata": {},
   "outputs": [
    {
     "name": "stdout",
     "output_type": "stream",
     "text": [
      "Average score with k=1: 24474.57619047619\n",
      "Average score with k=2: 22948.6021755046\n",
      "Average score with k=3: 23417.646879133114\n",
      "Average score with k=4: 23214.49718321472\n",
      "Average score with k=5: 23913.237952320113\n",
      "Average score with k=6: 24213.783169836\n",
      "Average score with k=7: 24775.255090475788\n",
      "Average score with k=8: 25360.162611618678\n",
      "Average score with k=9: 25766.91935639654\n",
      "Best k is 2 with the lowest average MSE score of 22948.6021755046\n"
     ]
    }
   ],
   "source": [
    "hyperparameters = np.arange(1,10,1)\n",
    "scores_dict = {}\n",
    "\n",
    "for k in hyperparameters: \n",
    "    scores = []\n",
    "    for i, (train_set_1, train_set_2) in enumerate(cross_validator.cross_validation(data_train, n_splits=2, n_repeats=5, random_state=42, stratify=False)):\n",
    "\n",
    "        edited_train_set = knn_model.edited_knn_regression(train_set_1,epsilon=epsilon*best_e)\n",
    "\n",
    "        data_train_standardized = data_processor.standardize_data(edited_train_set, edited_train_set, features=features)\n",
    "        data_val_standardized = data_processor.standardize_data(edited_train_set,data_val,features=features)  \n",
    "\n",
    "        predictions_1 = knn_model.knn_regression(data_val_standardized, data_train_standardized, k=k, gamma=gamma*best_g)['Predicted Value']\n",
    "        score_1 = Evaluation().mean_squared_error(data_val_standardized[config['target_column']], predictions_1)\n",
    "        scores.append(score_1)\n",
    "\n",
    "    average_score = sum(scores) / len(scores)\n",
    "    print(f\"Average score with k={k}: {average_score}\")\n",
    "    scores_dict[k] = average_score\n",
    "\n",
    "best_k = min(scores_dict, key=scores_dict.get)\n",
    "print(f\"Best k is {best_k} with the lowest average MSE score of {scores_dict[best_k]}\")\n"
   ]
  },
  {
   "cell_type": "markdown",
   "metadata": {},
   "source": [
    "#### Tuning gamma ####"
   ]
  },
  {
   "cell_type": "code",
   "execution_count": 12,
   "metadata": {},
   "outputs": [
    {
     "name": "stdout",
     "output_type": "stream",
     "text": [
      "Average MSE score with g=0.4: 23044.22232910942\n",
      "Average MSE score with g=0.6: 23026.51392144658\n",
      "Average MSE score with g=0.8: 23009.47285176583\n",
      "Average MSE score with g=1.0: 22993.13512696233\n",
      "Average MSE score with g=1.2: 22977.530115185957\n",
      "Average MSE score with g=1.4: 22962.68046607314\n",
      "Average MSE score with g=1.6: 22948.6021755046\n",
      "Best g is 1.6 with the lowest average MSE score of 22948.6021755046\n"
     ]
    }
   ],
   "source": [
    "hyperparameters = np.arange(0.4,1.6,0.2)\n",
    "scores_dict = {}\n",
    "\n",
    "for g in hyperparameters: \n",
    "    scores = []\n",
    "    for i, (train_set_1, train_set_2) in enumerate(cross_validator.cross_validation(data_train, n_splits=2, n_repeats=5, random_state=42, stratify=False)):\n",
    "\n",
    "        edited_train_set = knn_model.edited_knn_regression(train_set_1,epsilon=epsilon*best_e)\n",
    "\n",
    "        data_train_standardized = data_processor.standardize_data(edited_train_set, edited_train_set, features=features)\n",
    "        data_val_standardized = data_processor.standardize_data(edited_train_set,data_val,features=features)  \n",
    "\n",
    "        predictions_1 = knn_model.knn_regression(data_val_standardized, data_train_standardized, k=best_k, gamma=g*gamma)['Predicted Value']\n",
    "        score_1 = Evaluation().mean_squared_error(data_val_standardized[config['target_column']], predictions_1)\n",
    "        scores.append(score_1)\n",
    "\n",
    "    average_score = sum(scores) / len(scores)\n",
    "    print(f\"Average MSE score with g={round(g,2)}: {average_score}\")\n",
    "    scores_dict[g] = average_score\n",
    "\n",
    "best_g = min(scores_dict, key=scores_dict.get)\n",
    "print(f\"Best g is {round(best_g,2)} with the lowest average MSE score of {scores_dict[best_g]}\")\n"
   ]
  },
  {
   "cell_type": "code",
   "execution_count": 13,
   "metadata": {},
   "outputs": [
    {
     "name": "stderr",
     "output_type": "stream",
     "text": [
      "c:\\Users\\Srikanta\\AppData\\Local\\Programs\\Python\\Python39\\lib\\site-packages\\scipy\\stats\\stats.py:3913: PearsonRConstantInputWarning: An input array is constant; the correlation coefficent is not defined.\n",
      "  warnings.warn(PearsonRConstantInputWarning())\n",
      "c:\\Users\\Srikanta\\AppData\\Local\\Programs\\Python\\Python39\\lib\\site-packages\\scipy\\stats\\stats.py:3913: PearsonRConstantInputWarning: An input array is constant; the correlation coefficent is not defined.\n",
      "  warnings.warn(PearsonRConstantInputWarning())\n",
      "c:\\Users\\Srikanta\\AppData\\Local\\Programs\\Python\\Python39\\lib\\site-packages\\scipy\\stats\\stats.py:3913: PearsonRConstantInputWarning: An input array is constant; the correlation coefficent is not defined.\n",
      "  warnings.warn(PearsonRConstantInputWarning())\n",
      "c:\\Users\\Srikanta\\AppData\\Local\\Programs\\Python\\Python39\\lib\\site-packages\\scipy\\stats\\stats.py:3913: PearsonRConstantInputWarning: An input array is constant; the correlation coefficent is not defined.\n",
      "  warnings.warn(PearsonRConstantInputWarning())\n",
      "c:\\Users\\Srikanta\\AppData\\Local\\Programs\\Python\\Python39\\lib\\site-packages\\scipy\\stats\\stats.py:3913: PearsonRConstantInputWarning: An input array is constant; the correlation coefficent is not defined.\n",
      "  warnings.warn(PearsonRConstantInputWarning())\n",
      "c:\\Users\\Srikanta\\AppData\\Local\\Programs\\Python\\Python39\\lib\\site-packages\\scipy\\stats\\stats.py:3913: PearsonRConstantInputWarning: An input array is constant; the correlation coefficent is not defined.\n",
      "  warnings.warn(PearsonRConstantInputWarning())\n",
      "c:\\Users\\Srikanta\\AppData\\Local\\Programs\\Python\\Python39\\lib\\site-packages\\scipy\\stats\\stats.py:3913: PearsonRConstantInputWarning: An input array is constant; the correlation coefficent is not defined.\n",
      "  warnings.warn(PearsonRConstantInputWarning())\n",
      "c:\\Users\\Srikanta\\AppData\\Local\\Programs\\Python\\Python39\\lib\\site-packages\\scipy\\stats\\stats.py:3913: PearsonRConstantInputWarning: An input array is constant; the correlation coefficent is not defined.\n",
      "  warnings.warn(PearsonRConstantInputWarning())\n",
      "c:\\Users\\Srikanta\\AppData\\Local\\Programs\\Python\\Python39\\lib\\site-packages\\scipy\\stats\\stats.py:3913: PearsonRConstantInputWarning: An input array is constant; the correlation coefficent is not defined.\n",
      "  warnings.warn(PearsonRConstantInputWarning())\n"
     ]
    },
    {
     "name": "stdout",
     "output_type": "stream",
     "text": [
      "Average null model MSE score: 19073.865381296106\n",
      "Average null model MAE score: 86.17113664476773\n",
      "Average null model R2 score: 0.0\n",
      "Average null model Pearson score: nan\n",
      "Average MSE score for k=2, g=1.6: 7127.359746567536\n",
      "Average MAE score for k=2, g=1.6: 34.31842830852905\n",
      "Average R2 score for k=2, g=1.6: 0.6771279508406438\n",
      "Average Pearson score for k=2, g=1.6: 0.8389989397901749\n"
     ]
    },
    {
     "name": "stderr",
     "output_type": "stream",
     "text": [
      "c:\\Users\\Srikanta\\AppData\\Local\\Programs\\Python\\Python39\\lib\\site-packages\\scipy\\stats\\stats.py:3913: PearsonRConstantInputWarning: An input array is constant; the correlation coefficent is not defined.\n",
      "  warnings.warn(PearsonRConstantInputWarning())\n"
     ]
    }
   ],
   "source": [
    "mse_scores = []\n",
    "mae_scores = []\n",
    "r2_scores = []\n",
    "pearson_scores = []\n",
    "null_model_scores = []\n",
    "\n",
    "# Lists to store null model metrics for MAE, R^2, and Pearson\n",
    "null_model_mae_scores = []\n",
    "null_model_r2_scores = []\n",
    "null_model_pearson_scores = []\n",
    "\n",
    "for i, (train_set, test_set) in enumerate(cross_validator.cross_validation(data_train, n_splits=2, n_repeats=5, random_state=42, stratify=False)):\n",
    "\n",
    "    edited_train_set = knn_model.edited_knn_regression(train_set,epsilon=epsilon*best_e)\n",
    "\n",
    "    data_train_standardized = data_processor.standardize_data(edited_train_set, edited_train_set, features=features)\n",
    "    data_test_standardized = data_processor.standardize_data(edited_train_set,test_set,features=features)  \n",
    "\n",
    "    predictions_1 = knn_model.knn_regression(data_test_standardized, data_train_standardized, k=best_k, gamma=best_g*gamma)['Predicted Value']\n",
    "\n",
    "    mse_score = Evaluation.mean_squared_error(data_test_standardized[config['target_column']], predictions_1)\n",
    "    mae_score = Evaluation.mean_absolute_error(data_test_standardized[config['target_column']], predictions_1)\n",
    "    r2_score = Evaluation.r2_coefficient(data_test_standardized[config['target_column']], predictions_1)\n",
    "    pearson_score = Evaluation.pearsons_correlation(data_test_standardized[config['target_column']], predictions_1)\n",
    "\n",
    "    mse_scores.append(mse_score)\n",
    "    mae_scores.append(mae_score)\n",
    "    r2_scores.append(r2_score)\n",
    "    pearson_scores.append(pearson_score)\n",
    "    \n",
    "    # Null model evaluation\n",
    "    null_model_prediction = null_model.naive_regression(test_set)\n",
    "    null_model_mse = Evaluation.mean_squared_error(test_set[config['target_column']], null_model_prediction)\n",
    "    null_model_mae = Evaluation.mean_absolute_error(test_set[config['target_column']], null_model_prediction)\n",
    "    null_model_r2 = Evaluation.r2_coefficient(test_set[config['target_column']], null_model_prediction)\n",
    "    null_model_pearson = Evaluation.pearsons_correlation(test_set[config['target_column']], null_model_prediction)\n",
    "\n",
    "    null_model_scores.append(null_model_mse)\n",
    "    null_model_mae_scores.append(null_model_mae)\n",
    "    null_model_r2_scores.append(null_model_r2)\n",
    "    null_model_pearson_scores.append(null_model_pearson)\n",
    "\n",
    "average_mse_score = sum(mse_scores) / len(mse_scores)\n",
    "average_mae_score = sum(mae_scores) / len(mae_scores)\n",
    "average_r2_score = sum(r2_scores) / len(r2_scores)\n",
    "average_pearson_score = sum(pearson_scores) / len(pearson_scores)\n",
    "average_null_model_mse = sum(null_model_scores) / len(null_model_scores)\n",
    "average_null_model_mae = sum(null_model_mae_scores) / len(null_model_mae_scores)\n",
    "average_null_model_r2 = sum(null_model_r2_scores) / len(null_model_r2_scores)\n",
    "average_null_model_pearson = sum(null_model_pearson_scores) / len(null_model_pearson_scores)\n",
    "\n",
    "print(f\"Average null model MSE score: {average_null_model_mse}\")\n",
    "print(f\"Average null model MAE score: {average_null_model_mae}\")\n",
    "print(f\"Average null model R2 score: {average_null_model_r2}\")\n",
    "print(f\"Average null model Pearson score: {average_null_model_pearson}\")\n",
    "print(f\"Average MSE score for k={best_k}, g={round(best_g,2)}: {average_mse_score}\")\n",
    "print(f\"Average MAE score for k={best_k}, g={round(best_g,2)}: {average_mae_score}\")\n",
    "print(f\"Average R2 score for k={best_k}, g={round(best_g,2)}: {average_r2_score}\")\n",
    "print(f\"Average Pearson score for k={best_k}, g={round(best_g,2)}: {average_pearson_score}\")\n"
   ]
  },
  {
   "cell_type": "markdown",
   "metadata": {},
   "source": [
    "## Condensed Knn ##"
   ]
  },
  {
   "cell_type": "markdown",
   "metadata": {},
   "source": [
    "#### Tuning Epsilon ####"
   ]
  },
  {
   "cell_type": "code",
   "execution_count": 14,
   "metadata": {},
   "outputs": [
    {
     "name": "stdout",
     "output_type": "stream",
     "text": [
      "Average MSE score with e=0.1: 17447.56000454993\n",
      "Average MSE score with e=0.2: 16896.84861439928\n",
      "Average MSE score with e=0.3: 16704.28329553683\n",
      "Average MSE score with e=0.4: 16750.02769167738\n",
      "Average MSE score with e=0.5: 17084.35193071019\n",
      "Average MSE score with e=0.6: 16968.831588224195\n",
      "Average MSE score with e=0.7: 17029.359931273084\n",
      "Average MSE score with e=0.8: 17397.454116927627\n",
      "Average MSE score with e=0.9: 18898.697946914144\n",
      "Average MSE score with e=1.0: 17904.628337784572\n",
      "Average MSE score with e=1.1: 21869.996747574576\n",
      "Average MSE score with e=1.2: 22378.684453243157\n",
      "Average MSE score with e=1.3: 19910.341902811862\n",
      "Average MSE score with e=1.4: 20142.66864165698\n",
      "Best e is 0.3 with the lowest average MSE score of 16704.28329553683\n"
     ]
    }
   ],
   "source": [
    "hyperparameters = np.arange(0.1,1.5,0.1)\n",
    "scores_dict = {}\n",
    "\n",
    "for e in hyperparameters: \n",
    "    scores = []\n",
    "    for i, (train_set_1, train_set_2) in enumerate(cross_validator.cross_validation(data_train, n_splits=2, n_repeats=5, random_state=42, stratify=False)):\n",
    "\n",
    "        condesed_train_set = knn_model.condensed_knn_regression(train_set_1,epsilon=epsilon*e)\n",
    "\n",
    "        data_train_standardized = data_processor.standardize_data(condesed_train_set, condesed_train_set, features=features)\n",
    "        data_val_standardized = data_processor.standardize_data(condesed_train_set,data_val,features=features)\n",
    "\n",
    "        predictions_1 = knn_model.knn_regression(data_val_standardized, data_train_standardized, k=best_k, gamma=gamma*best_g)['Predicted Value']\n",
    "        score_1 = Evaluation().mean_squared_error(data_val_standardized[config['target_column']], predictions_1)\n",
    "        scores.append(score_1)\n",
    "\n",
    "    average_score = sum(scores) / len(scores)\n",
    "    print(f\"Average MSE score with e={round(e,2)}: {average_score}\")\n",
    "    scores_dict[e] = average_score\n",
    "\n",
    "best_e = min(scores_dict, key=scores_dict.get)\n",
    "print(f\"Best e is {round(best_e,2)} with the lowest average MSE score of {scores_dict[best_e]}\")\n"
   ]
  },
  {
   "cell_type": "markdown",
   "metadata": {},
   "source": [
    "#### Tuning k ####"
   ]
  },
  {
   "cell_type": "code",
   "execution_count": 15,
   "metadata": {},
   "outputs": [
    {
     "name": "stdout",
     "output_type": "stream",
     "text": [
      "Average MSE score with k=1: 16681.178571428572\n",
      "Average MSE score with k=2: 16872.42236646374\n",
      "Average MSE score with k=3: 17756.84179879653\n",
      "Average MSE score with k=4: 18191.274619280284\n",
      "Average MSE score with k=5: 19297.02914160776\n",
      "Average MSE score with k=6: 20268.625101438483\n",
      "Average MSE score with k=7: 21302.02019214633\n",
      "Average MSE score with k=8: 23176.241596467455\n",
      "Average MSE score with k=9: 23556.7728800896\n",
      "Best k is 1 with the lowest average MSE score of 16681.178571428572\n"
     ]
    }
   ],
   "source": [
    "hyperparameters = np.arange(1,10,1)\n",
    "scores_dict = {}\n",
    "\n",
    "for k in hyperparameters: \n",
    "    scores = []\n",
    "    for i, (train_set_1, train_set_2) in enumerate(cross_validator.cross_validation(data_train, n_splits=2, n_repeats=5, random_state=42, stratify=False)):\n",
    "\n",
    "        condesed_train_set = knn_model.condensed_knn_regression(train_set_1,epsilon=epsilon*best_e)\n",
    "\n",
    "        data_train_standardized = data_processor.standardize_data(condesed_train_set, condesed_train_set, features=features)\n",
    "        data_val_standardized = data_processor.standardize_data(condesed_train_set,data_val,features=features)\n",
    "\n",
    "        predictions_1 = knn_model.knn_regression(data_val_standardized, data_train_standardized, k=k, gamma=gamma*best_g)['Predicted Value']\n",
    "        score_1 = Evaluation().mean_squared_error(data_val_standardized[config['target_column']], predictions_1)\n",
    "        scores.append(score_1)\n",
    "\n",
    "    average_score = sum(scores) / len(scores)\n",
    "    print(f\"Average MSE score with k={k}: {average_score}\")\n",
    "    scores_dict[k] = average_score\n",
    "\n",
    "best_k = min(scores_dict, key=scores_dict.get)\n",
    "print(f\"Best k is {best_k} with the lowest average MSE score of {scores_dict[best_k]}\")\n"
   ]
  },
  {
   "cell_type": "markdown",
   "metadata": {},
   "source": [
    "#### Tuning Gamma ####"
   ]
  },
  {
   "cell_type": "code",
   "execution_count": 16,
   "metadata": {},
   "outputs": [
    {
     "name": "stdout",
     "output_type": "stream",
     "text": [
      "Average MSE score with g=0.4: 16967.35238095238\n",
      "Average MSE score with g=0.6: 16612.966666666667\n",
      "Average MSE score with g=0.8: 17078.89285714286\n",
      "Average MSE score with g=1.0: 16647.280952380952\n",
      "Average MSE score with g=1.2: 16476.68095238095\n",
      "Average MSE score with g=1.4: 16760.033333333333\n",
      "Average MSE score with g=1.6: 16657.12857142857\n",
      "Best g is 1.2 with the lowest average MSE score of 16476.68095238095\n"
     ]
    }
   ],
   "source": [
    "hyperparameters = np.arange(0.4,1.6,0.2)\n",
    "scores_dict = {}\n",
    "\n",
    "for g in hyperparameters: \n",
    "    scores = []\n",
    "    for i, (train_set_1, train_set_2) in enumerate(cross_validator.cross_validation(data_train, n_splits=2, n_repeats=5, random_state=42, stratify=False)):\n",
    "\n",
    "        condesed_train_set = knn_model.condensed_knn_regression(train_set_1,epsilon=epsilon*best_e)\n",
    "\n",
    "        data_train_standardized = data_processor.standardize_data(condesed_train_set, condesed_train_set, features=features)\n",
    "        data_val_standardized = data_processor.standardize_data(condesed_train_set,data_val,features=features)  \n",
    "\n",
    "        predictions_1 = knn_model.knn_regression(data_val_standardized, data_train_standardized, k=best_k, gamma=g*gamma)['Predicted Value']\n",
    "        score_1 = Evaluation().mean_squared_error(data_val_standardized[config['target_column']], predictions_1)\n",
    "        scores.append(score_1)\n",
    "\n",
    "    average_score = sum(scores) / len(scores)\n",
    "    print(f\"Average MSE score with g={round(g,2)}: {average_score}\")\n",
    "    scores_dict[g] = average_score\n",
    "\n",
    "best_g = min(scores_dict, key=scores_dict.get)\n",
    "print(f\"Best g is {round(best_g,2)} with the lowest average MSE score of {scores_dict[best_g]}\")\n"
   ]
  },
  {
   "cell_type": "markdown",
   "metadata": {},
   "source": [
    "### Model Performance ###"
   ]
  },
  {
   "cell_type": "code",
   "execution_count": 17,
   "metadata": {},
   "outputs": [
    {
     "name": "stderr",
     "output_type": "stream",
     "text": [
      "c:\\Users\\Srikanta\\AppData\\Local\\Programs\\Python\\Python39\\lib\\site-packages\\scipy\\stats\\stats.py:3913: PearsonRConstantInputWarning: An input array is constant; the correlation coefficent is not defined.\n",
      "  warnings.warn(PearsonRConstantInputWarning())\n",
      "c:\\Users\\Srikanta\\AppData\\Local\\Programs\\Python\\Python39\\lib\\site-packages\\scipy\\stats\\stats.py:3913: PearsonRConstantInputWarning: An input array is constant; the correlation coefficent is not defined.\n",
      "  warnings.warn(PearsonRConstantInputWarning())\n",
      "c:\\Users\\Srikanta\\AppData\\Local\\Programs\\Python\\Python39\\lib\\site-packages\\scipy\\stats\\stats.py:3913: PearsonRConstantInputWarning: An input array is constant; the correlation coefficent is not defined.\n",
      "  warnings.warn(PearsonRConstantInputWarning())\n",
      "c:\\Users\\Srikanta\\AppData\\Local\\Programs\\Python\\Python39\\lib\\site-packages\\scipy\\stats\\stats.py:3913: PearsonRConstantInputWarning: An input array is constant; the correlation coefficent is not defined.\n",
      "  warnings.warn(PearsonRConstantInputWarning())\n",
      "c:\\Users\\Srikanta\\AppData\\Local\\Programs\\Python\\Python39\\lib\\site-packages\\scipy\\stats\\stats.py:3913: PearsonRConstantInputWarning: An input array is constant; the correlation coefficent is not defined.\n",
      "  warnings.warn(PearsonRConstantInputWarning())\n",
      "c:\\Users\\Srikanta\\AppData\\Local\\Programs\\Python\\Python39\\lib\\site-packages\\scipy\\stats\\stats.py:3913: PearsonRConstantInputWarning: An input array is constant; the correlation coefficent is not defined.\n",
      "  warnings.warn(PearsonRConstantInputWarning())\n",
      "c:\\Users\\Srikanta\\AppData\\Local\\Programs\\Python\\Python39\\lib\\site-packages\\scipy\\stats\\stats.py:3913: PearsonRConstantInputWarning: An input array is constant; the correlation coefficent is not defined.\n",
      "  warnings.warn(PearsonRConstantInputWarning())\n",
      "c:\\Users\\Srikanta\\AppData\\Local\\Programs\\Python\\Python39\\lib\\site-packages\\scipy\\stats\\stats.py:3913: PearsonRConstantInputWarning: An input array is constant; the correlation coefficent is not defined.\n",
      "  warnings.warn(PearsonRConstantInputWarning())\n",
      "c:\\Users\\Srikanta\\AppData\\Local\\Programs\\Python\\Python39\\lib\\site-packages\\scipy\\stats\\stats.py:3913: PearsonRConstantInputWarning: An input array is constant; the correlation coefficent is not defined.\n",
      "  warnings.warn(PearsonRConstantInputWarning())\n"
     ]
    },
    {
     "name": "stdout",
     "output_type": "stream",
     "text": [
      "Average null model MSE score: 19073.865381296106\n",
      "Average null model MAE score: 86.17113664476773\n",
      "Average null model R2 score: 0.0\n",
      "Average null model Pearson score: nan\n",
      "Average MSE score for k=1, g=1.2: 19155.20615318417\n",
      "Average MAE score for k=1, g=1.2: 74.39100688468159\n",
      "Average R2 score for k=1, g=1.2: -0.4623748099263908\n",
      "Average Pearson score for k=1, g=1.2: 0.717260614962077\n"
     ]
    },
    {
     "name": "stderr",
     "output_type": "stream",
     "text": [
      "c:\\Users\\Srikanta\\AppData\\Local\\Programs\\Python\\Python39\\lib\\site-packages\\scipy\\stats\\stats.py:3913: PearsonRConstantInputWarning: An input array is constant; the correlation coefficent is not defined.\n",
      "  warnings.warn(PearsonRConstantInputWarning())\n"
     ]
    }
   ],
   "source": [
    "mse_scores = []\n",
    "mae_scores = []\n",
    "r2_scores = []\n",
    "pearson_scores = []\n",
    "null_model_scores = []\n",
    "\n",
    "# Lists to store null model metrics for MAE, R^2, and Pearson\n",
    "null_model_mae_scores = []\n",
    "null_model_r2_scores = []\n",
    "null_model_pearson_scores = []\n",
    "\n",
    "for i, (train_set, test_set) in enumerate(cross_validator.cross_validation(data_train, n_splits=2, n_repeats=5, random_state=42, stratify=False)):\n",
    "\n",
    "    condesed_train_set = knn_model.condensed_knn_regression(train_set,epsilon=epsilon*best_e)\n",
    "\n",
    "    data_train_standardized = data_processor.standardize_data(condesed_train_set, condesed_train_set, features=features)\n",
    "    data_test_standardized = data_processor.standardize_data(edited_train_set,test_set,features=features)  \n",
    "\n",
    "    predictions_1 = knn_model.knn_regression(data_test_standardized, data_train_standardized, k=best_k, gamma=best_g*gamma)['Predicted Value']\n",
    "\n",
    "    mse_score = Evaluation.mean_squared_error(data_test_standardized[config['target_column']], predictions_1)\n",
    "    mae_score = Evaluation.mean_absolute_error(data_test_standardized[config['target_column']], predictions_1)\n",
    "    r2_score = Evaluation.r2_coefficient(data_test_standardized[config['target_column']], predictions_1)\n",
    "    pearson_score = Evaluation.pearsons_correlation(data_test_standardized[config['target_column']], predictions_1)\n",
    "\n",
    "    mse_scores.append(mse_score)\n",
    "    mae_scores.append(mae_score)\n",
    "    r2_scores.append(r2_score)\n",
    "    pearson_scores.append(pearson_score)\n",
    "    \n",
    "    # Null model evaluation\n",
    "    null_model_prediction = null_model.naive_regression(test_set)\n",
    "    null_model_mse = Evaluation.mean_squared_error(test_set[config['target_column']], null_model_prediction)\n",
    "    null_model_mae = Evaluation.mean_absolute_error(test_set[config['target_column']], null_model_prediction)\n",
    "    null_model_r2 = Evaluation.r2_coefficient(test_set[config['target_column']], null_model_prediction)\n",
    "    null_model_pearson = Evaluation.pearsons_correlation(test_set[config['target_column']], null_model_prediction)\n",
    "\n",
    "    null_model_scores.append(null_model_mse)\n",
    "    null_model_mae_scores.append(null_model_mae)\n",
    "    null_model_r2_scores.append(null_model_r2)\n",
    "    null_model_pearson_scores.append(null_model_pearson)\n",
    "\n",
    "\n",
    "average_mse_score = sum(mse_scores) / len(mse_scores)\n",
    "average_mae_score = sum(mae_scores) / len(mae_scores)\n",
    "average_r2_score = sum(r2_scores) / len(r2_scores)\n",
    "average_pearson_score = sum(pearson_scores) / len(pearson_scores)\n",
    "average_null_model_mse = sum(null_model_scores) / len(null_model_scores)\n",
    "average_null_model_mae = sum(null_model_mae_scores) / len(null_model_mae_scores)\n",
    "average_null_model_r2 = sum(null_model_r2_scores) / len(null_model_r2_scores)\n",
    "average_null_model_pearson = sum(null_model_pearson_scores) / len(null_model_pearson_scores)\n",
    "\n",
    "\n",
    "print(f\"Average null model MSE score: {average_null_model_mse}\")\n",
    "print(f\"Average null model MAE score: {average_null_model_mae}\")\n",
    "print(f\"Average null model R2 score: {average_null_model_r2}\")\n",
    "print(f\"Average null model Pearson score: {average_null_model_pearson}\")\n",
    "print(f\"Average MSE score for k={best_k}, g={round(best_g,2)}: {average_mse_score}\")\n",
    "print(f\"Average MAE score for k={best_k}, g={round(best_g,2)}: {average_mae_score}\")\n",
    "print(f\"Average R2 score for k={best_k}, g={round(best_g,2)}: {average_r2_score}\")\n",
    "print(f\"Average Pearson score for k={best_k}, g={round(best_g,2)}: {average_pearson_score}\")\n"
   ]
  }
 ],
 "metadata": {
  "kernelspec": {
   "display_name": "Python 3",
   "language": "python",
   "name": "python3"
  },
  "language_info": {
   "codemirror_mode": {
    "name": "ipython",
    "version": 3
   },
   "file_extension": ".py",
   "mimetype": "text/x-python",
   "name": "python",
   "nbconvert_exporter": "python",
   "pygments_lexer": "ipython3",
   "version": "3.9.1"
  }
 },
 "nbformat": 4,
 "nbformat_minor": 2
}
