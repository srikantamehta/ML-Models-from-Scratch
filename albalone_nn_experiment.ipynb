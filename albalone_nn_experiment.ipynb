{
 "cells": [
  {
   "cell_type": "code",
   "execution_count": 31,
   "metadata": {},
   "outputs": [],
   "source": [
    "from src.data_preprocessor import DataProcessor\n",
    "from data_configs.configs import *\n",
    "from models.neural_networks import *\n",
    "from src.cross_validation import CrossValidation\n",
    "import numpy as np\n",
    "\n",
    "config = albalone_config\n",
    "data_processor = DataProcessor(config=config)\n",
    "cross_validator = CrossValidation(config=config)"
   ]
  },
  {
   "cell_type": "code",
   "execution_count": 32,
   "metadata": {},
   "outputs": [
    {
     "name": "stderr",
     "output_type": "stream",
     "text": [
      "c:\\Users\\Srikanta\\Documents\\Intro to Machine Learning\\programming_assignment_1\\src\\data_preprocessor.py:47: FutureWarning: A value is trying to be set on a copy of a DataFrame or Series through chained assignment using an inplace method.\n",
      "The behavior will change in pandas 3.0. This inplace method will never work because the intermediate object on which we are setting values always behaves as a copy.\n",
      "\n",
      "For example, when doing 'df[col].method(value, inplace=True)', try using 'df.method({col: value}, inplace=True)' or df[col] = df[col].method(value) instead, to perform the operation inplace on the original object.\n",
      "\n",
      "\n",
      "  data[column].fillna(data[column].mode()[0], inplace=True)\n",
      "c:\\Users\\Srikanta\\Documents\\Intro to Machine Learning\\programming_assignment_1\\src\\data_preprocessor.py:44: FutureWarning: A value is trying to be set on a copy of a DataFrame or Series through chained assignment using an inplace method.\n",
      "The behavior will change in pandas 3.0. This inplace method will never work because the intermediate object on which we are setting values always behaves as a copy.\n",
      "\n",
      "For example, when doing 'df[col].method(value, inplace=True)', try using 'df.method({col: value}, inplace=True)' or df[col] = df[col].method(value) instead, to perform the operation inplace on the original object.\n",
      "\n",
      "\n",
      "  data[column].fillna(data[column].mean(), inplace=True)\n"
     ]
    }
   ],
   "source": [
    "raw_data = data_processor.load_data()\n",
    "data_1 = data_processor.impute_missing_values(raw_data)\n",
    "data_2 = data_processor.encode_nominal_features(data_1)\n",
    "data_3 = data_processor.encode_ordinal_features(data_2)\n",
    "data_4 = data_processor.standardize_data(data_3,data_3,features=['Length', 'Diameter', 'Height', 'Whole weight', 'Shucked weight',\n",
    "       'Viscera weight', 'Shell weight'])"
   ]
  },
  {
   "cell_type": "code",
   "execution_count": 33,
   "metadata": {},
   "outputs": [],
   "source": [
    "data_4 = data_4[['Length', 'Diameter', 'Height', 'Whole weight', 'Shucked weight','Viscera weight', 'Shell weight','Sex_F', 'Sex_I', 'Sex_M','Rings']]"
   ]
  },
  {
   "cell_type": "code",
   "execution_count": 34,
   "metadata": {},
   "outputs": [
    {
     "data": {
      "text/html": [
       "<div>\n",
       "<style scoped>\n",
       "    .dataframe tbody tr th:only-of-type {\n",
       "        vertical-align: middle;\n",
       "    }\n",
       "\n",
       "    .dataframe tbody tr th {\n",
       "        vertical-align: top;\n",
       "    }\n",
       "\n",
       "    .dataframe thead th {\n",
       "        text-align: right;\n",
       "    }\n",
       "</style>\n",
       "<table border=\"1\" class=\"dataframe\">\n",
       "  <thead>\n",
       "    <tr style=\"text-align: right;\">\n",
       "      <th></th>\n",
       "      <th>Length</th>\n",
       "      <th>Diameter</th>\n",
       "      <th>Height</th>\n",
       "      <th>Whole weight</th>\n",
       "      <th>Shucked weight</th>\n",
       "      <th>Viscera weight</th>\n",
       "      <th>Shell weight</th>\n",
       "      <th>Sex_F</th>\n",
       "      <th>Sex_I</th>\n",
       "      <th>Sex_M</th>\n",
       "      <th>Rings</th>\n",
       "    </tr>\n",
       "  </thead>\n",
       "  <tbody>\n",
       "    <tr>\n",
       "      <th>0</th>\n",
       "      <td>-0.574489</td>\n",
       "      <td>-0.432097</td>\n",
       "      <td>-1.064297</td>\n",
       "      <td>-0.641821</td>\n",
       "      <td>-0.607613</td>\n",
       "      <td>-0.726125</td>\n",
       "      <td>-0.638140</td>\n",
       "      <td>0</td>\n",
       "      <td>0</td>\n",
       "      <td>1</td>\n",
       "      <td>15</td>\n",
       "    </tr>\n",
       "    <tr>\n",
       "      <th>1</th>\n",
       "      <td>-1.448812</td>\n",
       "      <td>-1.439757</td>\n",
       "      <td>-1.183837</td>\n",
       "      <td>-1.230130</td>\n",
       "      <td>-1.170770</td>\n",
       "      <td>-1.205077</td>\n",
       "      <td>-1.212842</td>\n",
       "      <td>0</td>\n",
       "      <td>0</td>\n",
       "      <td>1</td>\n",
       "      <td>7</td>\n",
       "    </tr>\n",
       "    <tr>\n",
       "      <th>2</th>\n",
       "      <td>0.050027</td>\n",
       "      <td>0.122116</td>\n",
       "      <td>-0.107978</td>\n",
       "      <td>-0.309432</td>\n",
       "      <td>-0.463444</td>\n",
       "      <td>-0.356647</td>\n",
       "      <td>-0.207114</td>\n",
       "      <td>1</td>\n",
       "      <td>0</td>\n",
       "      <td>0</td>\n",
       "      <td>9</td>\n",
       "    </tr>\n",
       "    <tr>\n",
       "      <th>3</th>\n",
       "      <td>-0.699393</td>\n",
       "      <td>-0.432097</td>\n",
       "      <td>-0.347058</td>\n",
       "      <td>-0.637743</td>\n",
       "      <td>-0.648160</td>\n",
       "      <td>-0.607527</td>\n",
       "      <td>-0.602222</td>\n",
       "      <td>0</td>\n",
       "      <td>0</td>\n",
       "      <td>1</td>\n",
       "      <td>10</td>\n",
       "    </tr>\n",
       "    <tr>\n",
       "      <th>4</th>\n",
       "      <td>-1.615350</td>\n",
       "      <td>-1.540523</td>\n",
       "      <td>-1.422916</td>\n",
       "      <td>-1.271933</td>\n",
       "      <td>-1.215822</td>\n",
       "      <td>-1.287183</td>\n",
       "      <td>-1.320599</td>\n",
       "      <td>0</td>\n",
       "      <td>1</td>\n",
       "      <td>0</td>\n",
       "      <td>7</td>\n",
       "    </tr>\n",
       "    <tr>\n",
       "      <th>...</th>\n",
       "      <td>...</td>\n",
       "      <td>...</td>\n",
       "      <td>...</td>\n",
       "      <td>...</td>\n",
       "      <td>...</td>\n",
       "      <td>...</td>\n",
       "      <td>...</td>\n",
       "      <td>...</td>\n",
       "      <td>...</td>\n",
       "      <td>...</td>\n",
       "      <td>...</td>\n",
       "    </tr>\n",
       "    <tr>\n",
       "      <th>4172</th>\n",
       "      <td>0.341468</td>\n",
       "      <td>0.424414</td>\n",
       "      <td>0.609261</td>\n",
       "      <td>0.118799</td>\n",
       "      <td>0.047902</td>\n",
       "      <td>0.532836</td>\n",
       "      <td>0.073053</td>\n",
       "      <td>1</td>\n",
       "      <td>0</td>\n",
       "      <td>0</td>\n",
       "      <td>11</td>\n",
       "    </tr>\n",
       "    <tr>\n",
       "      <th>4173</th>\n",
       "      <td>0.549640</td>\n",
       "      <td>0.323648</td>\n",
       "      <td>-0.107978</td>\n",
       "      <td>0.279896</td>\n",
       "      <td>0.358765</td>\n",
       "      <td>0.309325</td>\n",
       "      <td>0.155666</td>\n",
       "      <td>0</td>\n",
       "      <td>0</td>\n",
       "      <td>1</td>\n",
       "      <td>10</td>\n",
       "    </tr>\n",
       "    <tr>\n",
       "      <th>4174</th>\n",
       "      <td>0.632909</td>\n",
       "      <td>0.676328</td>\n",
       "      <td>1.565580</td>\n",
       "      <td>0.708127</td>\n",
       "      <td>0.748470</td>\n",
       "      <td>0.975296</td>\n",
       "      <td>0.496895</td>\n",
       "      <td>0</td>\n",
       "      <td>0</td>\n",
       "      <td>1</td>\n",
       "      <td>9</td>\n",
       "    </tr>\n",
       "    <tr>\n",
       "      <th>4175</th>\n",
       "      <td>0.841081</td>\n",
       "      <td>0.777094</td>\n",
       "      <td>0.250642</td>\n",
       "      <td>0.541933</td>\n",
       "      <td>0.773248</td>\n",
       "      <td>0.733540</td>\n",
       "      <td>0.410690</td>\n",
       "      <td>1</td>\n",
       "      <td>0</td>\n",
       "      <td>0</td>\n",
       "      <td>10</td>\n",
       "    </tr>\n",
       "    <tr>\n",
       "      <th>4176</th>\n",
       "      <td>1.548867</td>\n",
       "      <td>1.482456</td>\n",
       "      <td>1.326500</td>\n",
       "      <td>2.283407</td>\n",
       "      <td>2.640677</td>\n",
       "      <td>1.787235</td>\n",
       "      <td>1.840260</td>\n",
       "      <td>0</td>\n",
       "      <td>0</td>\n",
       "      <td>1</td>\n",
       "      <td>12</td>\n",
       "    </tr>\n",
       "  </tbody>\n",
       "</table>\n",
       "<p>4177 rows × 11 columns</p>\n",
       "</div>"
      ],
      "text/plain": [
       "        Length  Diameter    Height  Whole weight  Shucked weight  \\\n",
       "0    -0.574489 -0.432097 -1.064297     -0.641821       -0.607613   \n",
       "1    -1.448812 -1.439757 -1.183837     -1.230130       -1.170770   \n",
       "2     0.050027  0.122116 -0.107978     -0.309432       -0.463444   \n",
       "3    -0.699393 -0.432097 -0.347058     -0.637743       -0.648160   \n",
       "4    -1.615350 -1.540523 -1.422916     -1.271933       -1.215822   \n",
       "...        ...       ...       ...           ...             ...   \n",
       "4172  0.341468  0.424414  0.609261      0.118799        0.047902   \n",
       "4173  0.549640  0.323648 -0.107978      0.279896        0.358765   \n",
       "4174  0.632909  0.676328  1.565580      0.708127        0.748470   \n",
       "4175  0.841081  0.777094  0.250642      0.541933        0.773248   \n",
       "4176  1.548867  1.482456  1.326500      2.283407        2.640677   \n",
       "\n",
       "      Viscera weight  Shell weight  Sex_F  Sex_I  Sex_M  Rings  \n",
       "0          -0.726125     -0.638140      0      0      1     15  \n",
       "1          -1.205077     -1.212842      0      0      1      7  \n",
       "2          -0.356647     -0.207114      1      0      0      9  \n",
       "3          -0.607527     -0.602222      0      0      1     10  \n",
       "4          -1.287183     -1.320599      0      1      0      7  \n",
       "...              ...           ...    ...    ...    ...    ...  \n",
       "4172        0.532836      0.073053      1      0      0     11  \n",
       "4173        0.309325      0.155666      0      0      1     10  \n",
       "4174        0.975296      0.496895      0      0      1      9  \n",
       "4175        0.733540      0.410690      1      0      0     10  \n",
       "4176        1.787235      1.840260      0      0      1     12  \n",
       "\n",
       "[4177 rows x 11 columns]"
      ]
     },
     "execution_count": 34,
     "metadata": {},
     "output_type": "execute_result"
    }
   ],
   "source": [
    "data_4"
   ]
  },
  {
   "cell_type": "code",
   "execution_count": 35,
   "metadata": {},
   "outputs": [],
   "source": [
    "data_train, data_val = cross_validator.random_partition(data_4, random_state=42)"
   ]
  },
  {
   "cell_type": "code",
   "execution_count": 36,
   "metadata": {},
   "outputs": [],
   "source": [
    "data = data_train.to_numpy()\n",
    "X_train = data[:,:-1]\n",
    "y_train = data[:,-1:]"
   ]
  },
  {
   "cell_type": "code",
   "execution_count": 37,
   "metadata": {},
   "outputs": [],
   "source": [
    "data_test = data_val.to_numpy()\n",
    "X_val = data_test[:,:-1]\n",
    "y_val = data_test[:,-1:]"
   ]
  },
  {
   "cell_type": "code",
   "execution_count": null,
   "metadata": {},
   "outputs": [],
   "source": [
    "autoE = AutoEncoder(config,n_input=X_train.shape[1],n_encoder=4)\n",
    "\n",
    "autoE.train(X_train, max_epochs=30000, lr=0.0001)"
   ]
  },
  {
   "cell_type": "code",
   "execution_count": 38,
   "metadata": {},
   "outputs": [
    {
     "name": "stdout",
     "output_type": "stream",
     "text": [
      "Epoch 0/3000, Train MSE: 108.51596323226543, Val MSE: 107.97656223610541\n"
     ]
    },
    {
     "name": "stdout",
     "output_type": "stream",
     "text": [
      "Epoch 100/3000, Train MSE: 59.35599043487487, Val MSE: 59.13557124350659\n",
      "Epoch 200/3000, Train MSE: 12.773369073024009, Val MSE: 12.967571680816858\n",
      "Epoch 300/3000, Train MSE: 6.4330750433174115, Val MSE: 6.613397211550754\n",
      "Epoch 400/3000, Train MSE: 6.208657462594572, Val MSE: 6.383329624149149\n",
      "Epoch 500/3000, Train MSE: 5.985696171174245, Val MSE: 6.1604807527149585\n",
      "Epoch 600/3000, Train MSE: 5.752663632318692, Val MSE: 5.935178769904722\n",
      "Epoch 700/3000, Train MSE: 5.515657840754807, Val MSE: 5.717021530289249\n",
      "Epoch 800/3000, Train MSE: 5.300415091959838, Val MSE: 5.533031174898138\n",
      "Epoch 900/3000, Train MSE: 5.136729770066577, Val MSE: 5.407740306800641\n",
      "Epoch 1000/3000, Train MSE: 5.030704200938752, Val MSE: 5.337097392968061\n",
      "Epoch 1100/3000, Train MSE: 4.966879656333608, Val MSE: 5.298442469646089\n",
      "Epoch 1200/3000, Train MSE: 4.928274141298752, Val MSE: 5.273920890657002\n",
      "Epoch 1300/3000, Train MSE: 4.9039131049863585, Val MSE: 5.255253270450942\n",
      "Epoch 1400/3000, Train MSE: 4.8875862993190236, Val MSE: 5.239392453910211\n",
      "Epoch 1500/3000, Train MSE: 4.875841279294529, Val MSE: 5.225266970393995\n",
      "Epoch 1600/3000, Train MSE: 4.866752631554937, Val MSE: 5.212444409657753\n",
      "Epoch 1700/3000, Train MSE: 4.859237929668321, Val MSE: 5.200686584805377\n",
      "Epoch 1800/3000, Train MSE: 4.852681008192235, Val MSE: 5.189819264239765\n",
      "Epoch 1900/3000, Train MSE: 4.846725817124961, Val MSE: 5.179699310252776\n",
      "Epoch 2000/3000, Train MSE: 4.8411634730616315, Val MSE: 5.170207488520287\n",
      "Epoch 2100/3000, Train MSE: 4.835869600936783, Val MSE: 5.16124598026311\n",
      "Epoch 2200/3000, Train MSE: 4.830768878074242, Val MSE: 5.15273582082491\n",
      "Epoch 2300/3000, Train MSE: 4.825814506092341, Val MSE: 5.144613885990654\n",
      "Epoch 2400/3000, Train MSE: 4.820976026281724, Val MSE: 5.136829820296078\n",
      "Epoch 2500/3000, Train MSE: 4.816231858610753, Val MSE: 5.129343184517822\n",
      "Epoch 2600/3000, Train MSE: 4.811564504682361, Val MSE: 5.122120884848098\n",
      "Epoch 2700/3000, Train MSE: 4.806957193209373, Val MSE: 5.115134794455852\n",
      "Epoch 2800/3000, Train MSE: 4.80239121018033, Val MSE: 5.108359379107353\n",
      "Epoch 2900/3000, Train MSE: 4.797843430428123, Val MSE: 5.101769056336822\n"
     ]
    }
   ],
   "source": [
    "ffn = FeedForwardNetwork(config,n_input=X_train.shape[1],n_hidden_1=24,n_hidden_2=24,n_output=1)\n",
    "\n",
    "MSEs, val_metrics, final_mse = ffn.train(X_train,y_train,X_val,y_val,3000,0.000001)"
   ]
  },
  {
   "cell_type": "code",
   "execution_count": 39,
   "metadata": {},
   "outputs": [
    {
     "data": {
      "text/plain": [
       "[<matplotlib.lines.Line2D at 0x1f6e7840910>]"
      ]
     },
     "execution_count": 39,
     "metadata": {},
     "output_type": "execute_result"
    },
    {
     "data": {
      "image/png": "[encoded data removed]",
      "text/plain": [
       "<Figure size 640x480 with 1 Axes>"
      ]
     },
     "metadata": {},
     "output_type": "display_data"
    }
   ],
   "source": [
    "import matplotlib.pyplot as plt\n",
    "\n",
    "plt.plot(MSEs)\n",
    "plt.plot(val_metrics)"
   ]
  },
  {
   "cell_type": "code",
   "execution_count": 40,
   "metadata": {},
   "outputs": [
    {
     "name": "stdout",
     "output_type": "stream",
     "text": [
      "Epoch 0/1000, Training MSE: 108.90877403560643, Validation MSE: 102.44410728466258\n",
      "Epoch 100/1000, Training MSE: 6.516938879446768, Validation MSE: 6.577528977266407\n",
      "Epoch 200/1000, Training MSE: 5.6084509819971755, Validation MSE: 5.69106671979239\n",
      "Epoch 300/1000, Training MSE: 5.343795670286212, Validation MSE: 5.436539505829112\n",
      "Epoch 400/1000, Training MSE: 5.187668423914751, Validation MSE: 5.293965851133635\n",
      "Epoch 500/1000, Training MSE: 5.091152921772452, Validation MSE: 5.21077038458226\n",
      "Epoch 600/1000, Training MSE: 5.029879300259159, Validation MSE: 5.161146261492091\n",
      "Epoch 700/1000, Training MSE: 4.990108115135463, Validation MSE: 5.131013516479035\n",
      "Epoch 800/1000, Training MSE: 4.963697767434541, Validation MSE: 5.112344541195539\n",
      "Epoch 900/1000, Training MSE: 4.945688780211776, Validation MSE: 5.1004410513083585\n"
     ]
    }
   ],
   "source": [
    "linear = LinearNetwork(config)\n",
    "\n",
    "losses = linear.linear_regression(X_train,y_train,X_val,y_val)"
   ]
  },
  {
   "cell_type": "code",
   "execution_count": null,
   "metadata": {},
   "outputs": [],
   "source": []
  }
 ],
 "metadata": {
  "kernelspec": {
   "display_name": ".venv",
   "language": "python",
   "name": "python3"
  },
  "language_info": {
   "codemirror_mode": {
    "name": "ipython",
    "version": 3
   },
   "file_extension": ".py",
   "mimetype": "text/x-python",
   "name": "python",
   "nbconvert_exporter": "python",
   "pygments_lexer": "ipython3",
   "version": "3.11.8"
  }
 },
 "nbformat": 4,
 "nbformat_minor": 2
}
