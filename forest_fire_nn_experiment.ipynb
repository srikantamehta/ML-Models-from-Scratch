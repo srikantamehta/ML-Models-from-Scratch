{
 "cells": [
  {
   "cell_type": "code",
   "execution_count": 1,
   "metadata": {},
   "outputs": [],
   "source": [
    "from src.data_preprocessor import DataProcessor\n",
    "from data_configs.configs import *\n",
    "from models.neural_networks import *\n",
    "from src.cross_validation import CrossValidation\n",
    "import numpy as np\n",
    "\n",
    "config = forest_fires_config\n",
    "data_processor = DataProcessor(config=config)\n",
    "cross_validator = CrossValidation(config=config)"
   ]
  },
  {
   "cell_type": "code",
   "execution_count": 2,
   "metadata": {},
   "outputs": [
    {
     "name": "stderr",
     "output_type": "stream",
     "text": [
      "c:\\Users\\Srikanta\\Documents\\Intro to Machine Learning\\programming_assignment_1\\src\\data_preprocessor.py:44: FutureWarning: A value is trying to be set on a copy of a DataFrame or Series through chained assignment using an inplace method.\n",
      "The behavior will change in pandas 3.0. This inplace method will never work because the intermediate object on which we are setting values always behaves as a copy.\n",
      "\n",
      "For example, when doing 'df[col].method(value, inplace=True)', try using 'df.method({col: value}, inplace=True)' or df[col] = df[col].method(value) instead, to perform the operation inplace on the original object.\n",
      "\n",
      "\n",
      "  data[column].fillna(data[column].mean(), inplace=True)\n"
     ]
    }
   ],
   "source": [
    "raw_data = data_processor.load_data()\n",
    "data_1 = data_processor.impute_missing_values(raw_data)\n",
    "data_2 = data_processor.encode_nominal_features(data_1)\n",
    "data_3 = data_processor.encode_ordinal_features(data_2)\n",
    "data_4 = data_processor.standardize_data(data_3,data_3,features=['X', 'Y', 'month', 'day', 'FFMC', 'DMC', 'DC', 'ISI', 'temp', 'RH',\n",
    "       'wind', 'rain'])\n",
    "data_5 = data_processor.log_transform(data_4)"
   ]
  },
  {
   "cell_type": "code",
   "execution_count": 3,
   "metadata": {},
   "outputs": [
    {
     "data": {
      "text/html": [
       "<div>\n",
       "<style scoped>\n",
       "    .dataframe tbody tr th:only-of-type {\n",
       "        vertical-align: middle;\n",
       "    }\n",
       "\n",
       "    .dataframe tbody tr th {\n",
       "        vertical-align: top;\n",
       "    }\n",
       "\n",
       "    .dataframe thead th {\n",
       "        text-align: right;\n",
       "    }\n",
       "</style>\n",
       "<table border=\"1\" class=\"dataframe\">\n",
       "  <thead>\n",
       "    <tr style=\"text-align: right;\">\n",
       "      <th></th>\n",
       "      <th>X</th>\n",
       "      <th>Y</th>\n",
       "      <th>month</th>\n",
       "      <th>day</th>\n",
       "      <th>FFMC</th>\n",
       "      <th>DMC</th>\n",
       "      <th>DC</th>\n",
       "      <th>ISI</th>\n",
       "      <th>temp</th>\n",
       "      <th>RH</th>\n",
       "      <th>wind</th>\n",
       "      <th>rain</th>\n",
       "      <th>area</th>\n",
       "    </tr>\n",
       "  </thead>\n",
       "  <tbody>\n",
       "    <tr>\n",
       "      <th>0</th>\n",
       "      <td>1.007337</td>\n",
       "      <td>0.569309</td>\n",
       "      <td>-1.966538</td>\n",
       "      <td>0.357375</td>\n",
       "      <td>-0.805180</td>\n",
       "      <td>-1.322045</td>\n",
       "      <td>-1.828706</td>\n",
       "      <td>-0.860113</td>\n",
       "      <td>-1.840857</td>\n",
       "      <td>0.411326</td>\n",
       "      <td>1.497164</td>\n",
       "      <td>-0.073197</td>\n",
       "      <td>0.000000</td>\n",
       "    </tr>\n",
       "    <tr>\n",
       "      <th>1</th>\n",
       "      <td>1.007337</td>\n",
       "      <td>-0.243765</td>\n",
       "      <td>1.109046</td>\n",
       "      <td>-1.089853</td>\n",
       "      <td>-0.008094</td>\n",
       "      <td>-1.178399</td>\n",
       "      <td>0.488418</td>\n",
       "      <td>-0.509195</td>\n",
       "      <td>-0.153130</td>\n",
       "      <td>-0.691786</td>\n",
       "      <td>-1.740070</td>\n",
       "      <td>-0.073197</td>\n",
       "      <td>0.000000</td>\n",
       "    </tr>\n",
       "    <tr>\n",
       "      <th>2</th>\n",
       "      <td>1.007337</td>\n",
       "      <td>-0.243765</td>\n",
       "      <td>1.109046</td>\n",
       "      <td>0.839784</td>\n",
       "      <td>-0.008094</td>\n",
       "      <td>-1.048806</td>\n",
       "      <td>0.560173</td>\n",
       "      <td>-0.509195</td>\n",
       "      <td>-0.738668</td>\n",
       "      <td>-0.691786</td>\n",
       "      <td>-1.516813</td>\n",
       "      <td>-0.073197</td>\n",
       "      <td>0.000000</td>\n",
       "    </tr>\n",
       "    <tr>\n",
       "      <th>3</th>\n",
       "      <td>1.439531</td>\n",
       "      <td>1.382383</td>\n",
       "      <td>-1.966538</td>\n",
       "      <td>0.357375</td>\n",
       "      <td>0.191177</td>\n",
       "      <td>-1.211188</td>\n",
       "      <td>-1.896429</td>\n",
       "      <td>-0.004751</td>\n",
       "      <td>-1.823636</td>\n",
       "      <td>3.230391</td>\n",
       "      <td>-0.009824</td>\n",
       "      <td>0.602572</td>\n",
       "      <td>0.000000</td>\n",
       "    </tr>\n",
       "    <tr>\n",
       "      <th>4</th>\n",
       "      <td>1.439531</td>\n",
       "      <td>1.382383</td>\n",
       "      <td>-1.966538</td>\n",
       "      <td>1.322193</td>\n",
       "      <td>-0.243597</td>\n",
       "      <td>-0.930142</td>\n",
       "      <td>-1.796859</td>\n",
       "      <td>0.126843</td>\n",
       "      <td>-1.289763</td>\n",
       "      <td>3.352959</td>\n",
       "      <td>-1.237741</td>\n",
       "      <td>-0.073197</td>\n",
       "      <td>0.000000</td>\n",
       "    </tr>\n",
       "    <tr>\n",
       "      <th>...</th>\n",
       "      <td>...</td>\n",
       "      <td>...</td>\n",
       "      <td>...</td>\n",
       "      <td>...</td>\n",
       "      <td>...</td>\n",
       "      <td>...</td>\n",
       "      <td>...</td>\n",
       "      <td>...</td>\n",
       "      <td>...</td>\n",
       "      <td>...</td>\n",
       "      <td>...</td>\n",
       "      <td>...</td>\n",
       "      <td>...</td>\n",
       "    </tr>\n",
       "    <tr>\n",
       "      <th>512</th>\n",
       "      <td>-0.289244</td>\n",
       "      <td>-1.056839</td>\n",
       "      <td>0.230308</td>\n",
       "      <td>1.322193</td>\n",
       "      <td>-1.638496</td>\n",
       "      <td>-0.845829</td>\n",
       "      <td>0.474309</td>\n",
       "      <td>-1.561947</td>\n",
       "      <td>1.534597</td>\n",
       "      <td>-0.753070</td>\n",
       "      <td>-0.735411</td>\n",
       "      <td>-0.073197</td>\n",
       "      <td>2.006871</td>\n",
       "    </tr>\n",
       "    <tr>\n",
       "      <th>513</th>\n",
       "      <td>-1.153631</td>\n",
       "      <td>-0.243765</td>\n",
       "      <td>0.230308</td>\n",
       "      <td>1.322193</td>\n",
       "      <td>-1.638496</td>\n",
       "      <td>-0.845829</td>\n",
       "      <td>0.474309</td>\n",
       "      <td>-1.561947</td>\n",
       "      <td>0.518517</td>\n",
       "      <td>1.637006</td>\n",
       "      <td>0.994835</td>\n",
       "      <td>-0.073197</td>\n",
       "      <td>4.012592</td>\n",
       "    </tr>\n",
       "    <tr>\n",
       "      <th>514</th>\n",
       "      <td>1.007337</td>\n",
       "      <td>-0.243765</td>\n",
       "      <td>0.230308</td>\n",
       "      <td>1.322193</td>\n",
       "      <td>-1.638496</td>\n",
       "      <td>-0.845829</td>\n",
       "      <td>0.474309</td>\n",
       "      <td>-1.561947</td>\n",
       "      <td>0.397965</td>\n",
       "      <td>1.575722</td>\n",
       "      <td>1.497164</td>\n",
       "      <td>-0.073197</td>\n",
       "      <td>2.498152</td>\n",
       "    </tr>\n",
       "    <tr>\n",
       "      <th>515</th>\n",
       "      <td>-1.585825</td>\n",
       "      <td>-0.243765</td>\n",
       "      <td>0.230308</td>\n",
       "      <td>0.839784</td>\n",
       "      <td>0.680298</td>\n",
       "      <td>0.548471</td>\n",
       "      <td>0.269122</td>\n",
       "      <td>0.499693</td>\n",
       "      <td>1.155720</td>\n",
       "      <td>-0.140230</td>\n",
       "      <td>-0.009824</td>\n",
       "      <td>-0.073197</td>\n",
       "      <td>0.000000</td>\n",
       "    </tr>\n",
       "    <tr>\n",
       "      <th>516</th>\n",
       "      <td>0.575144</td>\n",
       "      <td>-1.056839</td>\n",
       "      <td>1.548415</td>\n",
       "      <td>-1.089853</td>\n",
       "      <td>-2.018923</td>\n",
       "      <td>-1.684282</td>\n",
       "      <td>-1.778719</td>\n",
       "      <td>-1.737406</td>\n",
       "      <td>-1.220876</td>\n",
       "      <td>-0.814354</td>\n",
       "      <td>0.269248</td>\n",
       "      <td>-0.073197</td>\n",
       "      <td>0.000000</td>\n",
       "    </tr>\n",
       "  </tbody>\n",
       "</table>\n",
       "<p>517 rows × 13 columns</p>\n",
       "</div>"
      ],
      "text/plain": [
       "            X         Y     month       day      FFMC       DMC        DC  \\\n",
       "0    1.007337  0.569309 -1.966538  0.357375 -0.805180 -1.322045 -1.828706   \n",
       "1    1.007337 -0.243765  1.109046 -1.089853 -0.008094 -1.178399  0.488418   \n",
       "2    1.007337 -0.243765  1.109046  0.839784 -0.008094 -1.048806  0.560173   \n",
       "3    1.439531  1.382383 -1.966538  0.357375  0.191177 -1.211188 -1.896429   \n",
       "4    1.439531  1.382383 -1.966538  1.322193 -0.243597 -0.930142 -1.796859   \n",
       "..        ...       ...       ...       ...       ...       ...       ...   \n",
       "512 -0.289244 -1.056839  0.230308  1.322193 -1.638496 -0.845829  0.474309   \n",
       "513 -1.153631 -0.243765  0.230308  1.322193 -1.638496 -0.845829  0.474309   \n",
       "514  1.007337 -0.243765  0.230308  1.322193 -1.638496 -0.845829  0.474309   \n",
       "515 -1.585825 -0.243765  0.230308  0.839784  0.680298  0.548471  0.269122   \n",
       "516  0.575144 -1.056839  1.548415 -1.089853 -2.018923 -1.684282 -1.778719   \n",
       "\n",
       "          ISI      temp        RH      wind      rain      area  \n",
       "0   -0.860113 -1.840857  0.411326  1.497164 -0.073197  0.000000  \n",
       "1   -0.509195 -0.153130 -0.691786 -1.740070 -0.073197  0.000000  \n",
       "2   -0.509195 -0.738668 -0.691786 -1.516813 -0.073197  0.000000  \n",
       "3   -0.004751 -1.823636  3.230391 -0.009824  0.602572  0.000000  \n",
       "4    0.126843 -1.289763  3.352959 -1.237741 -0.073197  0.000000  \n",
       "..        ...       ...       ...       ...       ...       ...  \n",
       "512 -1.561947  1.534597 -0.753070 -0.735411 -0.073197  2.006871  \n",
       "513 -1.561947  0.518517  1.637006  0.994835 -0.073197  4.012592  \n",
       "514 -1.561947  0.397965  1.575722  1.497164 -0.073197  2.498152  \n",
       "515  0.499693  1.155720 -0.140230 -0.009824 -0.073197  0.000000  \n",
       "516 -1.737406 -1.220876 -0.814354  0.269248 -0.073197  0.000000  \n",
       "\n",
       "[517 rows x 13 columns]"
      ]
     },
     "execution_count": 3,
     "metadata": {},
     "output_type": "execute_result"
    }
   ],
   "source": [
    "data_5"
   ]
  },
  {
   "cell_type": "code",
   "execution_count": 4,
   "metadata": {},
   "outputs": [],
   "source": [
    "data_train, data_val = cross_validator.random_partition(data_4, random_state=42)"
   ]
  },
  {
   "cell_type": "code",
   "execution_count": 5,
   "metadata": {},
   "outputs": [],
   "source": [
    "data = data_train.to_numpy()\n",
    "X_train = data[:,:-1]\n",
    "y_train = data[:,-1:]"
   ]
  },
  {
   "cell_type": "code",
   "execution_count": 6,
   "metadata": {},
   "outputs": [],
   "source": [
    "data_test = data_val.to_numpy()\n",
    "X_val = data_test[:,:-1]\n",
    "y_val = data_test[:,-1:]"
   ]
  },
  {
   "cell_type": "code",
   "execution_count": 7,
   "metadata": {},
   "outputs": [
    {
     "data": {
      "text/plain": [
       "array([0.])"
      ]
     },
     "execution_count": 7,
     "metadata": {},
     "output_type": "execute_result"
    }
   ],
   "source": [
    "y_val[0]"
   ]
  },
  {
   "cell_type": "code",
   "execution_count": 8,
   "metadata": {},
   "outputs": [
    {
     "name": "stdout",
     "output_type": "stream",
     "text": [
      "Epoch 0/5000, Train MSE: 2203.471199826842, Val MSE: 12174.026372081433\n",
      "Epoch 100/5000, Train MSE: 2193.630592694433, Val MSE: 12156.48976669479\n",
      "Epoch 200/5000, Train MSE: 2184.549223483851, Val MSE: 12140.006093368238\n",
      "Epoch 300/5000, Train MSE: 2176.1389105788744, Val MSE: 12124.45008739644\n",
      "Epoch 400/5000, Train MSE: 2168.2932113922407, Val MSE: 12109.654299731481\n",
      "Epoch 500/5000, Train MSE: 2160.865593716577, Val MSE: 12095.362757963361\n",
      "Epoch 600/5000, Train MSE: 2153.6331067285955, Val MSE: 12081.15052847052\n",
      "Epoch 700/5000, Train MSE: 2146.2354929912326, Val MSE: 12066.283909487516\n",
      "Epoch 800/5000, Train MSE: 2138.0665875024624, Val MSE: 12049.466044730552\n",
      "Epoch 900/5000, Train MSE: 2128.0265164913853, Val MSE: 12028.269338115553\n",
      "Epoch 1000/5000, Train MSE: 2113.820379841148, Val MSE: 11997.49881416379\n",
      "Epoch 1100/5000, Train MSE: 2091.818708032098, Val MSE: 11947.123858429348\n",
      "Epoch 1200/5000, Train MSE: 2067.4537956026184, Val MSE: 11880.728393645612\n",
      "Epoch 1300/5000, Train MSE: 2053.5359055845142, Val MSE: 11831.322463891458\n",
      "Epoch 1400/5000, Train MSE: 2046.1369524504482, Val MSE: 11804.974156823677\n",
      "Epoch 1500/5000, Train MSE: 2040.3017792411954, Val MSE: 11790.79684610166\n",
      "Epoch 1600/5000, Train MSE: 2035.1184413317364, Val MSE: 11783.067997031043\n",
      "Epoch 1700/5000, Train MSE: 2030.8555645064635, Val MSE: 11779.689546300768\n",
      "No improvement in validation metric for 10 epochs, stopping training.\n"
     ]
    }
   ],
   "source": [
    "ffn = FeedForwardNetwork(config,n_input=X_train.shape[1],n_hidden_1=20,n_hidden_2=50,n_output=1)\n",
    "\n",
    "MSEs, val_metrics, final_mse = ffn.train(X_train,y_train,X_val,y_val,5000,0.000001)"
   ]
  },
  {
   "cell_type": "code",
   "execution_count": 9,
   "metadata": {},
   "outputs": [
    {
     "data": {
      "text/plain": [
       "[<matplotlib.lines.Line2D at 0x1acc8237bd0>]"
      ]
     },
     "execution_count": 9,
     "metadata": {},
     "output_type": "execute_result"
    },
    {
     "data": {
      "image/png": "[encoded data removed]",
      "text/plain": [
       "<Figure size 640x480 with 1 Axes>"
      ]
     },
     "metadata": {},
     "output_type": "display_data"
    }
   ],
   "source": [
    "import matplotlib.pyplot as plt\n",
    "\n",
    "plt.plot(MSEs)\n",
    "plt.plot(val_metrics)"
   ]
  },
  {
   "cell_type": "code",
   "execution_count": 10,
   "metadata": {},
   "outputs": [
    {
     "name": "stdout",
     "output_type": "stream",
     "text": [
      "Epoch 0/1000, Training MSE: 2203.1769195093266, Validation MSE: 12158.83442723186\n",
      "Epoch 100/1000, Training MSE: 2016.038195324204, Validation MSE: 11787.948641354657\n",
      "Epoch 200/1000, Training MSE: 2009.2282229360674, Validation MSE: 11760.589532237933\n",
      "Epoch 300/1000, Training MSE: 2007.5147991416732, Validation MSE: 11758.040824066798\n",
      "No improvement in validation MSE for 10 epochs, stopping training.\n"
     ]
    }
   ],
   "source": [
    "linear = LinearNetwork(config)\n",
    "\n",
    "losses = linear.linear_regression(X_train,y_train,X_val,y_val)"
   ]
  },
  {
   "cell_type": "code",
   "execution_count": null,
   "metadata": {},
   "outputs": [],
   "source": []
  }
 ],
 "metadata": {
  "kernelspec": {
   "display_name": ".venv",
   "language": "python",
   "name": "python3"
  },
  "language_info": {
   "codemirror_mode": {
    "name": "ipython",
    "version": 3
   },
   "file_extension": ".py",
   "mimetype": "text/x-python",
   "name": "python",
   "nbconvert_exporter": "python",
   "pygments_lexer": "ipython3",
   "version": "3.11.8"
  }
 },
 "nbformat": 4,
 "nbformat_minor": 2
}
