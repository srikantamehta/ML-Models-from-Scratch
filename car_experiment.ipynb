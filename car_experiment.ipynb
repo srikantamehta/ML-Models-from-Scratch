{
 "cells": [
  {
   "cell_type": "code",
   "execution_count": 1,
   "metadata": {},
   "outputs": [],
   "source": [
    "from src.data_preprocessor import DataProcessor\n",
    "from src.cross_validation import CrossValidation\n",
    "from src.evaluation import Evaluation\n",
    "from models.knn import KNN\n",
    "from models.null_model import NullModelClassification\n",
    "from data_configs.configs import *\n",
    "import statistics\n",
    "import numpy as np\n",
    "\n",
    "config = car_config\n",
    "data_processor = DataProcessor(config=config)\n",
    "cross_validator = CrossValidation(config=config)\n",
    "knn_model = KNN(config)\n",
    "null_model = NullModelClassification(config=config)"
   ]
  },
  {
   "cell_type": "markdown",
   "metadata": {},
   "source": [
    "### Data Load and Preprocessing ###"
   ]
  },
  {
   "cell_type": "code",
   "execution_count": 2,
   "metadata": {},
   "outputs": [],
   "source": [
    "raw_data = data_processor.load_data()\n",
    "\n",
    "data_1 = data_processor.impute_missing_values(raw_data)\n",
    "\n",
    "data_2 = data_processor.encode_nominal_features(data_1)\n",
    "\n",
    "data_3 = data_processor.encode_ordinal_features(data_2)"
   ]
  },
  {
   "cell_type": "code",
   "execution_count": 3,
   "metadata": {},
   "outputs": [
    {
     "data": {
      "text/html": [
       "<div>\n",
       "<style scoped>\n",
       "    .dataframe tbody tr th:only-of-type {\n",
       "        vertical-align: middle;\n",
       "    }\n",
       "\n",
       "    .dataframe tbody tr th {\n",
       "        vertical-align: top;\n",
       "    }\n",
       "\n",
       "    .dataframe thead th {\n",
       "        text-align: right;\n",
       "    }\n",
       "</style>\n",
       "<table border=\"1\" class=\"dataframe\">\n",
       "  <thead>\n",
       "    <tr style=\"text-align: right;\">\n",
       "      <th></th>\n",
       "      <th>buying</th>\n",
       "      <th>maint</th>\n",
       "      <th>doors</th>\n",
       "      <th>persons</th>\n",
       "      <th>lug_boot</th>\n",
       "      <th>safety</th>\n",
       "      <th>Class</th>\n",
       "    </tr>\n",
       "  </thead>\n",
       "  <tbody>\n",
       "    <tr>\n",
       "      <th>0</th>\n",
       "      <td>0</td>\n",
       "      <td>0</td>\n",
       "      <td>0</td>\n",
       "      <td>0</td>\n",
       "      <td>0</td>\n",
       "      <td>0</td>\n",
       "      <td>unacc</td>\n",
       "    </tr>\n",
       "    <tr>\n",
       "      <th>1</th>\n",
       "      <td>0</td>\n",
       "      <td>0</td>\n",
       "      <td>0</td>\n",
       "      <td>0</td>\n",
       "      <td>0</td>\n",
       "      <td>1</td>\n",
       "      <td>unacc</td>\n",
       "    </tr>\n",
       "    <tr>\n",
       "      <th>2</th>\n",
       "      <td>0</td>\n",
       "      <td>0</td>\n",
       "      <td>0</td>\n",
       "      <td>0</td>\n",
       "      <td>0</td>\n",
       "      <td>2</td>\n",
       "      <td>unacc</td>\n",
       "    </tr>\n",
       "    <tr>\n",
       "      <th>3</th>\n",
       "      <td>0</td>\n",
       "      <td>0</td>\n",
       "      <td>0</td>\n",
       "      <td>0</td>\n",
       "      <td>1</td>\n",
       "      <td>0</td>\n",
       "      <td>unacc</td>\n",
       "    </tr>\n",
       "    <tr>\n",
       "      <th>4</th>\n",
       "      <td>0</td>\n",
       "      <td>0</td>\n",
       "      <td>0</td>\n",
       "      <td>0</td>\n",
       "      <td>1</td>\n",
       "      <td>1</td>\n",
       "      <td>unacc</td>\n",
       "    </tr>\n",
       "    <tr>\n",
       "      <th>...</th>\n",
       "      <td>...</td>\n",
       "      <td>...</td>\n",
       "      <td>...</td>\n",
       "      <td>...</td>\n",
       "      <td>...</td>\n",
       "      <td>...</td>\n",
       "      <td>...</td>\n",
       "    </tr>\n",
       "    <tr>\n",
       "      <th>1723</th>\n",
       "      <td>3</td>\n",
       "      <td>3</td>\n",
       "      <td>3</td>\n",
       "      <td>2</td>\n",
       "      <td>1</td>\n",
       "      <td>1</td>\n",
       "      <td>good</td>\n",
       "    </tr>\n",
       "    <tr>\n",
       "      <th>1724</th>\n",
       "      <td>3</td>\n",
       "      <td>3</td>\n",
       "      <td>3</td>\n",
       "      <td>2</td>\n",
       "      <td>1</td>\n",
       "      <td>2</td>\n",
       "      <td>vgood</td>\n",
       "    </tr>\n",
       "    <tr>\n",
       "      <th>1725</th>\n",
       "      <td>3</td>\n",
       "      <td>3</td>\n",
       "      <td>3</td>\n",
       "      <td>2</td>\n",
       "      <td>2</td>\n",
       "      <td>0</td>\n",
       "      <td>unacc</td>\n",
       "    </tr>\n",
       "    <tr>\n",
       "      <th>1726</th>\n",
       "      <td>3</td>\n",
       "      <td>3</td>\n",
       "      <td>3</td>\n",
       "      <td>2</td>\n",
       "      <td>2</td>\n",
       "      <td>1</td>\n",
       "      <td>good</td>\n",
       "    </tr>\n",
       "    <tr>\n",
       "      <th>1727</th>\n",
       "      <td>3</td>\n",
       "      <td>3</td>\n",
       "      <td>3</td>\n",
       "      <td>2</td>\n",
       "      <td>2</td>\n",
       "      <td>2</td>\n",
       "      <td>vgood</td>\n",
       "    </tr>\n",
       "  </tbody>\n",
       "</table>\n",
       "<p>1728 rows × 7 columns</p>\n",
       "</div>"
      ],
      "text/plain": [
       "      buying  maint  doors  persons  lug_boot  safety  Class\n",
       "0          0      0      0        0         0       0  unacc\n",
       "1          0      0      0        0         0       1  unacc\n",
       "2          0      0      0        0         0       2  unacc\n",
       "3          0      0      0        0         1       0  unacc\n",
       "4          0      0      0        0         1       1  unacc\n",
       "...      ...    ...    ...      ...       ...     ...    ...\n",
       "1723       3      3      3        2         1       1   good\n",
       "1724       3      3      3        2         1       2  vgood\n",
       "1725       3      3      3        2         2       0  unacc\n",
       "1726       3      3      3        2         2       1   good\n",
       "1727       3      3      3        2         2       2  vgood\n",
       "\n",
       "[1728 rows x 7 columns]"
      ]
     },
     "execution_count": 3,
     "metadata": {},
     "output_type": "execute_result"
    }
   ],
   "source": [
    "data_3"
   ]
  },
  {
   "cell_type": "markdown",
   "metadata": {},
   "source": [
    "## KNN Model ##"
   ]
  },
  {
   "cell_type": "markdown",
   "metadata": {},
   "source": [
    "### Hyperparameter Tuning ###"
   ]
  },
  {
   "cell_type": "code",
   "execution_count": 4,
   "metadata": {},
   "outputs": [],
   "source": [
    "data_train, data_val = cross_validator.random_partition(data_3, random_state=42)"
   ]
  },
  {
   "cell_type": "code",
   "execution_count": 8,
   "metadata": {},
   "outputs": [],
   "source": [
    "features = ['buying', 'maint', 'doors', 'persons', 'lug_boot', 'safety']"
   ]
  },
  {
   "cell_type": "markdown",
   "metadata": {},
   "source": [
    "#### Tuning k ####"
   ]
  },
  {
   "cell_type": "code",
   "execution_count": 9,
   "metadata": {},
   "outputs": [
    {
     "name": "stdout",
     "output_type": "stream",
     "text": [
      "Average 0-1 Loss score with k=1: 0.11040462427745665\n",
      "Average 0-1 Loss score with k=2: 0.12919075144508668\n",
      "Average 0-1 Loss score with k=3: 0.09479768786127167\n",
      "Average 0-1 Loss score with k=4: 0.09277456647398843\n",
      "Average 0-1 Loss score with k=5: 0.07919075144508671\n",
      "Average 0-1 Loss score with k=6: 0.0907514450867052\n",
      "Average 0-1 Loss score with k=7: 0.08005780346820808\n",
      "Average 0-1 Loss score with k=8: 0.08583815028901734\n",
      "Average 0-1 Loss score with k=9: 0.09017341040462427\n",
      "Average 0-1 Loss score with k=10: 0.08815028901734104\n",
      "Average 0-1 Loss score with k=11: 0.09219653179190752\n",
      "Average 0-1 Loss score with k=12: 0.09797687861271676\n",
      "Average 0-1 Loss score with k=13: 0.09710982658959537\n",
      "Average 0-1 Loss score with k=14: 0.09421965317919075\n",
      "Best k is 5 with the lowest average 0-1 loss score of 0.07919075144508671\n"
     ]
    }
   ],
   "source": [
    "hyperparameters = np.arange(1,15,1)\n",
    "scores_dict = {}\n",
    "\n",
    "for k in hyperparameters: \n",
    "    scores = []\n",
    "    for i, (train_set_1, train_set_2) in enumerate(cross_validator.cross_validation(data_train, n_splits=2, n_repeats=5, random_state=42, stratify=True)):\n",
    "        \n",
    "        data_val_stand = data_processor.standardize_data(train_set_1, data_val, features=features)\n",
    "        data_train_stand = data_processor.standardize_data(train_set_1,train_set_1, features=features)\n",
    "\n",
    "        predictions_1 = knn_model.knn_classifier(data_val_stand, data_train_stand, k=k)['Predicted Class']\n",
    "        score_1 = Evaluation().zero_one_loss(data_val_stand[config['target_column']], predictions_1)\n",
    "        scores.append(score_1)\n",
    "\n",
    "    average_score = sum(scores) / len(scores)\n",
    "    print(f\"Average 0-1 Loss score with k={k}: {average_score}\")\n",
    "    scores_dict[k] = average_score\n",
    "\n",
    "best_k = min(scores_dict, key=scores_dict.get)\n",
    "print(f\"Best k is {best_k} with the lowest average 0-1 loss score of {scores_dict[best_k]}\")\n"
   ]
  },
  {
   "cell_type": "markdown",
   "metadata": {},
   "source": [
    "### Model Performance ###"
   ]
  },
  {
   "cell_type": "code",
   "execution_count": 12,
   "metadata": {},
   "outputs": [
    {
     "name": "stdout",
     "output_type": "stream",
     "text": [
      "Average null model 0-1 loss score: 0.2945007235890015\n",
      "Average KNN 0-1 score for k=5: 0.06960926193921851\n",
      "Average Precision score for k=5: 0.9306892571715286\n",
      "Average Recall score for k=5: 0.9303907380607817\n",
      "Average F1 score for k=5: 0.9282884220566763\n"
     ]
    }
   ],
   "source": [
    "zero_one_loss_scores = []\n",
    "precision_scores = []\n",
    "recall_scores = []\n",
    "f1_scores = []\n",
    "null_model_scores = []\n",
    "\n",
    "for i, (train_set, test_set) in enumerate(cross_validator.cross_validation(data_train, n_splits=2, n_repeats=5, random_state=42, stratify=True)):\n",
    "    \n",
    "    data_test_stand = data_processor.standardize_data(train_set, test_set, features=features)\n",
    "    data_train_stand = data_processor.standardize_data(train_set,train_set, features=features)\n",
    "\n",
    "    # Train and evaluate \n",
    "    predictions_1 = knn_model.knn_classifier(data_test_stand, data_train_stand, k=best_k)['Predicted Class']\n",
    "    \n",
    "    zero_one_loss_score = Evaluation.zero_one_loss(data_test_stand[config['target_column']], predictions_1)\n",
    "    precision_score = Evaluation.precision(data_test_stand[config['target_column']], predictions_1)\n",
    "    recall_score = Evaluation.recall(data_test_stand[config['target_column']], predictions_1)\n",
    "    f1_score = Evaluation.f1_score(data_test_stand[config['target_column']], predictions_1)\n",
    "    \n",
    "    zero_one_loss_scores.append(zero_one_loss_score)\n",
    "    precision_scores.append(precision_score)\n",
    "    recall_scores.append(recall_score)\n",
    "    f1_scores.append(f1_score)\n",
    "\n",
    "    null_model_prediction = null_model.naive_classifier(test_set)\n",
    "    null_model_score = Evaluation.zero_one_loss(test_set[config['target_column']],null_model_prediction)\n",
    "    null_model_scores.append(null_model_score) \n",
    "\n",
    "\n",
    "average_01_score = sum(zero_one_loss_scores) / len(zero_one_loss_scores)\n",
    "average_precision_score = sum(precision_scores) / len(precision_scores)\n",
    "average_recall_score = sum(recall_scores) / len(recall_scores)\n",
    "average_f1_score = sum(f1_scores) / len(f1_scores)\n",
    "average_null_model_score = sum(null_model_scores) / len(null_model_scores)\n",
    "\n",
    "print(f\"Average null model 0-1 loss score: {average_null_model_score}\")\n",
    "print(f\"Average KNN 0-1 score for k={best_k}: {average_01_score}\")\n",
    "print(f\"Average Precision score for k={best_k}: {average_precision_score}\")\n",
    "print(f\"Average Recall score for k={best_k}: {average_recall_score}\")\n",
    "print(f\"Average F1 score for k={best_k}: {average_f1_score}\")\n"
   ]
  },
  {
   "cell_type": "markdown",
   "metadata": {},
   "source": [
    "## Edited KNN ##"
   ]
  },
  {
   "cell_type": "markdown",
   "metadata": {},
   "source": [
    "### Hyperparameter Tuning ###"
   ]
  },
  {
   "cell_type": "markdown",
   "metadata": {},
   "source": [
    "#### Tuning k ####"
   ]
  },
  {
   "cell_type": "code",
   "execution_count": 16,
   "metadata": {},
   "outputs": [
    {
     "name": "stdout",
     "output_type": "stream",
     "text": [
      "Average 0-1 loss score with k=1: 0.16647398843930636\n",
      "Average 0-1 loss score with k=2: 0.18352601156069365\n",
      "Average 0-1 loss score with k=3: 0.1644508670520231\n",
      "Average 0-1 loss score with k=4: 0.16271676300578036\n",
      "Average 0-1 loss score with k=5: 0.16965317919075146\n",
      "Average 0-1 loss score with k=6: 0.17630057803468208\n",
      "Average 0-1 loss score with k=7: 0.17427745664739885\n",
      "Average 0-1 loss score with k=8: 0.17254335260115605\n",
      "Average 0-1 loss score with k=9: 0.17890173410404622\n"
     ]
    }
   ],
   "source": [
    "hyperparameters = np.arange(1,15,1)\n",
    "scores_dict = {}\n",
    "\n",
    "for k in hyperparameters: \n",
    "    scores = []\n",
    "    for i, (train_set_1, train_set_2) in enumerate(cross_validator.cross_validation(data_train, n_splits=2, n_repeats=5, random_state=42, stratify=True)):\n",
    "        \n",
    "        edited_train_set = knn_model.edited_knn_classificaton(train_set_1)\n",
    "\n",
    "        data_val_stand = data_processor.standardize_data(edited_train_set, data_val, features=features)\n",
    "        data_train_stand = data_processor.standardize_data(edited_train_set,edited_train_set, features=features)\n",
    "\n",
    "        predictions_1 = knn_model.knn_classifier(data_val_stand, data_train_stand, k=k)['Predicted Class']\n",
    "        score_1 = Evaluation().zero_one_loss(data_val_stand[config['target_column']], predictions_1)\n",
    "        scores.append(score_1)\n",
    "\n",
    "    average_score = sum(scores) / len(scores)\n",
    "    print(f\"Average 0-1 loss score with k={k}: {average_score}\")\n",
    "    scores_dict[k] = average_score\n",
    "\n",
    "best_k = min(scores_dict, key=scores_dict.get)\n",
    "print(f\"Best k is {best_k} with the lowest average 0-1 loss score of {scores_dict[best_k]}\")\n"
   ]
  },
  {
   "cell_type": "code",
   "execution_count": null,
   "metadata": {},
   "outputs": [
    {
     "name": "stdout",
     "output_type": "stream",
     "text": [
      "Average null model 0-1 score: 0.35062724014336916\n",
      "Average KNN 0-1 score for k=9: 0.040788530465949824\n",
      "Average Precision score for k=9: 0.9594643546065822\n",
      "Average Recall score for k=9: 0.9592114695340502\n",
      "Average F1 score for k=9: 0.9590275641565421\n"
     ]
    }
   ],
   "source": [
    "zero_one_loss_scores = []\n",
    "precision_scores = []\n",
    "recall_scores = []\n",
    "f1_scores = []\n",
    "null_model_scores = []\n",
    "\n",
    "for i, (train_set, test_set) in enumerate(cross_validator.cross_validation(data_train, n_splits=2, n_repeats=5, random_state=42, stratify=True)):\n",
    "    \n",
    "    edited_train_set = knn_model.edited_knn_classificaton(train_set)\n",
    "\n",
    "    data_test_stand = data_processor.standardize_data(edited_train_set, test_set, features=features)\n",
    "    data_train_stand = data_processor.standardize_data(edited_train_set,edited_train_set, features=features)\n",
    "\n",
    "    predictions_1 = knn_model.knn_classifier(test_set, data_train_stand, k=best_k)['Predicted Class']\n",
    "\n",
    "    zero_one_loss_score = Evaluation.zero_one_loss(data_test_stand[config['target_column']], predictions_1)\n",
    "    precision_score = Evaluation.precision(data_test_stand[config['target_column']], predictions_1)\n",
    "    recall_score = Evaluation.recall(data_test_stand[config['target_column']], predictions_1)\n",
    "    f1_score = Evaluation.f1_score(data_test_stand[config['target_column']], predictions_1)\n",
    "    \n",
    "    zero_one_loss_scores.append(zero_one_loss_score)\n",
    "    precision_scores.append(precision_score)\n",
    "    recall_scores.append(recall_score)\n",
    "    f1_scores.append(f1_score)\n",
    "\n",
    "    null_model_prediction = null_model.naive_classifier(test_set)\n",
    "    null_model_score = Evaluation.zero_one_loss(test_set[config['target_column']],null_model_prediction)\n",
    "    null_model_scores.append(null_model_score) \n",
    "\n",
    "average_01_score = sum(zero_one_loss_scores) / len(zero_one_loss_scores)\n",
    "average_precision_score = sum(precision_scores) / len(precision_scores)\n",
    "average_recall_score = sum(recall_scores) / len(recall_scores)\n",
    "average_f1_score = sum(f1_scores) / len(f1_scores)\n",
    "average_null_model_score = sum(null_model_scores) / len(null_model_scores)\n",
    "\n",
    "print(f\"Average null model 0-1 score: {average_null_model_score}\")\n",
    "print(f\"Average KNN 0-1 score for k={best_k}: {average_01_score}\")\n",
    "print(f\"Average Precision score for k={best_k}: {average_precision_score}\")\n",
    "print(f\"Average Recall score for k={best_k}: {average_recall_score}\")\n",
    "print(f\"Average F1 score for k={best_k}: {average_f1_score}\")"
   ]
  },
  {
   "cell_type": "markdown",
   "metadata": {},
   "source": [
    "## Condensed Knn ##"
   ]
  },
  {
   "cell_type": "markdown",
   "metadata": {},
   "source": [
    "#### Tuning k ####"
   ]
  },
  {
   "cell_type": "code",
   "execution_count": null,
   "metadata": {},
   "outputs": [
    {
     "name": "stdout",
     "output_type": "stream",
     "text": [
      "Average 0-1 Loss score with k=1: 0.07714285714285714\n",
      "Average 0-1 Loss score with k=2: 0.155\n",
      "Average 0-1 Loss score with k=3: 0.05714285714285714\n",
      "Average 0-1 Loss score with k=4: 0.08714285714285713\n",
      "Average 0-1 Loss score with k=5: 0.05071428571428571\n",
      "Average 0-1 Loss score with k=6: 0.05142857142857142\n",
      "Average 0-1 Loss score with k=7: 0.042142857142857135\n",
      "Average 0-1 Loss score with k=8: 0.05\n",
      "Average 0-1 Loss score with k=9: 0.07928571428571428\n",
      "Average 0-1 Loss score with k=10: 0.04357142857142857\n",
      "Average 0-1 Loss score with k=11: 0.14785714285714285\n",
      "Average 0-1 Loss score with k=12: 0.08357142857142856\n",
      "Average 0-1 Loss score with k=13: 0.22142857142857145\n",
      "Average 0-1 Loss score with k=14: 0.22214285714285714\n",
      "Best k is 7 with the lowest average 0-1 loss score of 0.042142857142857135\n"
     ]
    }
   ],
   "source": [
    "hyperparameters = np.arange(1,15,1)\n",
    "scores_dict = {}\n",
    "\n",
    "for k in hyperparameters: \n",
    "    scores = []\n",
    "    for i, (train_set_1, train_set_2) in enumerate(cross_validator.cross_validation(data_train, n_splits=2, n_repeats=5, random_state=42, stratify=True)):\n",
    "        \n",
    "        condesed_train_set = knn_model.condensed_knn_classification(train_set_1)\n",
    "\n",
    "        data_val_stand = data_processor.standardize_data(condesed_train_set, data_val, features=features)\n",
    "        data_train_stand = data_processor.standardize_data(condesed_train_set,condesed_train_set, features=features)\n",
    "\n",
    "        predictions_1 = knn_model.knn_classifier(data_val_stand, data_train_stand, k=k)['Predicted Class']\n",
    "        score_1 = Evaluation().zero_one_loss(data_val_stand[config['target_column']], predictions_1)\n",
    "        scores.append(score_1)\n",
    "\n",
    "    average_score = sum(scores) / len(scores)\n",
    "    print(f\"Average 0-1 Loss score with k={k}: {average_score}\")\n",
    "    scores_dict[k] = average_score\n",
    "\n",
    "best_k = min(scores_dict, key=scores_dict.get)\n",
    "print(f\"Best k is {best_k} with the lowest average 0-1 loss score of {scores_dict[best_k]}\")\n"
   ]
  },
  {
   "cell_type": "markdown",
   "metadata": {},
   "source": [
    "### Model Performance ###"
   ]
  },
  {
   "cell_type": "code",
   "execution_count": null,
   "metadata": {},
   "outputs": [
    {
     "name": "stdout",
     "output_type": "stream",
     "text": [
      "Average null model 0-1 score: 0.35062724014336916\n",
      "Average KNN 0-1 score for k=7: 0.07698412698412699\n",
      "Average Precision score for k=7: 0.9405529232164694\n",
      "Average Recall score for k=7: 0.9230158730158731\n",
      "Average F1 score for k=7: 0.9221589014291244\n"
     ]
    }
   ],
   "source": [
    "zero_one_loss_scores = []\n",
    "precision_scores = []\n",
    "recall_scores = []\n",
    "f1_scores = []\n",
    "null_model_scores = []\n",
    "\n",
    "for i, (train_set, test_set) in enumerate(cross_validator.cross_validation(data_train, n_splits=2, n_repeats=5, random_state=42, stratify=True)):\n",
    "    \n",
    "    condesed_train_set = knn_model.condensed_knn_classification(train_set)\n",
    "\n",
    "    data_test_stand = data_processor.standardize_data(condesed_train_set, test_set, features=features)\n",
    "    data_train_stand = data_processor.standardize_data(condesed_train_set,condesed_train_set, features=features)\n",
    "\n",
    "    predictions_1 = knn_model.knn_classifier(data_test_stand, data_train_stand, k=best_k)['Predicted Class']\n",
    "\n",
    "    zero_one_loss_score = Evaluation.zero_one_loss(data_test_stand[config['target_column']], predictions_1)\n",
    "    precision_score = Evaluation.precision(data_test_stand[config['target_column']], predictions_1)\n",
    "    recall_score = Evaluation.recall(data_test_stand[config['target_column']], predictions_1)\n",
    "    f1_score = Evaluation.f1_score(data_test_stand[config['target_column']], predictions_1)\n",
    "    \n",
    "    zero_one_loss_scores.append(zero_one_loss_score)\n",
    "    precision_scores.append(precision_score)\n",
    "    recall_scores.append(recall_score)\n",
    "    f1_scores.append(f1_score)\n",
    "\n",
    "    null_model_prediction = null_model.naive_classifier(test_set)\n",
    "    null_model_score = Evaluation.zero_one_loss(test_set[config['target_column']],null_model_prediction)\n",
    "    null_model_scores.append(null_model_score) \n",
    "\n",
    "average_01_score = sum(zero_one_loss_scores) / len(zero_one_loss_scores)\n",
    "average_precision_score = sum(precision_scores) / len(precision_scores)\n",
    "average_recall_score = sum(recall_scores) / len(recall_scores)\n",
    "average_f1_score = sum(f1_scores) / len(f1_scores)\n",
    "average_null_model_score = sum(null_model_scores) / len(null_model_scores)\n",
    "\n",
    "print(f\"Average null model 0-1 score: {average_null_model_score}\")\n",
    "print(f\"Average KNN 0-1 score for k={best_k}: {average_01_score}\")\n",
    "print(f\"Average Precision score for k={best_k}: {average_precision_score}\")\n",
    "print(f\"Average Recall score for k={best_k}: {average_recall_score}\")\n",
    "print(f\"Average F1 score for k={best_k}: {average_f1_score}\")"
   ]
  }
 ],
 "metadata": {
  "kernelspec": {
   "display_name": "Python 3",
   "language": "python",
   "name": "python3"
  },
  "language_info": {
   "codemirror_mode": {
    "name": "ipython",
    "version": 3
   },
   "file_extension": ".py",
   "mimetype": "text/x-python",
   "name": "python",
   "nbconvert_exporter": "python",
   "pygments_lexer": "ipython3",
   "version": "3.9.1"
  }
 },
 "nbformat": 4,
 "nbformat_minor": 2
}
