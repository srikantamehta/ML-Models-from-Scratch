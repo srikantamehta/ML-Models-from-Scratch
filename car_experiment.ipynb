{
 "cells": [
  {
   "cell_type": "code",
   "execution_count": 2,
   "metadata": {},
   "outputs": [],
   "source": [
    "from src.data_preprocessor import DataProcessor\n",
    "from src.cross_validation import CrossValidation\n",
    "from src.evaluation import Evaluation\n",
    "from models.knn import KNN\n",
    "from models.null_model import NullModelClassification\n",
    "from data_configs.configs import *\n",
    "import statistics\n",
    "import numpy as np\n",
    "\n",
    "config = car_config\n",
    "data_processor = DataProcessor(config=config)\n",
    "cross_validator = CrossValidation(config=config)\n",
    "knn_model = KNN(config)\n",
    "null_model = NullModelClassification(config=config)"
   ]
  },
  {
   "cell_type": "markdown",
   "metadata": {},
   "source": [
    "### Data Load and Preprocessing ###"
   ]
  },
  {
   "cell_type": "code",
   "execution_count": 3,
   "metadata": {},
   "outputs": [],
   "source": [
    "raw_data = data_processor.load_data()\n",
    "\n",
    "data_1 = data_processor.impute_missing_values(raw_data)\n",
    "\n",
    "data_2 = data_processor.encode_nominal_features(data_1)\n",
    "\n",
    "data_3 = data_processor.encode_ordinal_features(data_2)"
   ]
  },
  {
   "cell_type": "markdown",
   "metadata": {},
   "source": [
    "## KNN Model ##"
   ]
  },
  {
   "cell_type": "markdown",
   "metadata": {},
   "source": [
    "### Hyperparameter Tuning ###"
   ]
  },
  {
   "cell_type": "code",
   "execution_count": 4,
   "metadata": {},
   "outputs": [],
   "source": [
    "data_train, data_val = cross_validator.random_partition(data_3, random_state=42)"
   ]
  },
  {
   "cell_type": "code",
   "execution_count": 5,
   "metadata": {},
   "outputs": [],
   "source": [
    "features = ['buying', 'maint', 'doors', 'persons', 'lug_boot', 'safety']"
   ]
  },
  {
   "cell_type": "markdown",
   "metadata": {},
   "source": [
    "#### Tuning k ####"
   ]
  },
  {
   "cell_type": "code",
   "execution_count": 6,
   "metadata": {},
   "outputs": [
    {
     "name": "stdout",
     "output_type": "stream",
     "text": [
      "Average 0-1 Loss score with k=1: 0.11040462427745665\n",
      "Average 0-1 Loss score with k=2: 0.1378612716763006\n",
      "Average 0-1 Loss score with k=3: 0.09971098265895954\n",
      "Average 0-1 Loss score with k=4: 0.11156069364161851\n",
      "Average 0-1 Loss score with k=5: 0.08786127167630058\n",
      "Average 0-1 Loss score with k=6: 0.10144508670520232\n",
      "Average 0-1 Loss score with k=7: 0.08728323699421967\n",
      "Average 0-1 Loss score with k=8: 0.09826589595375722\n",
      "Average 0-1 Loss score with k=9: 0.09277456647398845\n",
      "Average 0-1 Loss score with k=10: 0.10028901734104045\n",
      "Average 0-1 Loss score with k=11: 0.09682080924855492\n",
      "Average 0-1 Loss score with k=12: 0.10520231213872833\n",
      "Average 0-1 Loss score with k=13: 0.10057803468208093\n",
      "Average 0-1 Loss score with k=14: 0.10606936416184971\n",
      "Best k is 7 with the lowest average 0-1 loss score of 0.08728323699421967\n"
     ]
    }
   ],
   "source": [
    "hyperparameters = np.arange(1,15,1)\n",
    "scores_dict = {}\n",
    "\n",
    "for k in hyperparameters: \n",
    "    scores = []\n",
    "    for i, (train_set_1, train_set_2) in enumerate(cross_validator.cross_validation(data_train, n_splits=2, n_repeats=5, random_state=42, stratify=True)):\n",
    "        \n",
    "        data_val_stand = data_processor.standardize_data(train_set_1, data_val, features=features)\n",
    "        data_train_stand = data_processor.standardize_data(train_set_1,train_set_1, features=features)\n",
    "\n",
    "        predictions_1 = knn_model.knn_classifier(data_val_stand, data_train_stand, k=k)['Predicted Class']\n",
    "        score_1 = Evaluation().zero_one_loss(data_val_stand[config['target_column']], predictions_1)\n",
    "        scores.append(score_1)\n",
    "\n",
    "    average_score = sum(scores) / len(scores)\n",
    "    print(f\"Average 0-1 Loss score with k={k}: {average_score}\")\n",
    "    scores_dict[k] = average_score\n",
    "\n",
    "best_k = min(scores_dict, key=scores_dict.get)\n",
    "print(f\"Best k is {best_k} with the lowest average 0-1 loss score of {scores_dict[best_k]}\")\n"
   ]
  },
  {
   "cell_type": "markdown",
   "metadata": {},
   "source": [
    "### Model Performance ###"
   ]
  },
  {
   "cell_type": "code",
   "execution_count": 7,
   "metadata": {},
   "outputs": [
    {
     "name": "stdout",
     "output_type": "stream",
     "text": [
      "Average null model 0-1 loss score: 0.2945007235890015\n",
      "Average null model Precision score: 0.4977297525974856\n",
      "Average null model Recall score: 0.7054992764109985\n",
      "Average null model F1 score: 0.5836758958553583\n",
      "Average KNN 0-1 score for k=7: 0.08147612156295223\n",
      "Average Precision score for k=7: 0.9186614107699201\n",
      "Average Recall score for k=7: 0.9185238784370477\n",
      "Average F1 score for k=7: 0.9150292590723765\n"
     ]
    }
   ],
   "source": [
    "zero_one_loss_scores = []\n",
    "precision_scores = []\n",
    "recall_scores = []\n",
    "f1_scores = []\n",
    "null_model_scores = []\n",
    "\n",
    "# Lists to store null model metrics\n",
    "null_model_precision_scores = []\n",
    "null_model_recall_scores = []\n",
    "null_model_f1_scores = []\n",
    "\n",
    "for i, (train_set, test_set) in enumerate(cross_validator.cross_validation(data_train, n_splits=2, n_repeats=5, random_state=42, stratify=True)):\n",
    "    \n",
    "    data_test_stand = data_processor.standardize_data(train_set, test_set, features=features)\n",
    "    data_train_stand = data_processor.standardize_data(train_set,train_set, features=features)\n",
    "\n",
    "    # Train and evaluate \n",
    "    predictions_1 = knn_model.knn_classifier(data_test_stand, data_train_stand, k=best_k)['Predicted Class']\n",
    "    \n",
    "    zero_one_loss_score = Evaluation.zero_one_loss(data_test_stand[config['target_column']], predictions_1)\n",
    "    precision_score = Evaluation.precision(data_test_stand[config['target_column']], predictions_1)\n",
    "    recall_score = Evaluation.recall(data_test_stand[config['target_column']], predictions_1)\n",
    "    f1_score = Evaluation.f1_score(data_test_stand[config['target_column']], predictions_1)\n",
    "    \n",
    "    zero_one_loss_scores.append(zero_one_loss_score)\n",
    "    precision_scores.append(precision_score)\n",
    "    recall_scores.append(recall_score)\n",
    "    f1_scores.append(f1_score)\n",
    "\n",
    "    # Evaluate null model\n",
    "    null_model_prediction = null_model.naive_classifier(test_set)\n",
    "    null_model_zero_one_loss = Evaluation.zero_one_loss(test_set[config['target_column']], null_model_prediction)\n",
    "    null_model_precision = Evaluation.precision(test_set[config['target_column']], null_model_prediction)\n",
    "    null_model_recall = Evaluation.recall(test_set[config['target_column']], null_model_prediction)\n",
    "    null_model_f1 = Evaluation.f1_score(test_set[config['target_column']], null_model_prediction)\n",
    "    \n",
    "    null_model_scores.append(null_model_zero_one_loss)\n",
    "    null_model_precision_scores.append(null_model_precision)\n",
    "    null_model_recall_scores.append(null_model_recall)\n",
    "    null_model_f1_scores.append(null_model_f1)\n",
    "\n",
    "average_01_score = sum(zero_one_loss_scores) / len(zero_one_loss_scores)\n",
    "average_precision_score = sum(precision_scores) / len(precision_scores)\n",
    "average_recall_score = sum(recall_scores) / len(recall_scores)\n",
    "average_f1_score = sum(f1_scores) / len(f1_scores)\n",
    "average_null_model_score = sum(null_model_scores) / len(null_model_scores)\n",
    "average_null_model_precision = sum(null_model_precision_scores) / len(null_model_precision_scores)\n",
    "average_null_model_recall = sum(null_model_recall_scores) / len(null_model_recall_scores)\n",
    "average_null_model_f1 = sum(null_model_f1_scores) / len(null_model_f1_scores)\n",
    "\n",
    "print(f\"Average null model 0-1 loss score: {average_null_model_score}\")\n",
    "print(f\"Average null model Precision score: {average_null_model_precision}\")\n",
    "print(f\"Average null model Recall score: {average_null_model_recall}\")\n",
    "print(f\"Average null model F1 score: {average_null_model_f1}\")\n",
    "print(f\"Average KNN 0-1 score for k={best_k}: {average_01_score}\")\n",
    "print(f\"Average Precision score for k={best_k}: {average_precision_score}\")\n",
    "print(f\"Average Recall score for k={best_k}: {average_recall_score}\")\n",
    "print(f\"Average F1 score for k={best_k}: {average_f1_score}\")\n"
   ]
  },
  {
   "cell_type": "markdown",
   "metadata": {},
   "source": [
    "## Edited KNN ##"
   ]
  },
  {
   "cell_type": "markdown",
   "metadata": {},
   "source": [
    "### Hyperparameter Tuning ###"
   ]
  },
  {
   "cell_type": "markdown",
   "metadata": {},
   "source": [
    "#### Tuning k ####"
   ]
  },
  {
   "cell_type": "code",
   "execution_count": 8,
   "metadata": {},
   "outputs": [
    {
     "name": "stdout",
     "output_type": "stream",
     "text": [
      "Average 0-1 loss score with k=1: 0.1508670520231214\n",
      "Average 0-1 loss score with k=2: 0.18583815028901735\n",
      "Average 0-1 loss score with k=3: 0.1468208092485549\n",
      "Average 0-1 loss score with k=4: 0.15895953757225434\n",
      "Average 0-1 loss score with k=5: 0.1468208092485549\n",
      "Average 0-1 loss score with k=6: 0.15809248554913297\n",
      "Average 0-1 loss score with k=7: 0.15115606936416187\n",
      "Average 0-1 loss score with k=8: 0.1609826589595376\n",
      "Average 0-1 loss score with k=9: 0.1598265895953757\n",
      "Average 0-1 loss score with k=10: 0.16705202312138728\n",
      "Average 0-1 loss score with k=11: 0.1624277456647399\n",
      "Average 0-1 loss score with k=12: 0.16878612716763006\n",
      "Average 0-1 loss score with k=13: 0.16734104046242776\n",
      "Average 0-1 loss score with k=14: 0.17890173410404625\n",
      "Best k is 3 with the lowest average 0-1 loss score of 0.1468208092485549\n"
     ]
    }
   ],
   "source": [
    "hyperparameters = np.arange(1,15,1)\n",
    "scores_dict = {}\n",
    "\n",
    "for k in hyperparameters: \n",
    "    scores = []\n",
    "    for i, (train_set_1, train_set_2) in enumerate(cross_validator.cross_validation(data_train, n_splits=2, n_repeats=5, random_state=42, stratify=True)):\n",
    "        \n",
    "        edited_train_set = knn_model.edited_knn_classification(train_set_1,train_set_2)\n",
    "\n",
    "        data_val_stand = data_processor.standardize_data(edited_train_set, data_val, features=features)\n",
    "        data_train_stand = data_processor.standardize_data(edited_train_set,edited_train_set, features=features)\n",
    "\n",
    "        predictions_1 = knn_model.knn_classifier(data_val_stand, data_train_stand, k=k)['Predicted Class']\n",
    "        score_1 = Evaluation().zero_one_loss(data_val_stand[config['target_column']], predictions_1)\n",
    "        scores.append(score_1)\n",
    "\n",
    "    average_score = sum(scores) / len(scores)\n",
    "    print(f\"Average 0-1 loss score with k={k}: {average_score}\")\n",
    "    scores_dict[k] = average_score\n",
    "\n",
    "best_k = min(scores_dict, key=scores_dict.get)\n",
    "print(f\"Best k is {best_k} with the lowest average 0-1 loss score of {scores_dict[best_k]}\")\n"
   ]
  },
  {
   "cell_type": "code",
   "execution_count": 9,
   "metadata": {},
   "outputs": [
    {
     "name": "stdout",
     "output_type": "stream",
     "text": [
      "Average null model 0-1 loss score: 0.2945007235890015\n",
      "Average null model Precision score: 0.4977297525974856\n",
      "Average null model Recall score: 0.7054992764109985\n",
      "Average null model F1 score: 0.5836758958553583\n",
      "Average KNN 0-1 score for k=3: 0.13270622286541242\n",
      "Average Precision score for k=3: 0.8594663859173541\n",
      "Average Recall score for k=3: 0.8672937771345876\n",
      "Average F1 score for k=3: 0.8559306983157198\n"
     ]
    }
   ],
   "source": [
    "zero_one_loss_scores = []\n",
    "precision_scores = []\n",
    "recall_scores = []\n",
    "f1_scores = []\n",
    "null_model_scores = []\n",
    "\n",
    "# Lists to store null model metrics\n",
    "null_model_precision_scores = []\n",
    "null_model_recall_scores = []\n",
    "null_model_f1_scores = []\n",
    "\n",
    "for i, (train_set, test_set) in enumerate(cross_validator.cross_validation(data_train, n_splits=2, n_repeats=5, random_state=42, stratify=True)):\n",
    "    \n",
    "    edited_train_set = knn_model.edited_knn_classification(train_set,data_val)\n",
    "\n",
    "    data_test_stand = data_processor.standardize_data(edited_train_set, test_set, features=features)\n",
    "    data_train_stand = data_processor.standardize_data(edited_train_set,edited_train_set, features=features)\n",
    "\n",
    "    # Train and evaluate \n",
    "    predictions_1 = knn_model.knn_classifier(data_test_stand, data_train_stand, k=best_k)['Predicted Class']\n",
    "    \n",
    "    zero_one_loss_score = Evaluation.zero_one_loss(data_test_stand[config['target_column']], predictions_1)\n",
    "    precision_score = Evaluation.precision(data_test_stand[config['target_column']], predictions_1)\n",
    "    recall_score = Evaluation.recall(data_test_stand[config['target_column']], predictions_1)\n",
    "    f1_score = Evaluation.f1_score(data_test_stand[config['target_column']], predictions_1)\n",
    "    \n",
    "    zero_one_loss_scores.append(zero_one_loss_score)\n",
    "    precision_scores.append(precision_score)\n",
    "    recall_scores.append(recall_score)\n",
    "    f1_scores.append(f1_score)\n",
    "\n",
    "    # Evaluate null model\n",
    "    null_model_prediction = null_model.naive_classifier(test_set)\n",
    "    null_model_zero_one_loss = Evaluation.zero_one_loss(test_set[config['target_column']], null_model_prediction)\n",
    "    null_model_precision = Evaluation.precision(test_set[config['target_column']], null_model_prediction)\n",
    "    null_model_recall = Evaluation.recall(test_set[config['target_column']], null_model_prediction)\n",
    "    null_model_f1 = Evaluation.f1_score(test_set[config['target_column']], null_model_prediction)\n",
    "    \n",
    "    null_model_scores.append(null_model_zero_one_loss)\n",
    "    null_model_precision_scores.append(null_model_precision)\n",
    "    null_model_recall_scores.append(null_model_recall)\n",
    "    null_model_f1_scores.append(null_model_f1)\n",
    "\n",
    "average_01_score = sum(zero_one_loss_scores) / len(zero_one_loss_scores)\n",
    "average_precision_score = sum(precision_scores) / len(precision_scores)\n",
    "average_recall_score = sum(recall_scores) / len(recall_scores)\n",
    "average_f1_score = sum(f1_scores) / len(f1_scores)\n",
    "average_null_model_score = sum(null_model_scores) / len(null_model_scores)\n",
    "average_null_model_precision = sum(null_model_precision_scores) / len(null_model_precision_scores)\n",
    "average_null_model_recall = sum(null_model_recall_scores) / len(null_model_recall_scores)\n",
    "average_null_model_f1 = sum(null_model_f1_scores) / len(null_model_f1_scores)\n",
    "\n",
    "print(f\"Average null model 0-1 loss score: {average_null_model_score}\")\n",
    "print(f\"Average null model Precision score: {average_null_model_precision}\")\n",
    "print(f\"Average null model Recall score: {average_null_model_recall}\")\n",
    "print(f\"Average null model F1 score: {average_null_model_f1}\")\n",
    "print(f\"Average KNN 0-1 score for k={best_k}: {average_01_score}\")\n",
    "print(f\"Average Precision score for k={best_k}: {average_precision_score}\")\n",
    "print(f\"Average Recall score for k={best_k}: {average_recall_score}\")\n",
    "print(f\"Average F1 score for k={best_k}: {average_f1_score}\")\n"
   ]
  },
  {
   "cell_type": "markdown",
   "metadata": {},
   "source": [
    "## Condensed Knn ##"
   ]
  },
  {
   "cell_type": "markdown",
   "metadata": {},
   "source": [
    "#### Tuning k ####"
   ]
  },
  {
   "cell_type": "code",
   "execution_count": 10,
   "metadata": {},
   "outputs": [
    {
     "name": "stdout",
     "output_type": "stream",
     "text": [
      "Average 0-1 Loss score with k=1: 0.11358381502890173\n",
      "Average 0-1 Loss score with k=2: 0.13121387283236993\n",
      "Average 0-1 Loss score with k=3: 0.1023121387283237\n",
      "Average 0-1 Loss score with k=4: 0.10173410404624277\n",
      "Average 0-1 Loss score with k=5: 0.0869942196531792\n",
      "Average 0-1 Loss score with k=6: 0.08930635838150287\n",
      "Average 0-1 Loss score with k=7: 0.0838150289017341\n",
      "Average 0-1 Loss score with k=8: 0.08583815028901734\n",
      "Average 0-1 Loss score with k=9: 0.08583815028901735\n",
      "Average 0-1 Loss score with k=10: 0.08930635838150289\n",
      "Average 0-1 Loss score with k=11: 0.0959537572254335\n",
      "Average 0-1 Loss score with k=12: 0.09624277456647398\n",
      "Average 0-1 Loss score with k=13: 0.10346820809248555\n",
      "Average 0-1 Loss score with k=14: 0.09104046242774567\n",
      "Best k is 7 with the lowest average 0-1 loss score of 0.0838150289017341\n"
     ]
    }
   ],
   "source": [
    "hyperparameters = np.arange(1,15,1)\n",
    "scores_dict = {}\n",
    "\n",
    "for k in hyperparameters: \n",
    "    scores = []\n",
    "    for i, (train_set_1, train_set_2) in enumerate(cross_validator.cross_validation(data_train, n_splits=2, n_repeats=5, random_state=42, stratify=True)):\n",
    "        \n",
    "        condesed_train_set = knn_model.condensed_knn_classification(train_set_1)\n",
    "\n",
    "        data_val_stand = data_processor.standardize_data(condesed_train_set, data_val, features=features)\n",
    "        data_train_stand = data_processor.standardize_data(condesed_train_set,condesed_train_set, features=features)\n",
    "\n",
    "        predictions_1 = knn_model.knn_classifier(data_val_stand, data_train_stand, k=k)['Predicted Class']\n",
    "        score_1 = Evaluation().zero_one_loss(data_val_stand[config['target_column']], predictions_1)\n",
    "        scores.append(score_1)\n",
    "\n",
    "    average_score = sum(scores) / len(scores)\n",
    "    print(f\"Average 0-1 Loss score with k={k}: {average_score}\")\n",
    "    scores_dict[k] = average_score\n",
    "\n",
    "best_k = min(scores_dict, key=scores_dict.get)\n",
    "print(f\"Best k is {best_k} with the lowest average 0-1 loss score of {scores_dict[best_k]}\")\n"
   ]
  },
  {
   "cell_type": "markdown",
   "metadata": {},
   "source": [
    "### Model Performance ###"
   ]
  },
  {
   "cell_type": "code",
   "execution_count": 11,
   "metadata": {},
   "outputs": [
    {
     "name": "stdout",
     "output_type": "stream",
     "text": [
      "Average null model 0-1 loss score: 0.2945007235890015\n",
      "Average null model Precision score: 0.4977297525974856\n",
      "Average null model Recall score: 0.7054992764109985\n",
      "Average null model F1 score: 0.5836758958553583\n",
      "Average KNN 0-1 score for k=7: 0.08234442836468886\n",
      "Average Precision score for k=7: 0.9211448749155886\n",
      "Average Recall score for k=7: 0.9176555716353111\n",
      "Average F1 score for k=7: 0.9167392510425749\n"
     ]
    }
   ],
   "source": [
    "zero_one_loss_scores = []\n",
    "precision_scores = []\n",
    "recall_scores = []\n",
    "f1_scores = []\n",
    "null_model_scores = []\n",
    "\n",
    "# Lists to store null model metrics\n",
    "null_model_precision_scores = []\n",
    "null_model_recall_scores = []\n",
    "null_model_f1_scores = []\n",
    "\n",
    "for i, (train_set, test_set) in enumerate(cross_validator.cross_validation(data_train, n_splits=2, n_repeats=5, random_state=42, stratify=True)):\n",
    "    \n",
    "    condesed_train_set = knn_model.condensed_knn_classification(train_set)\n",
    "\n",
    "    data_test_stand = data_processor.standardize_data(condesed_train_set, test_set, features=features)\n",
    "    data_train_stand = data_processor.standardize_data(condesed_train_set,condesed_train_set, features=features)\n",
    "\n",
    "    # Train and evaluate \n",
    "    predictions_1 = knn_model.knn_classifier(data_test_stand, data_train_stand, k=best_k)['Predicted Class']\n",
    "    \n",
    "    zero_one_loss_score = Evaluation.zero_one_loss(data_test_stand[config['target_column']], predictions_1)\n",
    "    precision_score = Evaluation.precision(data_test_stand[config['target_column']], predictions_1)\n",
    "    recall_score = Evaluation.recall(data_test_stand[config['target_column']], predictions_1)\n",
    "    f1_score = Evaluation.f1_score(data_test_stand[config['target_column']], predictions_1)\n",
    "    \n",
    "    zero_one_loss_scores.append(zero_one_loss_score)\n",
    "    precision_scores.append(precision_score)\n",
    "    recall_scores.append(recall_score)\n",
    "    f1_scores.append(f1_score)\n",
    "\n",
    "    # Evaluate null model\n",
    "    null_model_prediction = null_model.naive_classifier(test_set)\n",
    "    null_model_zero_one_loss = Evaluation.zero_one_loss(test_set[config['target_column']], null_model_prediction)\n",
    "    null_model_precision = Evaluation.precision(test_set[config['target_column']], null_model_prediction)\n",
    "    null_model_recall = Evaluation.recall(test_set[config['target_column']], null_model_prediction)\n",
    "    null_model_f1 = Evaluation.f1_score(test_set[config['target_column']], null_model_prediction)\n",
    "    \n",
    "    null_model_scores.append(null_model_zero_one_loss)\n",
    "    null_model_precision_scores.append(null_model_precision)\n",
    "    null_model_recall_scores.append(null_model_recall)\n",
    "    null_model_f1_scores.append(null_model_f1)\n",
    "\n",
    "average_01_score = sum(zero_one_loss_scores) / len(zero_one_loss_scores)\n",
    "average_precision_score = sum(precision_scores) / len(precision_scores)\n",
    "average_recall_score = sum(recall_scores) / len(recall_scores)\n",
    "average_f1_score = sum(f1_scores) / len(f1_scores)\n",
    "average_null_model_score = sum(null_model_scores) / len(null_model_scores)\n",
    "average_null_model_precision = sum(null_model_precision_scores) / len(null_model_precision_scores)\n",
    "average_null_model_recall = sum(null_model_recall_scores) / len(null_model_recall_scores)\n",
    "average_null_model_f1 = sum(null_model_f1_scores) / len(null_model_f1_scores)\n",
    "\n",
    "print(f\"Average null model 0-1 loss score: {average_null_model_score}\")\n",
    "print(f\"Average null model Precision score: {average_null_model_precision}\")\n",
    "print(f\"Average null model Recall score: {average_null_model_recall}\")\n",
    "print(f\"Average null model F1 score: {average_null_model_f1}\")\n",
    "print(f\"Average KNN 0-1 score for k={best_k}: {average_01_score}\")\n",
    "print(f\"Average Precision score for k={best_k}: {average_precision_score}\")\n",
    "print(f\"Average Recall score for k={best_k}: {average_recall_score}\")\n",
    "print(f\"Average F1 score for k={best_k}: {average_f1_score}\")\n"
   ]
  }
 ],
 "metadata": {
  "kernelspec": {
   "display_name": "Python 3",
   "language": "python",
   "name": "python3"
  },
  "language_info": {
   "codemirror_mode": {
    "name": "ipython",
    "version": 3
   },
   "file_extension": ".py",
   "mimetype": "text/x-python",
   "name": "python",
   "nbconvert_exporter": "python",
   "pygments_lexer": "ipython3",
   "version": "3.9.1"
  }
 },
 "nbformat": 4,
 "nbformat_minor": 2
}
